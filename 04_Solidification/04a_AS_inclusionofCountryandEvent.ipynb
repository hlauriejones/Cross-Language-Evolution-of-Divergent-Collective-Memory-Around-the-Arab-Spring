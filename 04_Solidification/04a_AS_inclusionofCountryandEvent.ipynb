{
 "cells": [
  {
   "cell_type": "markdown",
   "id": "488055b0",
   "metadata": {},
   "source": [
    "## 04a - Arab Spring Inclusion as Outlink\n",
    "This goes throuhg and determines what times the Arabic Spring page includes the countries and events\n",
    "\n",
    "import:\n",
    "\n",
    "    00_en_as_rev_outlinks_m.pkl\n",
    "    00_en_as_rev_time_m.pkl\n",
    "\n",
    "    00_ar_as_rev_outlinks_m.pkl\n",
    "    00_ar_as_rev_time_m.pkl\n",
    "    03b_ILLdf_ar.pkl\n",
    "    \n",
    "output:\n",
    "\n",
    "    Visuals/03c_ILLlineChart.png\n",
    "    Visuals/03c_ILLlineChart_ar.png\n",
    "    \n",
    "    \n",
    "    \n",
    "The Plan:\n",
    "- this goes through and does some initial work with the outlinks \n",
    "- it grabs all of the outlinks in the english and arabic versions of the arab spring\n",
    "- organize them by ones that are only in each language. \n",
    "- identify ones that are in both by if there were english outlinks\n",
    "- that had an arabic ILL and if that arabic ILL was also an outlink\n",
    "\n",
    "\n",
    "1. English\n",
    "2. Arabic"
   ]
  },
  {
   "cell_type": "code",
   "execution_count": null,
   "id": "5c7a6b57",
   "metadata": {},
   "outputs": [],
   "source": []
  },
  {
   "cell_type": "code",
   "execution_count": 1,
   "id": "6ba202ae",
   "metadata": {},
   "outputs": [],
   "source": [
    "import numpy as np\n",
    "import pandas as pd\n",
    "\n",
    "import json, requests\n",
    "\n",
    "import networkx as nx\n",
    "import os\n",
    "import pickle\n",
    "\n",
    "import matplotlib\n",
    "import matplotlib.pyplot as plt\n",
    "import matplotlib.dates as mdates"
   ]
  },
  {
   "cell_type": "code",
   "execution_count": null,
   "id": "64ffc783",
   "metadata": {},
   "outputs": [],
   "source": [
    "## 1. English"
   ]
  },
  {
   "cell_type": "markdown",
   "id": "ce448f73",
   "metadata": {},
   "source": [
    "### 1a. Get English Data"
   ]
  },
  {
   "cell_type": "code",
   "execution_count": 2,
   "id": "d392efaa",
   "metadata": {},
   "outputs": [],
   "source": [
    "#gets the outlink specific time:revid\n",
    "with open('../Data/00_en_as_rev_time_m.pkl', 'rb') as pickleFile:\n",
    "    time_revids = pickle.load(pickleFile)\n",
    "\n",
    "#gets the outlink specific revid:outlinks \n",
    "with open('../Data/00_en_as_rev_outlinks_m.pkl', 'rb') as pickleFile:\n",
    "     revid_outlinks = pickle.load(pickleFile)"
   ]
  },
  {
   "cell_type": "code",
   "execution_count": 6,
   "id": "bd83cb67",
   "metadata": {},
   "outputs": [],
   "source": [
    "# time_revids"
   ]
  },
  {
   "cell_type": "code",
   "execution_count": null,
   "id": "b3d9afd4",
   "metadata": {},
   "outputs": [],
   "source": [
    "# revid_outlinks"
   ]
  },
  {
   "cell_type": "markdown",
   "id": "d8635bd2",
   "metadata": {},
   "source": []
  },
  {
   "cell_type": "markdown",
   "id": "d4f11a27",
   "metadata": {},
   "source": [
    "### 1b. English Countries"
   ]
  },
  {
   "cell_type": "code",
   "execution_count": 8,
   "id": "4ae17729",
   "metadata": {},
   "outputs": [],
   "source": [
    "countrylyst = ['Tunisia', 'Egypt', 'Libya', 'Yemen', 'Syria', 'Bahrain', 'Algeria',  'Iraq', 'Jordan', 'Morocco', 'Oman']"
   ]
  },
  {
   "cell_type": "code",
   "execution_count": 38,
   "id": "af3f6310",
   "metadata": {},
   "outputs": [],
   "source": [
    "#get all of the timestamps in which the arab spring includes the evnets in countrylyst\n",
    "\n",
    "countryTimes = {}\n",
    "firstTimes = {}\n",
    "\n",
    "for place in countrylyst:\n",
    "    # print(place)\n",
    "            \n",
    "    #get all of the revids that contain 'Arab Spring' in their outlinks\n",
    "    revidlyst = []\n",
    "    for revid, outlinks in revid_outlinks.items():\n",
    "        for link in outlinks:\n",
    "            if link == place:\n",
    "                revidlyst.append(revid)\n",
    "                \n",
    "    # make the list unique\n",
    "    revidlyst_unique = set(revidlyst)\n",
    "    \n",
    "    inclusionTimes = []\n",
    "    for i in revidlyst_unique:\n",
    "        rev_time = time_revids[time_revids == i].index[0]\n",
    "        inclusionTimes.append(rev_time)\n",
    "        \n",
    "    inclusionTimes.sort()   \n",
    "\n",
    "    \n",
    "    firstTimes[place] = inclusionTimes[0]\n",
    "    countryTimes[place] = inclusionTimes"
   ]
  },
  {
   "cell_type": "code",
   "execution_count": null,
   "id": "b1f1cea9",
   "metadata": {},
   "outputs": [
    {
     "data": {
      "text/plain": [
       "[Timestamp('2011-01-31 00:00:00+0000', tz='UTC', freq='M'),\n",
       " Timestamp('2011-02-28 00:00:00+0000', tz='UTC', freq='M'),\n",
       " Timestamp('2011-05-31 00:00:00+0000', tz='UTC', freq='M'),\n",
       " Timestamp('2011-06-30 00:00:00+0000', tz='UTC', freq='M'),\n",
       " Timestamp('2011-07-31 00:00:00+0000', tz='UTC', freq='M')]"
      ]
     },
     "execution_count": 10,
     "metadata": {},
     "output_type": "execute_result"
    }
   ],
   "source": [
    "#check\n",
    "# countryTimes['Tunisia'][0:5]"
   ]
  },
  {
   "cell_type": "markdown",
   "id": "fabbeecb",
   "metadata": {},
   "source": []
  },
  {
   "cell_type": "code",
   "execution_count": 39,
   "id": "57e564ff",
   "metadata": {},
   "outputs": [],
   "source": [
    "# Break up the start and end times\n",
    "\n",
    "countryDF_final = pd.DataFrame(columns = ['event', 'start', 'end'])\n",
    "\n",
    "for place in countryTimes.keys():\n",
    "    startTimes = []\n",
    "    endTimes = []\n",
    "\n",
    "    start = firstTimes[place]\n",
    "    startTimes.append(start)\n",
    "    \n",
    "    first = countryTimes[place][0]\n",
    "    final = countryTimes[place][-1:]\n",
    "\n",
    "    currTime = start\n",
    "    #get start and end dates\n",
    "    #go through all the dates in Tunisia\n",
    "    for date in countryTimes[place]:\n",
    "\n",
    "        month_from_start = pd.Timestamp(start) + pd.offsets.MonthEnd(n=1)\n",
    "\n",
    "        #if it reaches the end add it to the endTimes\n",
    "        if date in final:\n",
    "            endTimes.append(date)\n",
    "\n",
    "        if date == first:\n",
    "            pass\n",
    "\n",
    "        #if a month is skipped, end the last one with the start(or previous date)\n",
    "        #start a new section with the new one\n",
    "        elif date == month_from_start:\n",
    "    #         print('----pass')\n",
    "            pass\n",
    "\n",
    "        #if it is one month after the 'start' - then pass\n",
    "        else: \n",
    "            endTimes.append(start)\n",
    "            startTimes.append(date)\n",
    "\n",
    "    #     #if it is not then go back and put end\n",
    "        start = date\n",
    "        \n",
    "    #make dataframe\n",
    "    countryDict = pd.DataFrame(columns = ['event', 'start', 'end'])\n",
    "    \n",
    "    \n",
    "    countryDict['start'] = startTimes\n",
    "    countryDict['end'] = endTimes\n",
    "    countryDict['event'] = place\n",
    "#     print(countryDict)\n",
    "    \n",
    "    countryDF_final = pd.concat([countryDF_final,countryDict])\n",
    "    "
   ]
  },
  {
   "cell_type": "code",
   "execution_count": null,
   "id": "3eb75636",
   "metadata": {},
   "outputs": [
    {
     "data": {
      "text/html": [
       "<div>\n",
       "<style scoped>\n",
       "    .dataframe tbody tr th:only-of-type {\n",
       "        vertical-align: middle;\n",
       "    }\n",
       "\n",
       "    .dataframe tbody tr th {\n",
       "        vertical-align: top;\n",
       "    }\n",
       "\n",
       "    .dataframe thead th {\n",
       "        text-align: right;\n",
       "    }\n",
       "</style>\n",
       "<table border=\"1\" class=\"dataframe\">\n",
       "  <thead>\n",
       "    <tr style=\"text-align: right;\">\n",
       "      <th></th>\n",
       "      <th>event</th>\n",
       "      <th>start</th>\n",
       "      <th>end</th>\n",
       "    </tr>\n",
       "  </thead>\n",
       "  <tbody>\n",
       "    <tr>\n",
       "      <th>0</th>\n",
       "      <td>Tunisia</td>\n",
       "      <td>2011-01-31 00:00:00+00:00</td>\n",
       "      <td>2011-02-28 00:00:00+00:00</td>\n",
       "    </tr>\n",
       "    <tr>\n",
       "      <th>1</th>\n",
       "      <td>Tunisia</td>\n",
       "      <td>2011-05-31 00:00:00+00:00</td>\n",
       "      <td>2013-06-30 00:00:00+00:00</td>\n",
       "    </tr>\n",
       "    <tr>\n",
       "      <th>2</th>\n",
       "      <td>Tunisia</td>\n",
       "      <td>2013-08-31 00:00:00+00:00</td>\n",
       "      <td>2018-02-28 00:00:00+00:00</td>\n",
       "    </tr>\n",
       "    <tr>\n",
       "      <th>3</th>\n",
       "      <td>Tunisia</td>\n",
       "      <td>2018-04-30 00:00:00+00:00</td>\n",
       "      <td>2024-06-30 00:00:00+00:00</td>\n",
       "    </tr>\n",
       "    <tr>\n",
       "      <th>0</th>\n",
       "      <td>Egypt</td>\n",
       "      <td>2011-01-31 00:00:00+00:00</td>\n",
       "      <td>2011-03-31 00:00:00+00:00</td>\n",
       "    </tr>\n",
       "  </tbody>\n",
       "</table>\n",
       "</div>"
      ],
      "text/plain": [
       "     event                      start                        end\n",
       "0  Tunisia  2011-01-31 00:00:00+00:00  2011-02-28 00:00:00+00:00\n",
       "1  Tunisia  2011-05-31 00:00:00+00:00  2013-06-30 00:00:00+00:00\n",
       "2  Tunisia  2013-08-31 00:00:00+00:00  2018-02-28 00:00:00+00:00\n",
       "3  Tunisia  2018-04-30 00:00:00+00:00  2024-06-30 00:00:00+00:00\n",
       "0    Egypt  2011-01-31 00:00:00+00:00  2011-03-31 00:00:00+00:00"
      ]
     },
     "execution_count": 14,
     "metadata": {},
     "output_type": "execute_result"
    }
   ],
   "source": [
    "# countryDF_final.head()"
   ]
  },
  {
   "cell_type": "markdown",
   "id": "702b117d",
   "metadata": {},
   "source": [
    "### 1b. Plot English Country Inclusion"
   ]
  },
  {
   "cell_type": "code",
   "execution_count": 34,
   "id": "518f1d51",
   "metadata": {},
   "outputs": [
    {
     "data": {
      "image/png": "[encoded data removed]",
      "text/plain": [
       "<Figure size 432x288 with 1 Axes>"
      ]
     },
     "metadata": {
      "needs_background": "light"
     },
     "output_type": "display_data"
    }
   ],
   "source": [
    "fig, ax = plt.subplots()\n",
    "colorLyst = ['#001219', '#005f73', '#0a9396', '#94d2bd', '#e9d8a6', '#ee9b00', '#ca6702', '#bb3e03', '#ae2012', '#9b2226', '#d90429' ]\n",
    "\n",
    "j = 0\n",
    "ystart = 0.65\n",
    "width = 0.6\n",
    "for country in countrylyst:\n",
    "    xrangeLyst = []\n",
    "    \n",
    "    #get the sub df\n",
    "    df = countryDF_final.loc[countryDF_final['event'] == str(country)].reset_index()\n",
    "#     print(df)\n",
    "\n",
    "    for i in range(len(df)):\n",
    "#         print(df['start'])\n",
    "#         print(i)\n",
    "        x = df['start'][i]\n",
    "        y = df['end'][i]- df['start'][i]\n",
    "        xrangeLyst.append((x,y))\n",
    "\n",
    "    ax.broken_barh(xranges = xrangeLyst, yrange=(ystart,width), facecolors = colorLyst[j])\n",
    "    j = j +1\n",
    "    ystart = ystart + 1\n",
    "                   \n",
    "\n",
    "\n",
    "# ax.set_title('When Country Wikipedia Pages Include the Arab Spring')\n",
    "# ax.set_xlabel('Time')\n",
    "# ax.legend(labels=eventsLyst, fontsize=11, loc='center left', bbox_to_anchor=(1, 0.5))\n",
    "\n",
    "\n",
    "plt.yticks([1,2,3,4,5,6,7,8,9,10,11], labels=countrylyst)\n",
    "ax.set_title('When Country Wikipedia Pages Include the Arab Spring- English')\n",
    "\n",
    "xfmt = mdates.DateFormatter('%Y')\n",
    "ax.set_xlabel('Time')\n",
    "ax.xaxis.set_major_formatter(xfmt)\n",
    "ax.set_xticks(['2011', '2013', '2015', '2017', '2019', '2021', '2023'])\n",
    "\n",
    "plt.savefig(\"04_Visuals/04a_eventInclusionofAS.pdf\")\n",
    "# \n",
    "plt.show()"
   ]
  },
  {
   "cell_type": "markdown",
   "id": "c38c440e",
   "metadata": {},
   "source": [
    "## 2. English Events"
   ]
  },
  {
   "cell_type": "code",
   "execution_count": 22,
   "id": "d01de034",
   "metadata": {},
   "outputs": [],
   "source": [
    "eventsLyst = ['Tunisian Revolution', '2011 Egyptian revolution', 'Libyan civil war (2011)',  'Yemeni Revolution', 'Syrian revolution', '2011 Bahraini uprising', '2010–2012 Algerian protests', '2011 Iraqi protests', '2011–2012 Jordanian protests', '2011–2012 Moroccan protests', '2011 Omani protests' ]"
   ]
  },
  {
   "cell_type": "code",
   "execution_count": 33,
   "id": "9d8a3e06",
   "metadata": {},
   "outputs": [
    {
     "name": "stdout",
     "output_type": "stream",
     "text": [
      "Tunisian Revolution\n",
      "[]\n",
      "2011 Egyptian revolution\n",
      "[410393753, 411278546, 416471292, 416471292, 421746845, 421746845, 426865693, 426865693, 431928008, 437240756, 437240756, 442458467, 447779336, 453390516, 458389010, 463454801, 468859852, 474355956, 479623648, 484927509, 490051378, 495452037, 500152311, 505217506, 510323737, 515401672, 521398852, 525844898, 530796473, 536303160, 541874982, 541874982, 548370708, 548370708, 553131214, 553131214, 557758267, 557758267, 566658623, 566658623, 571056910, 571056910, 575237699, 575237699, 579895106, 579895106, 584343077, 584343077, 588979494, 588979494, 593486940, 593486940, 598023158, 598023158, 602235611, 602235611, 606563583, 606563583, 611063416, 611063416, 615105901, 615105901, 619415663, 619415663, 624622786, 624622786, 627779738, 627779738, 632060302, 632060302, 636433295, 636433295, 640666175, 640666175, 645269429, 645269429, 649999253, 649999253, 654613983, 654613983, 660251514, 660251514, 665355075, 665355075, 670171204, 670171204, 674518120, 674518120, 678930962, 678930962, 684067690, 684067690, 689135933, 689135933, 693274730, 693274730, 698247102, 698247102, 702746433, 702746433, 707871355, 707871355, 713427704, 713427704, 718268233, 718268233, 723198152, 727895359, 732969347, 737210861, 742724060, 748302037, 753004402, 757733856, 763031768, 768526706, 774185826, 778079551, 783379759, 788419887, 793420384, 799620009, 805040635, 808314045, 813994279, 818264472, 824335255, 834057906, 839748113, 844468269, 848784675, 854090097, 859640473, 862086415, 868405450, 872618424, 876644653, 881658220, 885661830, 890444779, 895003456, 899802328, 904693230, 909388511, 915514728, 918976553, 925542741, 929316425, 933445899, 938766015, 944123323, 948977108, 954315444, 960191302, 965955998, 970588240, 976968685, 981764946, 986496959, 993976645, 998040478, 1004367031, 1011377591, 1016369144, 1021400312, 1027989084, 1032035814, 1037690669, 1042459163, 1047513885, 1053068637, 1058268536, 1063357881, 1069180865, 1074580231, 1081356161, 1086178592, 1091110540, 1098094218, 1101675628, 1107818686, 1113980990, 1120593625, 1124986313, 1132377271, 1137647276, 1144381751, 1147628102, 1152704279, 1160397894, 1163298599, 1168891916, 1174011981, 1179318598, 1183083811, 1188823099, 1193520664, 1203198924, 1211702017, 1216904430, 1222164923, 1227118198]\n",
      "Libyan civil war (2011)\n",
      "[416471292, 421746845, 426865693, 431928008, 431928008, 437240756, 437240756, 437240756, 442458467, 442458467, 447779336, 447779336, 453390516, 458389010, 463454801, 468859852, 636433295, 640666175, 645269429, 649999253, 654613983, 660251514, 665355075, 670171204, 674518120, 678930962, 684067690, 689135933, 693274730, 698247102, 702746433, 707871355, 713427704, 718268233, 723198152, 727895359, 732969347, 737210861, 742724060, 748302037, 753004402, 757733856, 763031768, 768526706, 774185826, 778079551, 783379759, 788419887, 793420384, 799620009, 805040635, 808314045, 813994279, 818264472, 824335255, 834057906, 839748113, 844468269, 848784675, 854090097, 859640473, 862086415, 868405450, 872618424, 876644653, 881658220, 885661830, 890444779, 895003456, 899802328, 904693230, 909388511, 915514728, 918976553, 925542741, 929316425, 933445899, 938766015, 944123323, 948977108, 954315444, 960191302, 965955998, 970588240, 976968685, 981764946, 986496959, 993976645, 998040478, 1004367031, 1011377591, 1016369144, 1016369144, 1021400312, 1027989084, 1032035814, 1037690669, 1042459163, 1047513885, 1047513885, 1053068637, 1053068637, 1058268536, 1058268536, 1063357881, 1063357881, 1069180865, 1069180865, 1074580231, 1074580231, 1081356161, 1081356161, 1086178592, 1086178592, 1091110540, 1091110540, 1098094218, 1098094218, 1101675628, 1101675628, 1107818686, 1107818686, 1113980990, 1113980990, 1120593625, 1120593625, 1124986313, 1124986313, 1132377271, 1132377271, 1137647276, 1137647276, 1144381751, 1144381751, 1147628102, 1147628102, 1152704279, 1152704279, 1160397894, 1160397894, 1163298599, 1163298599, 1168891916, 1168891916, 1174011981, 1174011981, 1179318598, 1179318598, 1183083811, 1183083811, 1188823099, 1188823099, 1193520664, 1193520664, 1203198924, 1203198924, 1211702017, 1211702017, 1216904430, 1216904430, 1222164923, 1222164923, 1227118198, 1227118198]\n",
      "Yemeni Revolution\n",
      "[]\n",
      "Syrian revolution\n",
      "[416471292, 421746845, 426865693, 431928008, 437240756, 437240756, 442458467, 442458467, 442458467, 447779336, 447779336, 447779336, 453390516, 453390516, 453390516, 453390516, 458389010, 458389010, 458389010, 463454801, 463454801, 463454801, 468859852, 468859852, 468859852, 660251514, 665355075, 670171204, 674518120, 678930962, 684067690, 689135933, 693274730, 698247102, 702746433, 707871355, 713427704, 718268233, 723198152, 727895359, 732969347, 737210861, 742724060, 748302037, 753004402, 757733856, 763031768, 768526706, 774185826, 778079551, 783379759, 788419887, 793420384, 799620009, 805040635, 808314045, 813994279, 818264472, 824335255, 834057906, 839748113, 844468269, 848784675, 854090097, 859640473, 862086415, 868405450, 872618424, 876644653, 881658220, 885661830, 890444779, 895003456, 899802328, 904693230, 909388511, 915514728, 918976553, 925542741, 929316425, 933445899, 938766015, 944123323, 948977108, 954315444, 960191302, 965955998, 970588240, 976968685, 981764946, 986496959, 993976645, 998040478, 1004367031, 1011377591, 1016369144, 1016369144, 1021400312, 1027989084, 1032035814, 1037690669, 1042459163, 1047513885, 1053068637, 1058268536, 1063357881, 1069180865, 1074580231, 1081356161, 1086178592, 1091110540, 1098094218, 1101675628, 1107818686, 1113980990, 1120593625, 1124986313, 1132377271, 1137647276, 1144381751, 1147628102, 1152704279, 1160397894, 1163298599, 1168891916, 1174011981, 1179318598, 1183083811, 1188823099, 1193520664, 1203198924, 1211702017, 1216904430, 1222164923, 1227118198]\n",
      "2011 Bahraini uprising\n",
      "[416471292, 421746845, 421746845, 426865693, 426865693, 431928008, 431928008, 437240756, 437240756, 437240756, 442458467, 442458467, 442458467, 447779336, 447779336, 447779336, 453390516, 453390516, 453390516, 458389010, 458389010, 458389010, 463454801, 463454801, 463454801, 468859852, 468859852, 468859852, 474355956, 474355956, 479623648, 479623648, 484927509, 484927509, 490051378, 490051378, 495452037, 495452037, 500152311, 500152311, 505217506, 505217506, 510323737, 510323737, 515401672, 515401672, 521398852, 521398852, 525844898, 525844898, 530796473, 530796473, 536303160, 536303160, 541874982, 541874982, 548370708, 548370708, 553131214, 553131214, 557758267, 557758267, 566658623, 566658623, 571056910, 571056910, 575237699, 575237699, 579895106, 579895106, 584343077, 584343077, 588979494, 588979494, 593486940, 593486940, 598023158, 598023158, 602235611, 602235611, 606563583, 606563583, 611063416, 611063416, 615105901, 615105901, 619415663, 619415663, 624622786, 624622786, 627779738, 627779738, 632060302, 632060302, 636433295, 636433295, 640666175, 640666175, 645269429, 645269429, 649999253, 649999253, 654613983, 654613983, 660251514, 660251514, 665355075, 665355075, 670171204, 670171204, 674518120, 674518120, 678930962, 678930962, 684067690, 684067690, 689135933, 689135933, 693274730, 693274730, 698247102, 698247102, 702746433, 702746433, 707871355, 707871355, 713427704, 718268233, 723198152, 727895359, 732969347, 737210861, 742724060, 748302037, 753004402, 757733856, 763031768, 768526706, 774185826, 778079551, 783379759, 788419887, 793420384, 799620009, 805040635, 808314045, 813994279, 818264472, 824335255, 834057906, 839748113, 844468269, 848784675, 854090097, 859640473, 862086415, 868405450, 872618424, 876644653, 881658220, 885661830, 890444779, 895003456, 899802328, 904693230, 909388511, 915514728, 918976553, 925542741, 929316425, 933445899, 938766015, 944123323, 948977108, 954315444, 960191302, 965955998, 970588240, 976968685, 981764946, 986496959, 993976645, 998040478, 1004367031, 1011377591, 1016369144, 1016369144, 1021400312, 1027989084, 1032035814, 1037690669, 1042459163, 1047513885, 1047513885, 1053068637, 1053068637, 1058268536, 1058268536, 1063357881, 1063357881, 1069180865, 1069180865, 1074580231, 1074580231, 1081356161, 1081356161, 1086178592, 1086178592, 1091110540, 1091110540, 1098094218, 1098094218, 1101675628, 1101675628, 1107818686, 1107818686, 1113980990, 1113980990, 1120593625, 1120593625, 1124986313, 1124986313, 1132377271, 1132377271, 1137647276, 1137647276, 1144381751, 1144381751, 1147628102, 1147628102, 1152704279, 1152704279, 1160397894, 1160397894, 1163298599, 1163298599, 1168891916, 1168891916, 1174011981, 1174011981, 1179318598, 1179318598, 1183083811, 1183083811, 1188823099, 1188823099, 1193520664, 1193520664, 1203198924, 1203198924, 1211702017, 1211702017, 1216904430, 1216904430, 1222164923, 1222164923, 1227118198, 1227118198]\n",
      "2010–2012 Algerian protests\n",
      "[410393753, 411278546, 416471292, 421746845, 426865693, 431928008, 437240756, 442458467, 447779336, 453390516, 458389010, 463454801, 468859852, 474355956, 479623648, 484927509, 490051378, 495452037, 500152311, 505217506, 510323737, 515401672, 521398852, 525844898, 530796473, 536303160, 541874982, 548370708, 553131214, 557758267, 566658623, 571056910, 575237699, 579895106, 584343077, 588979494, 593486940, 598023158, 602235611, 606563583, 611063416, 615105901, 619415663, 624622786, 627779738, 632060302, 636433295, 640666175, 645269429, 649999253, 654613983, 660251514, 665355075, 670171204, 674518120, 678930962, 684067690, 689135933, 693274730, 698247102, 702746433, 707871355, 713427704, 718268233, 723198152, 727895359, 732969347, 737210861, 742724060, 748302037, 753004402, 757733856, 763031768, 768526706, 774185826, 778079551, 783379759, 788419887, 793420384, 799620009, 805040635, 808314045, 813994279, 818264472, 824335255, 834057906, 839748113, 844468269, 848784675, 854090097, 859640473, 862086415, 868405450, 872618424, 876644653, 881658220, 885661830, 890444779, 895003456, 899802328, 904693230, 909388511, 915514728, 918976553, 925542741, 929316425, 933445899, 938766015, 944123323, 948977108, 954315444, 960191302, 965955998, 970588240, 976968685, 981764946, 986496959, 993976645, 998040478, 1004367031, 1011377591, 1016369144, 1021400312, 1027989084, 1032035814, 1037690669, 1042459163, 1047513885, 1047513885, 1053068637, 1053068637, 1058268536, 1058268536, 1063357881, 1063357881, 1069180865, 1069180865, 1074580231, 1074580231, 1081356161, 1081356161, 1086178592, 1086178592, 1091110540, 1091110540, 1098094218, 1098094218, 1101675628, 1101675628, 1107818686, 1107818686, 1113980990, 1113980990, 1120593625, 1120593625, 1124986313, 1124986313, 1132377271, 1132377271, 1137647276, 1137647276, 1144381751, 1144381751, 1147628102, 1147628102, 1152704279, 1152704279, 1160397894, 1160397894, 1163298599, 1163298599, 1168891916, 1168891916, 1174011981, 1174011981, 1179318598, 1179318598, 1183083811, 1183083811, 1188823099, 1188823099, 1193520664, 1193520664, 1203198924, 1203198924, 1211702017, 1211702017, 1216904430, 1216904430, 1222164923, 1222164923, 1227118198, 1227118198]\n",
      "2011 Iraqi protests\n",
      "[416471292, 421746845, 426865693, 426865693, 431928008, 431928008, 437240756, 437240756, 442458467, 442458467, 447779336, 447779336, 453390516, 453390516, 458389010, 458389010, 463454801, 463454801, 468859852, 468859852, 474355956, 474355956, 479623648, 479623648, 484927509, 490051378, 495452037, 500152311, 505217506, 510323737, 515401672, 521398852, 525844898, 530796473, 536303160, 541874982, 548370708, 553131214, 557758267, 566658623, 571056910, 575237699, 579895106, 584343077, 588979494, 593486940, 598023158, 602235611, 606563583, 611063416, 615105901, 619415663, 624622786, 627779738, 632060302, 636433295, 640666175, 645269429, 649999253, 654613983, 660251514, 665355075, 670171204, 674518120, 678930962, 684067690, 689135933, 693274730, 698247102, 702746433, 707871355, 713427704, 718268233, 723198152, 727895359, 732969347, 737210861, 742724060, 748302037, 753004402, 757733856, 763031768, 768526706, 774185826, 778079551, 783379759, 788419887, 793420384, 799620009, 805040635, 808314045, 813994279, 818264472, 824335255, 834057906, 839748113, 844468269, 848784675, 854090097, 859640473, 862086415, 868405450, 872618424, 876644653, 881658220, 885661830, 890444779, 895003456, 899802328, 904693230, 909388511, 915514728, 918976553, 925542741, 929316425, 933445899, 938766015, 944123323, 948977108, 954315444, 960191302, 965955998, 970588240, 976968685, 981764946, 986496959, 993976645, 998040478, 1004367031, 1011377591, 1016369144, 1021400312, 1027989084, 1032035814, 1037690669, 1042459163, 1047513885, 1047513885, 1053068637, 1053068637, 1058268536, 1058268536, 1063357881, 1063357881, 1069180865, 1069180865, 1074580231, 1074580231, 1081356161, 1081356161, 1086178592, 1086178592, 1091110540, 1091110540, 1098094218, 1098094218, 1101675628, 1101675628, 1107818686, 1107818686, 1113980990, 1113980990, 1120593625, 1120593625, 1124986313, 1124986313, 1132377271, 1132377271, 1137647276, 1137647276, 1144381751, 1144381751, 1147628102, 1147628102, 1152704279, 1152704279, 1160397894, 1160397894, 1163298599, 1163298599, 1168891916, 1168891916, 1174011981, 1174011981, 1179318598, 1179318598, 1183083811, 1183083811, 1188823099, 1188823099, 1193520664, 1193520664, 1203198924, 1203198924, 1211702017, 1211702017, 1216904430, 1216904430, 1222164923, 1222164923, 1227118198, 1227118198]\n",
      "2011–2012 Jordanian protests\n",
      "[411278546, 416471292, 421746845, 426865693, 431928008, 437240756, 442458467, 447779336, 453390516, 458389010, 463454801, 468859852, 474355956, 479623648, 484927509, 490051378, 495452037, 500152311, 505217506, 510323737, 515401672, 521398852, 525844898, 530796473, 536303160, 541874982, 548370708, 553131214, 557758267, 566658623, 571056910, 575237699, 579895106, 584343077, 588979494, 593486940, 598023158, 602235611, 606563583, 611063416, 615105901, 619415663, 624622786, 627779738, 632060302, 636433295, 640666175, 645269429, 649999253, 654613983, 660251514, 665355075, 670171204, 674518120, 678930962, 684067690, 689135933, 693274730, 698247102, 702746433, 707871355, 713427704, 718268233, 723198152, 727895359, 732969347, 737210861, 742724060, 748302037, 753004402, 757733856, 763031768, 768526706, 774185826, 778079551, 783379759, 788419887, 793420384, 799620009, 805040635, 808314045, 813994279, 818264472, 824335255, 834057906, 839748113, 844468269, 848784675, 854090097, 859640473, 862086415, 868405450, 872618424, 876644653, 881658220, 885661830, 890444779, 895003456, 899802328, 904693230, 909388511, 915514728, 918976553, 925542741, 929316425, 933445899, 938766015, 944123323, 948977108, 954315444, 960191302, 965955998, 970588240, 976968685, 981764946, 986496959, 993976645, 998040478, 1004367031, 1011377591, 1016369144, 1021400312, 1027989084, 1032035814, 1037690669, 1042459163, 1047513885, 1047513885, 1053068637, 1053068637, 1058268536, 1058268536, 1063357881, 1063357881, 1069180865, 1069180865, 1074580231, 1074580231, 1081356161, 1081356161, 1086178592, 1086178592, 1091110540, 1091110540, 1098094218, 1098094218, 1101675628, 1101675628, 1107818686, 1107818686, 1113980990, 1113980990, 1120593625, 1120593625, 1124986313, 1124986313, 1132377271, 1132377271, 1137647276, 1137647276, 1144381751, 1144381751, 1147628102, 1147628102, 1152704279, 1152704279, 1160397894, 1160397894, 1163298599, 1163298599, 1168891916, 1168891916, 1174011981, 1174011981, 1179318598, 1179318598, 1183083811, 1183083811, 1188823099, 1188823099, 1193520664, 1193520664, 1203198924, 1203198924, 1211702017, 1211702017, 1216904430, 1216904430, 1222164923, 1222164923, 1227118198, 1227118198]\n",
      "2011–2012 Moroccan protests\n",
      "[416471292, 421746845, 426865693, 431928008, 437240756, 437240756, 442458467, 442458467, 447779336, 447779336, 453390516, 453390516, 458389010, 458389010, 463454801, 463454801, 468859852, 468859852, 474355956, 474355956, 479623648, 479623648, 484927509, 484927509, 490051378, 490051378, 495452037, 495452037, 500152311, 500152311, 505217506, 505217506, 510323737, 510323737, 515401672, 515401672, 521398852, 521398852, 525844898, 525844898, 530796473, 530796473, 536303160, 536303160, 541874982, 541874982, 548370708, 548370708, 553131214, 553131214, 557758267, 557758267, 566658623, 566658623, 571056910, 571056910, 575237699, 575237699, 579895106, 579895106, 584343077, 584343077, 588979494, 588979494, 593486940, 593486940, 598023158, 598023158, 602235611, 602235611, 606563583, 606563583, 611063416, 611063416, 615105901, 615105901, 619415663, 619415663, 624622786, 624622786, 627779738, 627779738, 632060302, 632060302, 636433295, 636433295, 640666175, 640666175, 645269429, 645269429, 649999253, 649999253, 654613983, 654613983, 660251514, 660251514, 665355075, 665355075, 670171204, 670171204, 674518120, 674518120, 678930962, 678930962, 684067690, 684067690, 689135933, 689135933, 693274730, 693274730, 698247102, 698247102, 702746433, 702746433, 707871355, 707871355, 713427704, 718268233, 723198152, 727895359, 732969347, 737210861, 742724060, 748302037, 753004402, 757733856, 763031768, 768526706, 774185826, 778079551, 783379759, 788419887, 793420384, 799620009, 805040635, 808314045, 813994279, 818264472, 824335255, 834057906, 839748113, 844468269, 848784675, 854090097, 859640473, 862086415, 868405450, 872618424, 876644653, 881658220, 885661830, 890444779, 895003456, 899802328, 904693230, 909388511, 915514728, 918976553, 925542741, 929316425, 933445899, 938766015, 944123323, 948977108, 954315444, 960191302, 965955998, 970588240, 976968685, 981764946, 986496959, 993976645, 998040478, 1004367031, 1011377591, 1016369144, 1021400312, 1027989084, 1032035814, 1037690669, 1042459163, 1047513885, 1047513885, 1053068637, 1053068637, 1058268536, 1058268536, 1063357881, 1063357881, 1069180865, 1069180865, 1074580231, 1074580231, 1081356161, 1081356161, 1086178592, 1086178592, 1091110540, 1091110540, 1098094218, 1098094218, 1101675628, 1101675628, 1107818686, 1107818686, 1113980990, 1113980990, 1120593625, 1120593625, 1124986313, 1124986313, 1132377271, 1132377271, 1137647276, 1137647276, 1144381751, 1144381751, 1147628102, 1147628102, 1152704279, 1152704279, 1160397894, 1160397894, 1163298599, 1163298599, 1168891916, 1168891916, 1174011981, 1174011981, 1179318598, 1179318598, 1183083811, 1183083811, 1188823099, 1188823099, 1193520664, 1193520664, 1203198924, 1203198924, 1211702017, 1211702017, 1216904430, 1216904430, 1222164923, 1222164923, 1227118198, 1227118198]\n",
      "2011 Omani protests\n",
      "[416471292, 421746845, 426865693, 431928008, 437240756, 442458467, 447779336, 453390516, 458389010, 463454801, 468859852, 474355956, 479623648, 484927509, 490051378, 495452037, 500152311, 505217506, 510323737, 515401672, 521398852, 525844898, 530796473, 536303160, 541874982, 548370708, 553131214, 557758267, 566658623, 571056910, 575237699, 579895106, 584343077, 588979494, 593486940, 598023158, 602235611, 606563583, 611063416, 615105901, 619415663, 624622786, 627779738, 632060302, 636433295, 640666175, 645269429, 649999253, 654613983, 660251514, 665355075, 670171204, 674518120, 678930962, 684067690, 689135933, 693274730, 698247102, 702746433, 707871355, 713427704, 718268233, 723198152, 727895359, 732969347, 737210861, 742724060, 748302037, 753004402, 757733856, 763031768, 768526706, 774185826, 778079551, 783379759, 788419887, 793420384, 799620009, 805040635, 808314045, 813994279, 818264472, 824335255, 834057906, 839748113, 844468269, 848784675, 854090097, 859640473, 862086415, 868405450, 872618424, 876644653, 881658220, 885661830, 890444779, 895003456, 899802328, 904693230, 909388511, 915514728, 918976553, 925542741, 929316425, 933445899, 938766015, 944123323, 948977108, 954315444, 960191302, 965955998, 970588240, 976968685, 981764946, 986496959, 993976645, 998040478, 1004367031, 1011377591, 1016369144, 1021400312, 1027989084, 1032035814, 1037690669, 1042459163, 1047513885, 1047513885, 1053068637, 1053068637, 1058268536, 1058268536, 1063357881, 1063357881, 1069180865, 1069180865, 1074580231, 1074580231, 1081356161, 1081356161, 1086178592, 1086178592, 1091110540, 1091110540, 1098094218, 1098094218, 1101675628, 1101675628, 1107818686, 1107818686, 1113980990, 1113980990, 1120593625, 1120593625, 1124986313, 1124986313, 1132377271, 1132377271, 1137647276, 1137647276, 1144381751, 1144381751, 1147628102, 1147628102, 1152704279, 1152704279, 1160397894, 1160397894, 1163298599, 1163298599, 1168891916, 1168891916, 1174011981, 1174011981, 1179318598, 1179318598, 1183083811, 1183083811, 1188823099, 1188823099, 1193520664, 1193520664, 1203198924, 1203198924, 1211702017, 1211702017, 1216904430, 1216904430, 1222164923, 1222164923, 1227118198, 1227118198]\n"
     ]
    }
   ],
   "source": [
    "#get all of the timestamps in which the arab spring includes the evnets in events\n",
    "\n",
    "eventTimes = {}\n",
    "firstTimes_event = {}\n",
    "\n",
    "for place in eventsLyst:\n",
    "    print(place)\n",
    "            \n",
    "    #get all of the revids that contain 'Arab Spring' in their outlinks\n",
    "    revidlyst = []\n",
    "    for revid, outlinks in revid_outlinks.items():\n",
    "        for link in outlinks:\n",
    "            if link == place:\n",
    "                revidlyst.append(revid)\n",
    "\n",
    "    print(revidlyst)\n",
    "                \n",
    "    # make the list unique\n",
    "    revidlyst_unique = set(revidlyst)\n",
    "    \n",
    "    inclusionTimes = []\n",
    "    for i in revidlyst_unique:\n",
    "        rev_time = time_revids[time_revids == i].index[0]\n",
    "        inclusionTimes.append(rev_time)\n",
    "        \n",
    "    inclusionTimes.sort()   \n",
    "    # print(inclusionTimes)\n",
    "\n",
    "    if len(inclusionTimes) > 0:\n",
    "        firstTimes_event[place] = inclusionTimes[0]\n",
    "        eventTimes[place] = inclusionTimes\n",
    "\n",
    "    else:\n",
    "        pass\n",
    "        # firstTimes_event[place] = inclusionTimes[0]\n",
    "        # eventTimes[place] = inclusionTimes\n",
    "    "
   ]
  },
  {
   "cell_type": "code",
   "execution_count": 32,
   "id": "8a4e9928",
   "metadata": {},
   "outputs": [
    {
     "ename": "KeyError",
     "evalue": "'Tunisian Revolution'",
     "output_type": "error",
     "traceback": [
      "\u001b[0;31m---------------------------------------------------------------------------\u001b[0m",
      "\u001b[0;31mKeyError\u001b[0m                                  Traceback (most recent call last)",
      "\u001b[0;32m<ipython-input-32-d0e20b6a9e07>\u001b[0m in \u001b[0;36m<module>\u001b[0;34m\u001b[0m\n\u001b[0;32m----> 1\u001b[0;31m \u001b[0meventTimes\u001b[0m\u001b[0;34m[\u001b[0m\u001b[0;34m'Tunisian Revolution'\u001b[0m\u001b[0;34m]\u001b[0m\u001b[0;34m[\u001b[0m\u001b[0;36m0\u001b[0m\u001b[0;34m:\u001b[0m\u001b[0;36m5\u001b[0m\u001b[0;34m]\u001b[0m\u001b[0;34m\u001b[0m\u001b[0;34m\u001b[0m\u001b[0m\n\u001b[0m",
      "\u001b[0;31mKeyError\u001b[0m: 'Tunisian Revolution'"
     ]
    }
   ],
   "source": [
    "eventTimes['Tunisian Revolution'][0:5]"
   ]
  },
  {
   "cell_type": "code",
   "execution_count": 66,
   "id": "d04a28b7",
   "metadata": {},
   "outputs": [],
   "source": [
    "#break up start and end times\n",
    "\n",
    "eventDF_final = pd.DataFrame(columns = ['event', 'start', 'end'])\n",
    "\n",
    "for place in eventTimes.keys():\n",
    "    startTimes = []\n",
    "    endTimes = []\n",
    "\n",
    "    start = firstTimes_event[place]\n",
    "    startTimes.append(start)\n",
    "    \n",
    "    first = eventTimes[place][0]\n",
    "    final = eventTimes[place][-1:]\n",
    "\n",
    "    currTime = start\n",
    "    #get start and end dates\n",
    "    #go through all the dates in Tunisia\n",
    "    for date in eventTimes[place]:\n",
    "\n",
    "        month_from_start = pd.Timestamp(start) + pd.offsets.MonthEnd(n=1)\n",
    "\n",
    "        #if it reaches the end add it to the endTimes\n",
    "        if date in final:\n",
    "            endTimes.append(date)\n",
    "\n",
    "        if date == first:\n",
    "            pass\n",
    "\n",
    "        #if a month is skipped, end the last one with the start(or previous date)\n",
    "        #start a new section with the new one\n",
    "        elif date == month_from_start:\n",
    "    #         print('----pass')\n",
    "            pass\n",
    "\n",
    "        #if it is one month after the 'start' - then pass\n",
    "        else: \n",
    "            endTimes.append(start)\n",
    "            startTimes.append(date)\n",
    "\n",
    "    #     #if it is not then go back and put end\n",
    "        start = date\n",
    "        \n",
    "    #make dataframe\n",
    "    eventDict = pd.DataFrame(columns = ['event', 'start', 'end'])\n",
    "    \n",
    "    \n",
    "    eventDict['start'] = startTimes\n",
    "    eventDict['end'] = endTimes\n",
    "    eventDict['event'] = place\n",
    "#     print(countryDict)\n",
    "    \n",
    "    eventDF_final = pd.concat([eventDF_final,eventDict])\n",
    "    "
   ]
  },
  {
   "cell_type": "code",
   "execution_count": 67,
   "id": "a2d6632f",
   "metadata": {},
   "outputs": [
    {
     "data": {
      "text/html": [
       "<div>\n",
       "<style scoped>\n",
       "    .dataframe tbody tr th:only-of-type {\n",
       "        vertical-align: middle;\n",
       "    }\n",
       "\n",
       "    .dataframe tbody tr th {\n",
       "        vertical-align: top;\n",
       "    }\n",
       "\n",
       "    .dataframe thead th {\n",
       "        text-align: right;\n",
       "    }\n",
       "</style>\n",
       "<table border=\"1\" class=\"dataframe\">\n",
       "  <thead>\n",
       "    <tr style=\"text-align: right;\">\n",
       "      <th></th>\n",
       "      <th>event</th>\n",
       "      <th>start</th>\n",
       "      <th>end</th>\n",
       "    </tr>\n",
       "  </thead>\n",
       "  <tbody>\n",
       "    <tr>\n",
       "      <th>0</th>\n",
       "      <td>Tunisian Revolution</td>\n",
       "      <td>2011-01-31 00:00:00+00:00</td>\n",
       "      <td>2013-06-30 00:00:00+00:00</td>\n",
       "    </tr>\n",
       "    <tr>\n",
       "      <th>1</th>\n",
       "      <td>Tunisian Revolution</td>\n",
       "      <td>2013-08-31 00:00:00+00:00</td>\n",
       "      <td>2018-02-28 00:00:00+00:00</td>\n",
       "    </tr>\n",
       "    <tr>\n",
       "      <th>2</th>\n",
       "      <td>Tunisian Revolution</td>\n",
       "      <td>2018-04-30 00:00:00+00:00</td>\n",
       "      <td>2023-10-31 00:00:00+00:00</td>\n",
       "    </tr>\n",
       "    <tr>\n",
       "      <th>0</th>\n",
       "      <td>2011 Egyptian revolution</td>\n",
       "      <td>2011-01-31 00:00:00+00:00</td>\n",
       "      <td>2013-06-30 00:00:00+00:00</td>\n",
       "    </tr>\n",
       "    <tr>\n",
       "      <th>1</th>\n",
       "      <td>2011 Egyptian revolution</td>\n",
       "      <td>2013-08-31 00:00:00+00:00</td>\n",
       "      <td>2018-02-28 00:00:00+00:00</td>\n",
       "    </tr>\n",
       "  </tbody>\n",
       "</table>\n",
       "</div>"
      ],
      "text/plain": [
       "                      event                     start  \\\n",
       "0       Tunisian Revolution 2011-01-31 00:00:00+00:00   \n",
       "1       Tunisian Revolution 2013-08-31 00:00:00+00:00   \n",
       "2       Tunisian Revolution 2018-04-30 00:00:00+00:00   \n",
       "0  2011 Egyptian revolution 2011-01-31 00:00:00+00:00   \n",
       "1  2011 Egyptian revolution 2013-08-31 00:00:00+00:00   \n",
       "\n",
       "                        end  \n",
       "0 2013-06-30 00:00:00+00:00  \n",
       "1 2018-02-28 00:00:00+00:00  \n",
       "2 2023-10-31 00:00:00+00:00  \n",
       "0 2013-06-30 00:00:00+00:00  \n",
       "1 2018-02-28 00:00:00+00:00  "
      ]
     },
     "execution_count": 67,
     "metadata": {},
     "output_type": "execute_result"
    }
   ],
   "source": [
    "eventDF_final.head()"
   ]
  },
  {
   "cell_type": "code",
   "execution_count": 69,
   "id": "75f81b3d",
   "metadata": {},
   "outputs": [
    {
     "data": {
      "image/png": "[encoded data removed]",
      "text/plain": [
       "<Figure size 640x480 with 1 Axes>"
      ]
     },
     "metadata": {},
     "output_type": "display_data"
    }
   ],
   "source": [
    "fig, ax = plt.subplots()\n",
    "colorLyst = ['#001219', '#005f73', '#0a9396', '#94d2bd', '#e9d8a6', '#ee9b00', '#ca6702', '#bb3e03', '#ae2012', '#9b2226', '#d90429' ]\n",
    "\n",
    "j = 0\n",
    "ystart = 0.65\n",
    "width = 0.6\n",
    "for country in eventsLyst:\n",
    "    xrangeLyst = []\n",
    "    \n",
    "    #get the sub df\n",
    "    df = eventDF_final.loc[eventDF_final['event'] == str(country)].reset_index()\n",
    "#     print(df)\n",
    "\n",
    "    for i in range(len(df)):\n",
    "#         print(df['start'])\n",
    "#         print(i)\n",
    "        x = df['start'][i]\n",
    "        y = df['end'][i]- df['start'][i]\n",
    "        xrangeLyst.append((x,y))\n",
    "\n",
    "    ax.broken_barh(xranges = xrangeLyst, yrange=(ystart,width), facecolors = colorLyst[j])\n",
    "    j = j +1\n",
    "    ystart = ystart + 1\n",
    "                   \n",
    "\n",
    "\n",
    "ax.set_title('When Event Wikipedia Pages Include the Arab Spring')\n",
    "ax.set_xlabel('Time')\n",
    "# ax.legend(labels=eventsLyst, fontsize=11, loc='center left', bbox_to_anchor=(1, 0.5))\n",
    "\n",
    "\n",
    "ax.set_yticks([1,2,3,4,5,6,7,8,9,10,11], labels=countrylyst)\n",
    "ax.set_title('When Event Wikipedia Pages Include the Arab Spring- English')\n",
    "\n",
    "xfmt = mdates.DateFormatter('%Y')\n",
    "ax.set_xlabel('Time')\n",
    "ax.xaxis.set_major_formatter(xfmt)\n",
    "ax.set_xticks(['2011', '2013', '2015', '2017', '2019', '2021', '2023'])\n",
    "\n",
    "# plt.savefig(\"02L_eventInclusionofAS.pdf\")\n",
    "# \n",
    "plt.show()"
   ]
  },
  {
   "cell_type": "code",
   "execution_count": null,
   "id": "b9de0d4d",
   "metadata": {},
   "outputs": [],
   "source": []
  },
  {
   "cell_type": "markdown",
   "id": "ebcc50f4",
   "metadata": {},
   "source": [
    "# Arabic AS countries and events"
   ]
  },
  {
   "cell_type": "markdown",
   "id": "1741cc57",
   "metadata": {},
   "source": [
    "## get arabic AS data"
   ]
  },
  {
   "cell_type": "code",
   "execution_count": 71,
   "id": "44984815",
   "metadata": {},
   "outputs": [],
   "source": [
    "#gets the outlink specific time:revid\n",
    "with open('02c_ar_as_rev_time_m.pkl', 'rb') as pickleFile:\n",
    "    ar_time_revids = pickle.load(pickleFile)\n",
    "\n",
    "#gets the outlink specific revid:outlinks \n",
    "with open('02c_ar_as_rev_outlinks_m.pkl', 'rb') as pickleFile:\n",
    "     ar_revid_outlinks = pickle.load(pickleFile)"
   ]
  },
  {
   "cell_type": "code",
   "execution_count": 72,
   "id": "60d53c34",
   "metadata": {},
   "outputs": [
    {
     "data": {
      "text/plain": [
       "timestamp\n",
       "2011-02-28 00:00:00+00:00     6345923.0\n",
       "2011-03-31 00:00:00+00:00     6459075.0\n",
       "2011-04-30 00:00:00+00:00     6602258.0\n",
       "2011-05-31 00:00:00+00:00     6758727.0\n",
       "2011-06-30 00:00:00+00:00     6911767.0\n",
       "                                ...    \n",
       "2023-06-30 00:00:00+00:00    62699194.0\n",
       "2023-07-31 00:00:00+00:00    63391950.0\n",
       "2023-08-31 00:00:00+00:00    63619143.0\n",
       "2023-09-30 00:00:00+00:00    64206689.0\n",
       "2023-10-31 00:00:00+00:00    64997097.0\n",
       "Name: revid, Length: 144, dtype: float64"
      ]
     },
     "execution_count": 72,
     "metadata": {},
     "output_type": "execute_result"
    }
   ],
   "source": [
    "ar_time_revids"
   ]
  },
  {
   "cell_type": "markdown",
   "id": "90bbd018",
   "metadata": {},
   "source": [
    "## arabic countries"
   ]
  },
  {
   "cell_type": "code",
   "execution_count": 70,
   "id": "36d4418d",
   "metadata": {},
   "outputs": [],
   "source": [
    "countrylyst_total = ['تونس', 'مصر', 'اليمن', 'سوريا', 'البحرين', 'الجزائر',   'الأردن', 'المغرب', 'ليبيا', 'العراق', 'سلطنة عُمان' ]"
   ]
  },
  {
   "cell_type": "code",
   "execution_count": 77,
   "id": "103149ad",
   "metadata": {},
   "outputs": [],
   "source": [
    "#get all of the timestamps in which the arab spring includes the evnets in countrylyst\n",
    "\n",
    "countryTimes = {}\n",
    "firstTimes = {}\n",
    "\n",
    "for place in countrylyst:\n",
    "            \n",
    "    #get all of the revids that contain 'Arab Spring' in their outlinks\n",
    "    revidlyst = []\n",
    "    for revid, outlinks in ar_revid_outlinks.items():\n",
    "        for link in outlinks:\n",
    "            if link == place:\n",
    "                revidlyst.append(revid)\n",
    "                \n",
    "    # make the list unique\n",
    "    revidlyst_unique = set(revidlyst)\n",
    "    \n",
    "    inclusionTimes = []\n",
    "    for i in revidlyst_unique:\n",
    "        rev_time = ar_time_revids[ar_time_revids == i].index[0]\n",
    "        inclusionTimes.append(rev_time)\n",
    "        \n",
    "    inclusionTimes.sort()   \n",
    "\n",
    "    if len(inclusionTimes) > 0:\n",
    "        ar_firstTimes[place] = inclusionTimes[0]\n",
    "        ar_countryTimes[place] = inclusionTimes\n",
    "    else:\n",
    "        #these are countries that are not included at all in the page\n",
    "        pass"
   ]
  },
  {
   "cell_type": "code",
   "execution_count": null,
   "id": "276a7846",
   "metadata": {},
   "outputs": [],
   "source": []
  },
  {
   "cell_type": "markdown",
   "id": "b7b9601f",
   "metadata": {},
   "source": [
    "### Break up the start and end times"
   ]
  },
  {
   "cell_type": "code",
   "execution_count": 74,
   "id": "556fc962",
   "metadata": {},
   "outputs": [],
   "source": [
    "eventDF_final = pd.DataFrame(columns = ['event', 'start', 'end'])\n",
    "\n",
    "for place in countryTimes.keys():\n",
    "    startTimes = []\n",
    "    endTimes = []\n",
    "\n",
    "    start = firstTimes[place]\n",
    "    startTimes.append(start)\n",
    "    \n",
    "    first = countryTimes[place][0]\n",
    "    final = countryTimes[place][-1:]\n",
    "\n",
    "    currTime = start\n",
    "    #get start and end dates\n",
    "    #go through all the dates in Tunisia\n",
    "    for date in countryTimes[place]:\n",
    "\n",
    "        month_from_start = pd.Timestamp(start) + pd.offsets.MonthEnd(n=1)\n",
    "\n",
    "        #if it reaches the end add it to the endTimes\n",
    "        if date in final:\n",
    "            endTimes.append(date)\n",
    "\n",
    "        if date == first:\n",
    "            pass\n",
    "\n",
    "        #if a month is skipped, end the last one with the start(or previous date)\n",
    "        #start a new section with the new one\n",
    "        elif date == month_from_start:\n",
    "    #         print('----pass')\n",
    "            pass\n",
    "\n",
    "        #if it is one month after the 'start' - then pass\n",
    "        else: \n",
    "            endTimes.append(start)\n",
    "            startTimes.append(date)\n",
    "\n",
    "    #     #if it is not then go back and put end\n",
    "        start = date\n",
    "        \n",
    "    #make dataframe\n",
    "    countryDict = pd.DataFrame(columns = ['event', 'start', 'end'])\n",
    "    \n",
    "    \n",
    "    countryDict['start'] = startTimes\n",
    "    countryDict['end'] = endTimes\n",
    "    countryDict['event'] = place\n",
    "#     print(countryDict)\n",
    "    \n",
    "    countryDF_final = pd.concat([countryDF_final,countryDict])\n",
    "    "
   ]
  }
 ],
 "metadata": {
  "kernelspec": {
   "display_name": "Python 3",
   "language": "python",
   "name": "python3"
  },
  "language_info": {
   "codemirror_mode": {
    "name": "ipython",
    "version": 3
   },
   "file_extension": ".py",
   "mimetype": "text/x-python",
   "name": "python",
   "nbconvert_exporter": "python",
   "pygments_lexer": "ipython3",
   "version": "3.8.7"
  }
 },
 "nbformat": 4,
 "nbformat_minor": 5
}
