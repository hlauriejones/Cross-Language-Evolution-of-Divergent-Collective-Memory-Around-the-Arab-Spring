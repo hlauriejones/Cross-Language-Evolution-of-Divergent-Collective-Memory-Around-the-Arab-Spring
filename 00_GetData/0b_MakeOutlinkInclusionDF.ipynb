{
 "cells": [
  {
   "cell_type": "markdown",
   "id": "baea72ba",
   "metadata": {},
   "source": [
    "## 0b - Make Outlink Inclusion Data Frame\n",
    "This is a dataframe of one hot encoded outlink inclusion to work with later\n",
    "\n",
    "import:\n",
    "\n",
    "    00_en_as_rev_outlinks_m.pkl\n",
    "    00_en_as_rev_time_m.pkl\n",
    "    00_ar_as_rev_outlinks_m.pkl\n",
    "    00_ar_as_rev_time_m.pkl\n",
    "    \n",
    "output:\n",
    "\n",
    "    00_outlinkInclusiondf.pkl\n",
    "    00_outlinkInclusiondf_ar.pkl\n",
    "\n",
    "The Plan:\n",
    "- get data\n",
    "- make a unique outlinks dict\n",
    "- make list of all of the unique outlinks used througout time\n",
    "- go through and create a new dictionary with ones and values correlating to everyOutlink\n",
    "- make a df with everything\n",
    "- clean up timestamp information\n",
    "- clean up timestamp information\n",
    "- get rid of revision ids and transpose, switching the axes makes the heat map easier to read\n",
    "- save data\n",
    "\n",
    "1. English\n",
    "2. Arabic"
   ]
  },
  {
   "cell_type": "code",
   "execution_count": 10,
   "id": "9174f727",
   "metadata": {},
   "outputs": [],
   "source": [
    "import pandas as pd\n",
    "import numpy as np\n",
    "import pickle\n",
    "import os\n",
    "import itertools"
   ]
  },
  {
   "cell_type": "code",
   "execution_count": 11,
   "id": "7f3aa7a7",
   "metadata": {},
   "outputs": [],
   "source": [
    "#function for the code to merge multiple lists\n",
    "\n",
    "def merge(*lists):\n",
    "    newlist = []\n",
    "    for i in lists:\n",
    "            newlist.extend(i)\n",
    "    return newlist"
   ]
  },
  {
   "cell_type": "code",
   "execution_count": null,
   "id": "d402cdb5",
   "metadata": {},
   "outputs": [],
   "source": []
  },
  {
   "cell_type": "markdown",
   "id": "cd369776",
   "metadata": {},
   "source": [
    "### 1. Make English Dataframe"
   ]
  },
  {
   "cell_type": "code",
   "execution_count": 19,
   "id": "f48ef17b",
   "metadata": {},
   "outputs": [],
   "source": [
    "#get data\n",
    "\n",
    "#move to Data folder\n",
    "os.chdir(\"../Data\")\n",
    "\n",
    "#get df revid:outlinks dict\n",
    "with open(\"00_en_as_rev_outlinks_m.pkl\", 'rb') as pickleFile:\n",
    "    outlinks = pickle.load(pickleFile)\n",
    "    \n",
    "#get df time:revid dict\n",
    "with open(\"00_en_as_rev_time_m.pkl\", 'rb') as pickleFile:\n",
    "    en_freq_revids = pickle.load(pickleFile)"
   ]
  },
  {
   "cell_type": "code",
   "execution_count": 9,
   "id": "dee809d1",
   "metadata": {},
   "outputs": [],
   "source": [
    "#make a unique outlinks dict\n",
    "\n",
    "outlinksUnique = {}\n",
    "keys = outlinks.keys()\n",
    "\n",
    "for i in keys:\n",
    "    outlinksUnique[i] = np.unique(outlinks[i]).tolist()"
   ]
  },
  {
   "cell_type": "code",
   "execution_count": 13,
   "id": "4b438e52",
   "metadata": {},
   "outputs": [],
   "source": [
    "#make list of all of the unique outlinks used througout time\n",
    "#this is only a list of outlinks to be later used for the df and heat map                      \n",
    "\n",
    "everyOutlink = merge(outlinks.values()) #makes lists of lists\n",
    "everyOutlink = list(itertools.chain.from_iterable(everyOutlink)) #puts them all in one list\n",
    "everyOutlink = np.unique(everyOutlink).tolist() #a list of alphabetized unique outlinks"
   ]
  },
  {
   "cell_type": "code",
   "execution_count": 15,
   "id": "795a4f00",
   "metadata": {},
   "outputs": [],
   "source": [
    "#go through and create a new dictionary with ones and values correlating to everyOutlink\n",
    "\n",
    "binaryRevOutlinkDict = {}\n",
    "keys = outlinksUnique.keys()\n",
    "\n",
    "for rev in keys:\n",
    "    binaryRevOutlinkDict[rev] = [1 if r in outlinksUnique[rev] else 0 for r in everyOutlink]"
   ]
  },
  {
   "cell_type": "code",
   "execution_count": 16,
   "id": "eaf07fdf",
   "metadata": {},
   "outputs": [],
   "source": [
    "#make a df with everything\n",
    "\n",
    "#make a df\n",
    "df = pd.DataFrame.from_dict(binaryRevOutlinkDict, orient='index', columns=everyOutlink )\n",
    "df.reset_index(inplace=True) #make the revision ids a column \n",
    "\n",
    "#change name\n",
    "names = df.columns.tolist()\n",
    "names[names.index('index')] = 'revs_id'\n",
    "df.columns = names"
   ]
  },
  {
   "cell_type": "code",
   "execution_count": 21,
   "id": "ac3cd3d7",
   "metadata": {},
   "outputs": [],
   "source": [
    "#clean up timestamp information\n",
    "times = en_freq_revids.index\n",
    "\n",
    "times = times.date #making it so its just the date\n",
    "\n",
    "df['timestamp'] = times #add the timestamps\n",
    "df['timestamp'] = pd.to_datetime(df['timestamp']) #stuff you have to do bc its a different format\n",
    "df.set_index(\"timestamp\", inplace=True, drop=True)\n"
   ]
  },
  {
   "cell_type": "code",
   "execution_count": null,
   "id": "477d9689",
   "metadata": {},
   "outputs": [],
   "source": [
    "# df.head()"
   ]
  },
  {
   "cell_type": "code",
   "execution_count": 22,
   "id": "c766bc80",
   "metadata": {},
   "outputs": [],
   "source": [
    "#get rid of revision ids and transpose, switching the axes makes the heat map easier to read\n",
    "data = df.iloc[: , 1:] #drop revs_id\n",
    "\n",
    "data = data.transpose() #flip\n",
    "data.index.name = None"
   ]
  },
  {
   "cell_type": "code",
   "execution_count": 24,
   "id": "a06d924f",
   "metadata": {},
   "outputs": [],
   "source": [
    "# data.head()"
   ]
  },
  {
   "cell_type": "code",
   "execution_count": 25,
   "id": "c24e7c58",
   "metadata": {},
   "outputs": [],
   "source": [
    "#save data frame\n",
    "with open('00_outlinkInclusiondf_en.pkl', 'wb') as f:\n",
    "    pickle.dump(data, f)"
   ]
  },
  {
   "cell_type": "code",
   "execution_count": null,
   "id": "089c21a4",
   "metadata": {},
   "outputs": [],
   "source": []
  },
  {
   "cell_type": "markdown",
   "id": "ac3a07e2",
   "metadata": {},
   "source": [
    "### 2. Make Arabic Dataframe"
   ]
  },
  {
   "cell_type": "code",
   "execution_count": 26,
   "id": "942e4047",
   "metadata": {},
   "outputs": [],
   "source": [
    "#get data\n",
    "\n",
    "#move to Data folder\n",
    "# os.chdir(\"../Data\")\n",
    "\n",
    "#get df revid:outlinks dict\n",
    "with open(\"00_ar_as_rev_outlinks_m.pkl\", 'rb') as pickleFile:\n",
    "    ar_outlinks = pickle.load(pickleFile)\n",
    "    \n",
    "#get df time:revid dict\n",
    "with open(\"00_ar_as_rev_time_m.pkl\", 'rb') as pickleFile:\n",
    "    ar_freq_revids = pickle.load(pickleFile)"
   ]
  },
  {
   "cell_type": "code",
   "execution_count": 27,
   "id": "51808385",
   "metadata": {},
   "outputs": [],
   "source": [
    "#make a unique outlinks dict\n",
    "\n",
    "ar_outlinksUnique = {}\n",
    "keys = ar_outlinks.keys()\n",
    "\n",
    "for i in keys:\n",
    "    ar_outlinksUnique[i] = np.unique(ar_outlinks[i]).tolist()"
   ]
  },
  {
   "cell_type": "code",
   "execution_count": 28,
   "id": "f391f89f",
   "metadata": {},
   "outputs": [],
   "source": [
    "#make list of all of the unique outlinks used througout time\n",
    "#this is only a list of outlinks to be later used for the df and heat map\n",
    "\n",
    "ar_everyOutlink = merge(ar_outlinks.values()) #makes lists of lists\n",
    "ar_everyOutlink = list(itertools.chain.from_iterable(ar_everyOutlink)) #puts them all in one list\n",
    "ar_everyOutlink = np.unique(ar_everyOutlink).tolist() #a list of alphabetized unique outlinks\n",
    "\n",
    "# len(ar_everyOutlink)"
   ]
  },
  {
   "cell_type": "code",
   "execution_count": 29,
   "id": "12936e1e",
   "metadata": {},
   "outputs": [],
   "source": [
    "#go through and create a new dictionary with ones and values correlating to everyOutlink\n",
    "\n",
    "ar_binaryRevOutlinkDict = {}\n",
    "keys = ar_outlinksUnique.keys()\n",
    "\n",
    "for rev in keys:\n",
    "    ar_binaryRevOutlinkDict[rev] = [1 if r in ar_outlinksUnique[rev] else 0 for r in ar_everyOutlink]\n"
   ]
  },
  {
   "cell_type": "code",
   "execution_count": 30,
   "id": "d1a5f871",
   "metadata": {},
   "outputs": [],
   "source": [
    "#make a df with everything\n",
    "\n",
    "#make a df\n",
    "ar_df = pd.DataFrame.from_dict(ar_binaryRevOutlinkDict, orient='index', columns=ar_everyOutlink )\n",
    "ar_df.reset_index(inplace=True) #make the revision ids a column \n",
    "\n",
    "#change name\n",
    "names = ar_df.columns.tolist()\n",
    "names[names.index('index')] = 'revs_id'\n",
    "ar_df.columns = names\n",
    "\n",
    "# ar_df.head()"
   ]
  },
  {
   "cell_type": "code",
   "execution_count": 31,
   "id": "d86c9262",
   "metadata": {},
   "outputs": [],
   "source": [
    "#clean up timestamp information\n",
    "times = ar_freq_revids.index\n",
    "\n",
    "times = times.date #making it so its just the date\n",
    "\n",
    "ar_df['timestamp'] = times #add the timestamps\n",
    "ar_df['timestamp'] = pd.to_datetime(ar_df['timestamp']) #stuff you have to do bc its a different format\n",
    "ar_df.set_index(\"timestamp\", inplace=True, drop=True)\n"
   ]
  },
  {
   "cell_type": "code",
   "execution_count": 34,
   "id": "70fe92bf",
   "metadata": {},
   "outputs": [],
   "source": [
    "#get rid of revision ids and transpose, switching the axes makes the heat map easier to read\n",
    "ar_data = ar_df.iloc[: , 1:] #drop revs_id\n",
    "\n",
    "ar_data = ar_data.transpose() #flip\n",
    "ar_data.index.name = None\n"
   ]
  },
  {
   "cell_type": "code",
   "execution_count": 35,
   "id": "cb8fe7c5",
   "metadata": {},
   "outputs": [],
   "source": [
    "# ar_data.head()"
   ]
  },
  {
   "cell_type": "code",
   "execution_count": 33,
   "id": "2c20e9f0",
   "metadata": {},
   "outputs": [],
   "source": [
    "#save data \n",
    "with open('00_outlinkInclusiondf_ar.pkl', 'wb') as f:\n",
    "    pickle.dump(ar_data, f)"
   ]
  },
  {
   "cell_type": "code",
   "execution_count": null,
   "id": "16427fa6",
   "metadata": {},
   "outputs": [],
   "source": []
  }
 ],
 "metadata": {
  "kernelspec": {
   "display_name": "Python 3 (ipykernel)",
   "language": "python",
   "name": "python3"
  },
  "language_info": {
   "codemirror_mode": {
    "name": "ipython",
    "version": 3
   },
   "file_extension": ".py",
   "mimetype": "text/x-python",
   "name": "python",
   "nbconvert_exporter": "python",
   "pygments_lexer": "ipython3",
   "version": "3.8.17"
  }
 },
 "nbformat": 4,
 "nbformat_minor": 5
}
