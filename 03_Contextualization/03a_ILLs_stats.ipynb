{
 "cells": [
  {
   "cell_type": "markdown",
   "id": "10359a37",
   "metadata": {},
   "source": [
    "## 03a - Assess Unique ILLs \n",
    "go through and get the number of outlinks between version\n",
    "\n",
    "import:\n",
    "\n",
    "    00_en_as_rev_everything.pkl\n",
    "    00_ar_as_rev_everything.pkl\n",
    "    \n",
    "output:\n",
    "\n",
    "    03a_onlyEnNoILL.txt\n",
    "    sizeOverTime_AS_ar.png\n",
    "    sizeOverTime_AS_BOTH.pdf\n",
    "    \n",
    "    \n",
    "The Plan:\n",
    "- this goes through and does some initial work with the outlinks \n",
    "- it grabs all of the outlinks in the english and arabic versions of the arab spring\n",
    "- organize them by ones that are only in each language. \n",
    "- identify ones that are in both by if there were english outlinks\n",
    "- that had an arabic ILL and if that arabic ILL was also an outlink\n",
    "\n",
    "\n",
    "1. Get Outlinks\n",
    "2. Check ILL Symmetry - English\n",
    "3. Check ILL Symmetry - Arabic\n",
    "4. Table\n",
    "\n"
   ]
  },
  {
   "cell_type": "markdown",
   "id": "e0bdcc5d",
   "metadata": {},
   "source": [
    "Ouput: \n",
    "\n",
    "there are 327 unique english outlinks\n",
    "there are 269 arabic outlinks\n",
    "\n",
    "There are 79 outlinks shared between the two articles\n",
    "\n",
    "There are 18 links that are inly in English with no Arabic ILLs\n",
    "There are 21 links that are only in Arabic with no English ILLs\n",
    "\n",
    "There are 230 english outlinks that have Arabic ILLs but those ILLs are not links referenced in the arabic article\n",
    "There are 169 arabic outlinks that have English ILLs but those ILLs are not links referenced in the english articl\n"
   ]
  },
  {
   "cell_type": "code",
   "execution_count": 2,
   "id": "1221d27a",
   "metadata": {},
   "outputs": [],
   "source": [
    "\n",
    "import numpy as np\n",
    "import pandas as pd\n",
    "\n",
    "import wikifunctions as wf #Brian's stuff\n",
    "\n",
    "%matplotlib inline\n",
    "import matplotlib.pyplot as plt\n",
    "import seaborn\n",
    "\n",
    "import json, requests\n",
    "\n",
    "from urllib.parse import unquote"
   ]
  },
  {
   "cell_type": "markdown",
   "id": "eb0b03eb",
   "metadata": {},
   "source": [
    "## 1. Get Outlinks"
   ]
  },
  {
   "cell_type": "code",
   "execution_count": 3,
   "id": "6482e421",
   "metadata": {},
   "outputs": [
    {
     "ename": "TypeError",
     "evalue": "'NoneType' object is not subscriptable",
     "output_type": "error",
     "traceback": [
      "\u001b[0;31m---------------------------------------------------------------------------\u001b[0m",
      "\u001b[0;31mTypeError\u001b[0m                                 Traceback (most recent call last)",
      "\u001b[0;32m<ipython-input-3-f51707faf2c4>\u001b[0m in \u001b[0;36m<module>\u001b[0;34m\u001b[0m\n\u001b[1;32m      1\u001b[0m \u001b[0;31m#English\u001b[0m\u001b[0;34m\u001b[0m\u001b[0;34m\u001b[0m\u001b[0;34m\u001b[0m\u001b[0m\n\u001b[0;32m----> 2\u001b[0;31m \u001b[0mout_en_lyst\u001b[0m \u001b[0;34m=\u001b[0m \u001b[0mwf\u001b[0m\u001b[0;34m.\u001b[0m\u001b[0mget_page_outlinks\u001b[0m\u001b[0;34m(\u001b[0m\u001b[0;34m'Arab Spring'\u001b[0m\u001b[0;34m)\u001b[0m\u001b[0;34m\u001b[0m\u001b[0;34m\u001b[0m\u001b[0m\n\u001b[0m\u001b[1;32m      3\u001b[0m \u001b[0mprint\u001b[0m\u001b[0;34m(\u001b[0m\u001b[0mlen\u001b[0m\u001b[0;34m(\u001b[0m\u001b[0mout_en_lyst\u001b[0m\u001b[0;34m)\u001b[0m\u001b[0;34m)\u001b[0m\u001b[0;34m\u001b[0m\u001b[0;34m\u001b[0m\u001b[0m\n",
      "\u001b[0;32m~/Documents/GitHub/Cross-Language-Evolution-of-Divergent-Collective-Memory-Around-the-Arab-Spring/03_Contextualization/wikifunctions.py\u001b[0m in \u001b[0;36mget_page_outlinks\u001b[0;34m(page_title, endpoint, redirects)\u001b[0m\n\u001b[1;32m    445\u001b[0m \u001b[0;34m\u001b[0m\u001b[0m\n\u001b[1;32m    446\u001b[0m     \u001b[0;32mif\u001b[0m \u001b[0;34m'parse'\u001b[0m \u001b[0;32min\u001b[0m \u001b[0mjson_response\u001b[0m\u001b[0;34m.\u001b[0m\u001b[0mkeys\u001b[0m\u001b[0;34m(\u001b[0m\u001b[0;34m)\u001b[0m\u001b[0;34m:\u001b[0m\u001b[0;34m\u001b[0m\u001b[0;34m\u001b[0m\u001b[0m\n\u001b[0;32m--> 447\u001b[0;31m         \u001b[0mlinks\u001b[0m \u001b[0;34m=\u001b[0m \u001b[0mparse_to_links\u001b[0m\u001b[0;34m(\u001b[0m\u001b[0mjson_response\u001b[0m\u001b[0;34m)\u001b[0m\u001b[0;34m\u001b[0m\u001b[0;34m\u001b[0m\u001b[0m\n\u001b[0m\u001b[1;32m    448\u001b[0m         \u001b[0mfinal_title\u001b[0m \u001b[0;34m=\u001b[0m \u001b[0mjson_response\u001b[0m\u001b[0;34m[\u001b[0m\u001b[0;34m'parse'\u001b[0m\u001b[0;34m]\u001b[0m\u001b[0;34m[\u001b[0m\u001b[0;34m'title'\u001b[0m\u001b[0;34m]\u001b[0m\u001b[0;34m\u001b[0m\u001b[0;34m\u001b[0m\u001b[0m\n\u001b[1;32m    449\u001b[0m     \u001b[0;32melse\u001b[0m\u001b[0;34m:\u001b[0m\u001b[0;34m\u001b[0m\u001b[0;34m\u001b[0m\u001b[0m\n",
      "\u001b[0;32m~/Documents/GitHub/Cross-Language-Evolution-of-Divergent-Collective-Memory-Around-the-Arab-Spring/03_Contextualization/wikifunctions.py\u001b[0m in \u001b[0;36mparse_to_links\u001b[0;34m(input, is_json)\u001b[0m\n\u001b[1;32m    335\u001b[0m     \u001b[0msections\u001b[0m \u001b[0;34m=\u001b[0m \u001b[0msoup\u001b[0m\u001b[0;34m.\u001b[0m\u001b[0mfind_all\u001b[0m\u001b[0;34m(\u001b[0m\u001b[0;34m'h2'\u001b[0m\u001b[0;34m)\u001b[0m\u001b[0;34m\u001b[0m\u001b[0;34m\u001b[0m\u001b[0m\n\u001b[1;32m    336\u001b[0m     \u001b[0;32mfor\u001b[0m \u001b[0msection\u001b[0m \u001b[0;32min\u001b[0m \u001b[0msections\u001b[0m\u001b[0;34m:\u001b[0m\u001b[0;34m\u001b[0m\u001b[0;34m\u001b[0m\u001b[0m\n\u001b[0;32m--> 337\u001b[0;31m         \u001b[0;32mif\u001b[0m \u001b[0msection\u001b[0m\u001b[0;34m.\u001b[0m\u001b[0mspan\u001b[0m\u001b[0;34m[\u001b[0m\u001b[0;34m'id'\u001b[0m\u001b[0;34m]\u001b[0m \u001b[0;32min\u001b[0m \u001b[0mbad_sections\u001b[0m\u001b[0;34m:\u001b[0m\u001b[0;34m\u001b[0m\u001b[0;34m\u001b[0m\u001b[0m\n\u001b[0m\u001b[1;32m    338\u001b[0m \u001b[0;34m\u001b[0m\u001b[0m\n\u001b[1;32m    339\u001b[0m             \u001b[0;31m# Clean out the divs\u001b[0m\u001b[0;34m\u001b[0m\u001b[0;34m\u001b[0m\u001b[0;34m\u001b[0m\u001b[0m\n",
      "\u001b[0;31mTypeError\u001b[0m: 'NoneType' object is not subscriptable"
     ]
    }
   ],
   "source": [
    "#English\n",
    "out_en_lyst = wf.get_page_outlinks('Arab Spring')\n",
    "print(len(out_en_lyst))"
   ]
  },
  {
   "cell_type": "code",
   "execution_count": null,
   "id": "9f0a9751",
   "metadata": {},
   "outputs": [
    {
     "name": "stdout",
     "output_type": "stream",
     "text": [
      "499\n"
     ]
    }
   ],
   "source": [
    "#Arabic\n",
    "out_ar_lyst = wf.get_page_outlinks('الربيع العربي', endpoint='ar.wikipedia.org/w/api.php')\n",
    "print(len(out_ar_lyst))"
   ]
  },
  {
   "cell_type": "markdown",
   "id": "8b459e1e",
   "metadata": {},
   "source": [
    "### 1a. Resolve Redirects"
   ]
  },
  {
   "cell_type": "code",
   "execution_count": null,
   "id": "41f840cf",
   "metadata": {},
   "outputs": [],
   "source": [
    "out_en_lyst_noReDir = wf.resolve_redirects(out_en_lyst)\n",
    "out_ar_lyst_noReDir = wf.resolve_redirects(out_ar_lyst,endpoint='ar.wikipedia.org/w/api.php')\n",
    "\n",
    "print(len(out_en_lyst_noReDir))\n",
    "print(len(out_ar_lyst_noReDir ))"
   ]
  },
  {
   "cell_type": "markdown",
   "id": "edd0348f",
   "metadata": {},
   "source": [
    "### 1b. Delete Duplicates"
   ]
  },
  {
   "cell_type": "code",
   "execution_count": null,
   "id": "22121b65",
   "metadata": {},
   "outputs": [
    {
     "name": "stdout",
     "output_type": "stream",
     "text": [
      "323\n"
     ]
    }
   ],
   "source": [
    "#get rid of duplicates in English\n",
    "out_en_lyst_clean = []\n",
    "\n",
    "for x in out_en_lyst_noReDir:\n",
    "    if x not in out_en_lyst_clean: \n",
    "        out_en_lyst_clean.append(x)\n",
    "        \n",
    "#    else:\n",
    "#         print(x)\n",
    "\n",
    "print(len(out_en_lyst_clean))"
   ]
  },
  {
   "cell_type": "code",
   "execution_count": null,
   "id": "c22a528e",
   "metadata": {},
   "outputs": [
    {
     "name": "stdout",
     "output_type": "stream",
     "text": [
      "271\n"
     ]
    }
   ],
   "source": [
    "#get rid of duplicates Arabic\n",
    "out_ar_lyst_clean = []\n",
    "\n",
    "# [out_en_lyst_clean_noDups.append(x) for x in out_en_lyst_clean if x not in out_en_lyst_clean_noDups]\n",
    "\n",
    "for x in out_ar_lyst_noReDir:\n",
    "    if x not in out_ar_lyst_clean: \n",
    "        out_ar_lyst_clean.append(x)\n",
    "        \n",
    "#     else:\n",
    "#         print(x)\n",
    "\n",
    "print(len(out_ar_lyst_clean))"
   ]
  },
  {
   "cell_type": "markdown",
   "id": "3010d002",
   "metadata": {},
   "source": [
    "## Get ILLs of a page"
   ]
  },
  {
   "cell_type": "markdown",
   "id": "b93f0872",
   "metadata": {},
   "source": [
    "## 2. Check ILL Symmetry - English\n",
    "\n",
    "go through ILLs of outlinks and see if the ILL is in the outlink of the other language (english)"
   ]
  },
  {
   "cell_type": "code",
   "execution_count": null,
   "id": "892fe9bf",
   "metadata": {},
   "outputs": [],
   "source": [
    "onlyEnNoILL = [] #a list of english links - this is an En ILL but no arabic ILL \n",
    "enOutarILL = [] #a list of english links - there is an arILL in out_ar_lyst_clean\n",
    "onlyEn = [] #a list of english links- that have an arabic out link but it is not in in out_ar_lyst_clean\n"
   ]
  },
  {
   "cell_type": "markdown",
   "id": "3829f0cb",
   "metadata": {},
   "source": [
    "go through english outlinks get the ones that have arabic ILLs and where there are none"
   ]
  },
  {
   "cell_type": "code",
   "execution_count": null,
   "id": "d041c255",
   "metadata": {},
   "outputs": [],
   "source": [
    "#gets all of the arabic ILL for english outlinks\n",
    "#if there is one it is added to:\n",
    "arILLforEnOutlinks = []\n",
    "\n",
    "#if there isn't one it is added to: \n",
    "onlyEnNoILL = [] \n",
    "\n",
    "for enOut in out_en_lyst_clean:\n",
    "    ILL = wf.get_interlanguage_links(enOut)\n",
    "    try:\n",
    "        arILL = ILL['ar']\n",
    "        arILLforEnOutlinks.append(arILL)\n",
    "        #print(arILL)\n",
    "    except KeyError as ke:\n",
    "        #print(enOut)\n",
    "        onlyEnNoILL.append(enOut) #no arabic ILL \n",
    "    "
   ]
  },
  {
   "cell_type": "code",
   "execution_count": null,
   "id": "369f5405",
   "metadata": {},
   "outputs": [],
   "source": [
    "#checks to see if the arabic ILLs are in the outlinks of the arabic page\n",
    "\n",
    "#if they are add it to: \n",
    "enOutarILL = []\n",
    "enOutarILL_arabic = []\n",
    "\n",
    "#if the arabic ILL is not referenced also in the arabic page add it to\n",
    "onlyEn = []\n",
    "onlyEn_english = []\n",
    "\n",
    "        \n",
    "for arOut in arILLforEnOutlinks: #goes through all of the arabic outlinks\n",
    "    ILL = wf.get_interlanguage_links(arOut, 'ar.wikipedia.org/w/api.php' )\n",
    "    #print(ILL)\n",
    "    enILL = ILL['en'] #goes backward to the english ILL\n",
    "        \n",
    "    if arOut in out_ar_lyst_clean: #there is arILL in the arabic outlinks \n",
    "        enOutarILL.append(enILL)\n",
    "        enOutarILL_arabic.append(arOut)\n",
    "        \n",
    "    else:\n",
    "        onlyEn.append(arOut) #this is if it has an arILl but it isn't in the outlinks\n",
    "        onlyEn_english.append(enILL)\n",
    "        "
   ]
  },
  {
   "cell_type": "code",
   "execution_count": null,
   "id": "46f87640",
   "metadata": {},
   "outputs": [
    {
     "name": "stdout",
     "output_type": "stream",
     "text": [
      "15\n",
      "79\n",
      "79\n",
      "229\n"
     ]
    }
   ],
   "source": [
    "print(len(onlyEnNoILL))\n",
    "print(len(enOutarILL))\n",
    "print(len(enOutarILL_arabic))\n",
    "print(len(onlyEn)) "
   ]
  },
  {
   "cell_type": "code",
   "execution_count": null,
   "id": "e8322a8c",
   "metadata": {},
   "outputs": [
    {
     "data": {
      "text/plain": [
       "323"
      ]
     },
     "execution_count": 16,
     "metadata": {},
     "output_type": "execute_result"
    }
   ],
   "source": [
    "len(out_en_lyst_clean)"
   ]
  },
  {
   "cell_type": "markdown",
   "id": "7e333c81",
   "metadata": {},
   "source": [
    "Save Data"
   ]
  },
  {
   "cell_type": "code",
   "execution_count": null,
   "id": "4be7678e",
   "metadata": {},
   "outputs": [],
   "source": [
    "with open(\"03a_onlyEnNoILL.txt\", \"w\") as f:\n",
    "    for s in onlyEnNoILL:\n",
    "        f.write(str(s) +\"\\n\")"
   ]
  },
  {
   "cell_type": "code",
   "execution_count": null,
   "id": "812ee184",
   "metadata": {},
   "outputs": [],
   "source": [
    "with open(\"03a_enOutarILL.txt\", \"w\") as f:\n",
    "    for s in enOutarILL:\n",
    "        f.write(str(s) +\"\\n\")"
   ]
  },
  {
   "cell_type": "code",
   "execution_count": null,
   "id": "1382041a",
   "metadata": {},
   "outputs": [],
   "source": [
    "with open(\"03a_onlyEn.txt\", \"w\") as f:\n",
    "    for s in onlyEn:\n",
    "        f.write(str(s) +\"\\n\")"
   ]
  },
  {
   "cell_type": "code",
   "execution_count": null,
   "id": "a7008792",
   "metadata": {},
   "outputs": [],
   "source": [
    "with open(\"03a_onlyEn_english.txt\", \"w\") as f:\n",
    "    for s in onlyEn_english:\n",
    "        f.write(str(s) +\"\\n\")"
   ]
  },
  {
   "cell_type": "markdown",
   "id": "c179675c",
   "metadata": {},
   "source": []
  },
  {
   "cell_type": "markdown",
   "id": "17bc9497",
   "metadata": {},
   "source": []
  },
  {
   "cell_type": "markdown",
   "id": "7dc02707",
   "metadata": {},
   "source": [
    "## 3. Check ILL Symmetry - Arabic\n",
    "\n",
    "go through arabic outlinks\n",
    "\n",
    "go through Arabic outlinks get the ones that have English ILLs and where there are none"
   ]
  },
  {
   "cell_type": "markdown",
   "id": "4a43d8f9",
   "metadata": {},
   "source": []
  },
  {
   "cell_type": "code",
   "execution_count": null,
   "id": "25ef5c0a",
   "metadata": {},
   "outputs": [],
   "source": [
    "#gets all of the english translations of the outlinks\n",
    "#if there is an english ILL\n",
    "enILLforArOutlinks = []\n",
    "#if there isn't one it is added to: \n",
    "onlyArNoILL = [] \n",
    "\n",
    "for arOut in out_ar_lyst_clean: #goes throguh all the arabic outlines\n",
    "    ILL = wf.get_interlanguage_links(arOut, endpoint='ar.wikipedia.org/w/api.php')\n",
    "    try:\n",
    "        enILL = ILL['en']\n",
    "        enILLforArOutlinks.append(enILL) #gets english ILL\n",
    "        #print(arILL)\n",
    "    except KeyError as ke:\n",
    "        onlyArNoILL.append(arOut) #no english ILL \n",
    "        \n",
    "\n",
    "        "
   ]
  },
  {
   "cell_type": "code",
   "execution_count": null,
   "id": "a1361431",
   "metadata": {},
   "outputs": [],
   "source": [
    "#checks to see if the engish ILLs are in the outlinks of the english page\n",
    "\n",
    "#if they are add it to: \n",
    "arOutenILL = []\n",
    "arOutenILL_english = []\n",
    "\n",
    "#if the english ILL is not referenced also in the arabic page add it to\n",
    "onlyAr = []\n",
    "onlyAr_arabic = []\n",
    "        \n",
    "for enOut in enILLforArOutlinks: #goes through all the ones with ILLs in english\n",
    "    ILL = wf.get_interlanguage_links(enOut, endpoint='ar.wikipedia.org/w/api.php')\n",
    "    arILL = ILL['ar'] #translates them back to arabic\n",
    "    #print(arILL)\n",
    "        \n",
    "    if enOut in out_en_lyst_clean: #there is enILL in the english outlinks \n",
    "        arOutenILL.append(arILL) #adds the arabic version\n",
    "        arOutenILL_english.append(enOut) #keept the english version\n",
    "        \n",
    "    else:\n",
    "        onlyAr.append(enOut) #this is if it has an arILl but it isn't in the outlinks\n",
    "        onlyAr_arabic.append(arILL)"
   ]
  },
  {
   "cell_type": "code",
   "execution_count": null,
   "id": "eab56062",
   "metadata": {},
   "outputs": [
    {
     "name": "stdout",
     "output_type": "stream",
     "text": [
      "21\n",
      "79\n",
      "79\n",
      "171\n"
     ]
    }
   ],
   "source": [
    "print(len(onlyArNoILL))\n",
    "print(len(arOutenILL))\n",
    "print(len(arOutenILL_english))\n",
    "print(len(onlyAr)) "
   ]
  },
  {
   "cell_type": "code",
   "execution_count": null,
   "id": "9694b44f",
   "metadata": {},
   "outputs": [
    {
     "name": "stdout",
     "output_type": "stream",
     "text": [
      "269\n"
     ]
    }
   ],
   "source": [
    "print(len(out_ar_lyst_clean))"
   ]
  },
  {
   "cell_type": "markdown",
   "id": "b9c3a285",
   "metadata": {},
   "source": [
    "Save Data"
   ]
  },
  {
   "cell_type": "code",
   "execution_count": null,
   "id": "73df72e3",
   "metadata": {},
   "outputs": [],
   "source": [
    "with open(\"03a_onlyAr.txt\", \"w\") as f:\n",
    "    for s in onlyAr:\n",
    "        f.write(str(s) +\"\\n\")"
   ]
  },
  {
   "cell_type": "code",
   "execution_count": null,
   "id": "2b69e0db",
   "metadata": {},
   "outputs": [],
   "source": [
    "with open(\"03a_onlyAr_arabic.txt\", \"w\") as f:\n",
    "    for s in onlyAr_arabic:\n",
    "        f.write(str(s) +\"\\n\")"
   ]
  },
  {
   "cell_type": "code",
   "execution_count": null,
   "id": "97cb5bc1",
   "metadata": {},
   "outputs": [],
   "source": [
    "with open(\"03a_onlyArNoILL.txt\", \"w\") as f:\n",
    "    for s in onlyArNoILL:\n",
    "        f.write(str(s) +\"\\n\")"
   ]
  },
  {
   "cell_type": "code",
   "execution_count": null,
   "id": "794702fc",
   "metadata": {},
   "outputs": [
    {
     "data": {
      "text/plain": [
       "['January 14',\n",
       " 'January 25',\n",
       " 'October 20',\n",
       " 'February 11',\n",
       " 'Jeddah',\n",
       " 'March 15',\n",
       " 'February 17',\n",
       " '2010',\n",
       " '2011',\n",
       " 'Corruption',\n",
       " 'Palestine (region)',\n",
       " '2011 Lebanese protests',\n",
       " '2011 Israeli border demonstrations',\n",
       " 'Battle of Sirte',\n",
       " 'January 4',\n",
       " 'Hafiz al-Assad',\n",
       " 'Police',\n",
       " 'Constitution',\n",
       " 'December 17',\n",
       " 'December 18',\n",
       " 'Gamal Mubarak',\n",
       " 'Liberty',\n",
       " '1969 Libyan revolution',\n",
       " 'Bernard Lewis',\n",
       " '2012',\n",
       " '2014',\n",
       " 'Constitutional monarchy',\n",
       " 'Zionist entity',\n",
       " 'Atlantic Ocean',\n",
       " 'Ahmed Saleh',\n",
       " 'Political demonstration',\n",
       " 'January 15',\n",
       " 'Alexandria',\n",
       " 'Bullet',\n",
       " 'Suez Governorate',\n",
       " 'Reuters',\n",
       " \"Coup d'état\",\n",
       " 'Martial law',\n",
       " 'Fouad Mebazaa',\n",
       " 'Chamber of Deputies (Tunisia)',\n",
       " 'National Police Day (Egypt)',\n",
       " 'Abdel Fattah el-Sisi',\n",
       " 'June 2013 Egyptian protests',\n",
       " 'Latakia',\n",
       " 'Rif Dimashq Governorate',\n",
       " 'March 18',\n",
       " 'Bayda, Libya',\n",
       " 'International Court of Justice',\n",
       " 'International Criminal Court',\n",
       " 'Muhammad Gaddafi',\n",
       " 'Hala Misrati',\n",
       " 'Atef Najib',\n",
       " '2003',\n",
       " 'West Bank',\n",
       " 'Democracy',\n",
       " 'Liberalism',\n",
       " 'Baniyas',\n",
       " 'Kirkuk Governorate',\n",
       " '2003 invasion of Iraq',\n",
       " 'Qamishli',\n",
       " 'Nationalism',\n",
       " 'Financial Times',\n",
       " 'United States Africa Command',\n",
       " 'Free Syrian Army',\n",
       " \"Ba'athism\",\n",
       " 'Hawija District',\n",
       " 'Haider al-Abadi',\n",
       " '2015–2018 Iraqi protests',\n",
       " 'Israel',\n",
       " 'Hamas',\n",
       " 'Benjamin Netanyahu',\n",
       " 'Ramallah',\n",
       " 'May 15',\n",
       " 'Golan Heights',\n",
       " 'Jerusalem',\n",
       " '1948 Arab–Israeli War',\n",
       " 'Fatah',\n",
       " 'Sinai Peninsula',\n",
       " 'Prime minister',\n",
       " 'United Nations General Assembly Resolution 194',\n",
       " 'Majdal Shams',\n",
       " 'Blockade of the Gaza Strip',\n",
       " 'Allenby Bridge',\n",
       " 'Fatah–Hamas conflict',\n",
       " \"Mista'arvim\",\n",
       " 'Nakba',\n",
       " 'Palestinians',\n",
       " 'General Directorate of Gendarmerie',\n",
       " 'Qaboos bin Said',\n",
       " 'January 18',\n",
       " 'August 1',\n",
       " 'Economics',\n",
       " 'March 3',\n",
       " 'Friday prayer',\n",
       " 'February 20',\n",
       " 'Abdullah of Saudi Arabia',\n",
       " 'List of political parties in Morocco',\n",
       " 'Judicial independence',\n",
       " 'Social equality',\n",
       " 'Constitution of Morocco',\n",
       " 'Social connection',\n",
       " 'Unemployment',\n",
       " 'Water',\n",
       " 'May 8',\n",
       " 'April 13',\n",
       " 'April 15',\n",
       " 'April 16',\n",
       " 'February 27',\n",
       " 'Secularism',\n",
       " 'Lebanese Civil War',\n",
       " 'March 26',\n",
       " 'United Kingdom',\n",
       " '1990',\n",
       " 'London',\n",
       " '1946',\n",
       " 'Ahvaz',\n",
       " '1975',\n",
       " 'Ahvaz County',\n",
       " 'Pan-Arabism',\n",
       " 'National Assembly (Kuwait)',\n",
       " 'Medication',\n",
       " 'Hospital',\n",
       " 'Egyptian National Police',\n",
       " 'Parliament of the United Kingdom',\n",
       " 'Islamic Revolutionary Guard Corps',\n",
       " 'Wikipedia:Citation needed',\n",
       " 'Cargo ship',\n",
       " 'Greater Lebanon',\n",
       " 'Council of Representatives (Bahrain)',\n",
       " 'Al-Hamidiyah (disambiguation)',\n",
       " 'April 9',\n",
       " 'January 29',\n",
       " 'May 5',\n",
       " 'May 12',\n",
       " 'May 17',\n",
       " 'May 24',\n",
       " 'March 5',\n",
       " 'February 22',\n",
       " 'February 21',\n",
       " '1978',\n",
       " 'February 18',\n",
       " 'February 28',\n",
       " 'Egyptian pound',\n",
       " 'National Democratic Party (Egypt)',\n",
       " 'Ahmad Fathi Sorour',\n",
       " 'Zakaria Azmi',\n",
       " 'Ahmed Ezz',\n",
       " 'Safwat El-Sherif',\n",
       " 'Arab nationalism',\n",
       " 'Ministry of Interior (Egypt)',\n",
       " 'Public prosecutor general',\n",
       " 'Poverty threshold',\n",
       " 'Ahmed El Maghrabi',\n",
       " 'Suzanne Mubarak',\n",
       " 'Anas el-Fiqqi',\n",
       " '2011 Alexandria bombing',\n",
       " 'Baghdad',\n",
       " 'September',\n",
       " 'March 29',\n",
       " 'Russia',\n",
       " 'Portal:Society',\n",
       " 'Portal:Politics',\n",
       " 'Portal:Asia',\n",
       " 'Portal:Africa',\n",
       " 'Dmitry Medvedev',\n",
       " 'Middle East',\n",
       " 'Portal:2010s',\n",
       " 'Portal:Modern history',\n",
       " 'Portal:2000s',\n",
       " 'Stanford Encyclopedia of Philosophy',\n",
       " 'Portal:2020s']"
      ]
     },
     "execution_count": 18,
     "metadata": {},
     "output_type": "execute_result"
    }
   ],
   "source": [
    "onlyAr"
   ]
  },
  {
   "cell_type": "markdown",
   "id": "ee9cee3d",
   "metadata": {},
   "source": [
    "## make a table"
   ]
  },
  {
   "cell_type": "code",
   "execution_count": null,
   "id": "c7a79d34",
   "metadata": {},
   "outputs": [],
   "source": [
    "from tabulate import tabulate"
   ]
  },
  {
   "cell_type": "code",
   "execution_count": null,
   "id": "96d0ea0d",
   "metadata": {},
   "outputs": [],
   "source": [
    "xlist = ['English', 'Arabic']\n",
    "ylist = ['links with no ILL in other lang', 'link ILL but not in other article', 'shared ILLs']\n"
   ]
  },
  {
   "cell_type": "code",
   "execution_count": null,
   "id": "4bfb10f9",
   "metadata": {},
   "outputs": [],
   "source": []
  },
  {
   "cell_type": "code",
   "execution_count": null,
   "id": "e2bc824c",
   "metadata": {},
   "outputs": [],
   "source": []
  },
  {
   "cell_type": "code",
   "execution_count": null,
   "id": "c1a6db2d",
   "metadata": {},
   "outputs": [
    {
     "ename": "NameError",
     "evalue": "name 'table' is not defined",
     "output_type": "error",
     "traceback": [
      "\u001b[0;31m---------------------------------------------------------------------------\u001b[0m",
      "\u001b[0;31mNameError\u001b[0m                                 Traceback (most recent call last)",
      "Input \u001b[0;32mIn [39]\u001b[0m, in \u001b[0;36m<cell line: 1>\u001b[0;34m()\u001b[0m\n\u001b[0;32m----> 1\u001b[0m \u001b[38;5;28mprint\u001b[39m(tabulate(\u001b[43mtable\u001b[49m, headers\u001b[38;5;241m=\u001b[39m\u001b[38;5;124m'\u001b[39m\u001b[38;5;124mfirstrow\u001b[39m\u001b[38;5;124m'\u001b[39m, tablefmt\u001b[38;5;241m=\u001b[39m\u001b[38;5;124m'\u001b[39m\u001b[38;5;124mfancy_grid\u001b[39m\u001b[38;5;124m'\u001b[39m))\n",
      "\u001b[0;31mNameError\u001b[0m: name 'table' is not defined"
     ]
    }
   ],
   "source": [
    "#print(tabulate(table, headers='firstrow', tablefmt='fancy_grid'))"
   ]
  },
  {
   "cell_type": "code",
   "execution_count": null,
   "id": "5b3b7775",
   "metadata": {},
   "outputs": [],
   "source": []
  },
  {
   "cell_type": "code",
   "execution_count": null,
   "id": "77da571b",
   "metadata": {},
   "outputs": [],
   "source": []
  },
  {
   "cell_type": "code",
   "execution_count": null,
   "id": "d07b2189",
   "metadata": {},
   "outputs": [],
   "source": []
  },
  {
   "cell_type": "code",
   "execution_count": null,
   "id": "2db289e6",
   "metadata": {},
   "outputs": [],
   "source": []
  },
  {
   "cell_type": "code",
   "execution_count": null,
   "id": "eac6bb02",
   "metadata": {},
   "outputs": [],
   "source": []
  },
  {
   "cell_type": "code",
   "execution_count": null,
   "id": "8ceed4d6",
   "metadata": {},
   "outputs": [],
   "source": []
  },
  {
   "cell_type": "code",
   "execution_count": null,
   "id": "a4e44fb3",
   "metadata": {},
   "outputs": [],
   "source": []
  },
  {
   "cell_type": "markdown",
   "id": "65819ad3",
   "metadata": {},
   "source": [
    "## go through and see if there are any ar outlinks that don't have an ILL to english "
   ]
  },
  {
   "cell_type": "code",
   "execution_count": null,
   "id": "80d66c07",
   "metadata": {},
   "outputs": [],
   "source": [
    "onlyArNoILL = []\n",
    "\n",
    "for arOut in out_ar_lyst: #go through all the english words\n",
    "    ILL = wf.get_interlanguage_links(arOut)\n",
    "    try:\n",
    "        enILL = ILL['en']\n",
    "    except KeyError as ke:\n",
    "        onlyArNoILL.append(arOut)"
   ]
  },
  {
   "cell_type": "code",
   "execution_count": null,
   "id": "3114b0e2",
   "metadata": {},
   "outputs": [],
   "source": [
    "print(onlyArNoILL)"
   ]
  },
  {
   "cell_type": "code",
   "execution_count": null,
   "id": "4d7f4aad",
   "metadata": {},
   "outputs": [],
   "source": [
    "#print(onlyAr_clean)"
   ]
  },
  {
   "cell_type": "markdown",
   "id": "f054208d",
   "metadata": {},
   "source": [
    "## add the ones that don't have an ILL to the only EN page"
   ]
  },
  {
   "cell_type": "code",
   "execution_count": null,
   "id": "74696ff3",
   "metadata": {},
   "outputs": [],
   "source": [
    "onlyEn_clean = onlyEn_clean + onlyEnNoILL"
   ]
  },
  {
   "cell_type": "code",
   "execution_count": null,
   "id": "4bb662c9",
   "metadata": {},
   "outputs": [],
   "source": [
    "print(len(onlyEn_clean))"
   ]
  },
  {
   "cell_type": "markdown",
   "id": "f72bb852",
   "metadata": {},
   "source": [
    "## export to txt"
   ]
  },
  {
   "cell_type": "code",
   "execution_count": null,
   "id": "a15e7e79",
   "metadata": {},
   "outputs": [],
   "source": [
    "#inBoth_clean = []\n",
    "#onlyEn_clean = []\n",
    "#onlyAr_clean = []\n",
    "#onlyEnNoILL"
   ]
  },
  {
   "cell_type": "code",
   "execution_count": null,
   "id": "6ce3d8e0",
   "metadata": {},
   "outputs": [],
   "source": [
    "with open(r'outlinks_AS_onlyEn.txt', 'w') as fp:\n",
    "    for item in onlyEn_clean:\n",
    "        # write each item on a new line\n",
    "        fp.write(\"%s\\n\" % item)\n",
    "    print('Done')"
   ]
  },
  {
   "cell_type": "code",
   "execution_count": null,
   "id": "3a4e9a14",
   "metadata": {},
   "outputs": [],
   "source": []
  }
 ],
 "metadata": {
  "kernelspec": {
   "display_name": "Python 3",
   "language": "python",
   "name": "python3"
  },
  "language_info": {
   "codemirror_mode": {
    "name": "ipython",
    "version": 3
   },
   "file_extension": ".py",
   "mimetype": "text/x-python",
   "name": "python",
   "nbconvert_exporter": "python",
   "pygments_lexer": "ipython3",
   "version": "3.8.7"
  }
 },
 "nbformat": 4,
 "nbformat_minor": 5
}
