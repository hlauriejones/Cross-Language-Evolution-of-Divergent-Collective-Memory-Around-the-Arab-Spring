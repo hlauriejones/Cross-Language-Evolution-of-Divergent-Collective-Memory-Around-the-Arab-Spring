{
 "cells": [
  {
   "cell_type": "markdown",
   "id": "64f9191e",
   "metadata": {},
   "source": [
    "## 03c - Make ILL Visuals \n",
    "\n",
    "import:\n",
    "\n",
    "    00_en_as_rev_outlinks_m.pkl\n",
    "    00_en_as_rev_time_m.pkl\n",
    "    ILLdf_en.pkl\n",
    "\n",
    "    00_ar_as_rev_outlinks_m.pkl\n",
    "    00_ar_as_rev_time_m.pkl\n",
    "    03b_ILLdf_ar.pkl\n",
    "    \n",
    "output:\n",
    "\n",
    "    Visuals/03c_ILLlineChart.png\n",
    "    Visuals/03c_ILLlineChart_ar.png\n",
    "    \n",
    "    \n",
    "    \n",
    "The Plan:\n",
    "- this goes through and does some initial work with the outlinks \n",
    "- it grabs all of the outlinks in the english and arabic versions of the arab spring\n",
    "- organize them by ones that are only in each language. \n",
    "- identify ones that are in both by if there were english outlinks\n",
    "- that had an arabic ILL and if that arabic ILL was also an outlink\n",
    "\n",
    "\n",
    "1. English\n",
    "2. Arabic\n"
   ]
  },
  {
   "cell_type": "code",
   "execution_count": null,
   "id": "d4fbe9d9",
   "metadata": {},
   "outputs": [],
   "source": [
    "import numpy as np\n",
    "import pandas as pd\n",
    "import wikifunctions as wf\n",
    "from urllib.parse import unquote\n",
    "import pickle\n",
    "import matplotlib.pyplot as plt"
   ]
  },
  {
   "cell_type": "markdown",
   "id": "efcaf78c",
   "metadata": {},
   "source": [
    "## English"
   ]
  },
  {
   "cell_type": "code",
   "execution_count": 3,
   "id": "fffe1a19",
   "metadata": {},
   "outputs": [],
   "source": [
    "#open the English revision outlinks with a revision id\n",
    "\n",
    "with open('../Data/00_en_as_rev_outlinks_m.pkl', 'rb') as f:\n",
    "    outlinks = pickle.load(f)\n",
    "    \n",
    "outlinks_series = pd.Series(outlinks)"
   ]
  },
  {
   "cell_type": "code",
   "execution_count": 10,
   "id": "6b903682",
   "metadata": {},
   "outputs": [],
   "source": [
    "# outlinks_series"
   ]
  },
  {
   "cell_type": "code",
   "execution_count": 26,
   "id": "a89281fe",
   "metadata": {},
   "outputs": [],
   "source": [
    "#get times\n",
    "with open('../Data/00_en_as_rev_time_m.pkl', 'rb') as f:\n",
    "    outlinks_times = pickle.load(f)\n"
   ]
  },
  {
   "cell_type": "code",
   "execution_count": 27,
   "id": "dd84cee4",
   "metadata": {},
   "outputs": [
    {
     "data": {
      "text/plain": [
       "timestamp\n",
       "2011-01-31 00:00:00+00:00     410393753\n",
       "2011-02-28 00:00:00+00:00     411278546\n",
       "2011-03-31 00:00:00+00:00     416471292\n",
       "2011-04-30 00:00:00+00:00     421746845\n",
       "2011-05-31 00:00:00+00:00     426865693\n",
       "                                ...    \n",
       "2024-02-29 00:00:00+00:00    1203198924\n",
       "2024-03-31 00:00:00+00:00    1211702017\n",
       "2024-04-30 00:00:00+00:00    1216904430\n",
       "2024-05-31 00:00:00+00:00    1222164923\n",
       "2024-06-30 00:00:00+00:00    1227118198\n",
       "Freq: M, Name: revid, Length: 162, dtype: int64"
      ]
     },
     "execution_count": 27,
     "metadata": {},
     "output_type": "execute_result"
    }
   ],
   "source": [
    "outlinks_times"
   ]
  },
  {
   "cell_type": "code",
   "execution_count": null,
   "id": "65f32a13",
   "metadata": {},
   "outputs": [],
   "source": [
    "#open the English ILLs df\n",
    "\n",
    "with open('ILLdf_en.pkl', 'rb') as f:\n",
    "    data = pickle.load(f)\n"
   ]
  },
  {
   "cell_type": "code",
   "execution_count": 18,
   "id": "0b4eaab7",
   "metadata": {},
   "outputs": [
    {
     "data": {
      "text/html": [
       "<div>\n",
       "<style scoped>\n",
       "    .dataframe tbody tr th:only-of-type {\n",
       "        vertical-align: middle;\n",
       "    }\n",
       "\n",
       "    .dataframe tbody tr th {\n",
       "        vertical-align: top;\n",
       "    }\n",
       "\n",
       "    .dataframe thead th {\n",
       "        text-align: right;\n",
       "    }\n",
       "</style>\n",
       "<table border=\"1\" class=\"dataframe\">\n",
       "  <thead>\n",
       "    <tr style=\"text-align: right;\">\n",
       "      <th></th>\n",
       "      <th>NoILL its only in English</th>\n",
       "      <th>only in English AS</th>\n",
       "      <th>shared</th>\n",
       "    </tr>\n",
       "  </thead>\n",
       "  <tbody>\n",
       "    <tr>\n",
       "      <th>0</th>\n",
       "      <td>0</td>\n",
       "      <td>6</td>\n",
       "      <td>5</td>\n",
       "    </tr>\n",
       "    <tr>\n",
       "      <th>1</th>\n",
       "      <td>2</td>\n",
       "      <td>58</td>\n",
       "      <td>15</td>\n",
       "    </tr>\n",
       "    <tr>\n",
       "      <th>2</th>\n",
       "      <td>10</td>\n",
       "      <td>207</td>\n",
       "      <td>39</td>\n",
       "    </tr>\n",
       "    <tr>\n",
       "      <th>3</th>\n",
       "      <td>11</td>\n",
       "      <td>161</td>\n",
       "      <td>42</td>\n",
       "    </tr>\n",
       "    <tr>\n",
       "      <th>4</th>\n",
       "      <td>11</td>\n",
       "      <td>195</td>\n",
       "      <td>46</td>\n",
       "    </tr>\n",
       "  </tbody>\n",
       "</table>\n",
       "</div>"
      ],
      "text/plain": [
       "   NoILL its only in English  only in English AS  shared\n",
       "0                          0                   6       5\n",
       "1                          2                  58      15\n",
       "2                         10                 207      39\n",
       "3                         11                 161      42\n",
       "4                         11                 195      46"
      ]
     },
     "execution_count": 18,
     "metadata": {},
     "output_type": "execute_result"
    }
   ],
   "source": [
    "data.head()"
   ]
  },
  {
   "cell_type": "code",
   "execution_count": 21,
   "id": "1193d20f",
   "metadata": {},
   "outputs": [],
   "source": [
    "#clean\n",
    "data2 = data.loc[~(data==0).all(axis=1)]"
   ]
  },
  {
   "cell_type": "code",
   "execution_count": 28,
   "id": "c1daa375",
   "metadata": {},
   "outputs": [],
   "source": [
    "#dropping the last one to get the same length as the dates\n",
    "\n",
    "# data2.drop(data2.tail().index,inplace=True) # drop last n rows to make it the same as the outlinks\n",
    "\n",
    "outlinks_times.drop(outlinks_times.tail(2).index,inplace=True)"
   ]
  },
  {
   "cell_type": "markdown",
   "id": "491c09ce",
   "metadata": {},
   "source": [
    "## 1a. Make English Graph"
   ]
  },
  {
   "cell_type": "code",
   "execution_count": 36,
   "id": "0ce2f1ed",
   "metadata": {},
   "outputs": [
    {
     "name": "stderr",
     "output_type": "stream",
     "text": [
      "No handles with labels found to put in legend.\n"
     ]
    },
    {
     "data": {
      "image/png": "[encoded data removed]",
      "text/plain": [
       "<Figure size 432x288 with 1 Axes>"
      ]
     },
     "metadata": {
      "needs_background": "light"
     },
     "output_type": "display_data"
    }
   ],
   "source": [
    "# create data\n",
    "x = outlinks_times.index\n",
    "y1 = data2['NoILL its only in English']\n",
    "y2 = data2['only in English AS']\n",
    "y3 = data2['shared']\n",
    " \n",
    "#colors to match the network\n",
    "# plt.plot(x, y1, color='#2d5c40')#dark gree\n",
    "# plt.plot(x, y2, color='#bd61c9')#pink\n",
    "# plt.plot(x, y3, color='#42c2f5')#blue\n",
    "\n",
    "#for the poster\n",
    "plt.plot(x, y1, color='#AE2012')\n",
    "plt.plot(x, y2, color='#005F73')\n",
    "plt.plot(x, y3, color='#EE9B00')\n",
    "plt.legend()\n",
    "\n",
    "plt.legend([\"only in English language\", \"only in English Arab Spring page\", \"shared\"])\n",
    "plt.xlabel(\"Time\")\n",
    "plt.ylabel(\"Number of ILLs\")\n",
    "plt.title(\"English ILLs through time\")\n",
    "\n",
    "plt.savefig(\"Visuals/03c_ILLlineChart.png\")\n",
    "\n",
    "plt.show()"
   ]
  },
  {
   "cell_type": "code",
   "execution_count": null,
   "id": "6c4844e6",
   "metadata": {},
   "outputs": [
    {
     "data": {
      "text/html": [
       "<div>\n",
       "<style scoped>\n",
       "    .dataframe tbody tr th:only-of-type {\n",
       "        vertical-align: middle;\n",
       "    }\n",
       "\n",
       "    .dataframe tbody tr th {\n",
       "        vertical-align: top;\n",
       "    }\n",
       "\n",
       "    .dataframe thead th {\n",
       "        text-align: right;\n",
       "    }\n",
       "</style>\n",
       "<table border=\"1\" class=\"dataframe\">\n",
       "  <thead>\n",
       "    <tr style=\"text-align: right;\">\n",
       "      <th></th>\n",
       "      <th>NoILL its only in English</th>\n",
       "      <th>only in English AS</th>\n",
       "      <th>shared</th>\n",
       "    </tr>\n",
       "  </thead>\n",
       "  <tbody>\n",
       "    <tr>\n",
       "      <th>0</th>\n",
       "      <td>0</td>\n",
       "      <td>6</td>\n",
       "      <td>5</td>\n",
       "    </tr>\n",
       "    <tr>\n",
       "      <th>30</th>\n",
       "      <td>0</td>\n",
       "      <td>0</td>\n",
       "      <td>0</td>\n",
       "    </tr>\n",
       "    <tr>\n",
       "      <th>86</th>\n",
       "      <td>0</td>\n",
       "      <td>0</td>\n",
       "      <td>0</td>\n",
       "    </tr>\n",
       "  </tbody>\n",
       "</table>\n",
       "</div>"
      ],
      "text/plain": [
       "    NoILL its only in English  only in English AS  shared\n",
       "0                           0                   6       5\n",
       "30                          0                   0       0\n",
       "86                          0                   0       0"
      ]
     },
     "execution_count": 30,
     "metadata": {},
     "output_type": "execute_result"
    }
   ],
   "source": [
    "#clean it up if necessary\n",
    "\n",
    "# data.loc[data['NoILL its only in English'] == 0]"
   ]
  },
  {
   "cell_type": "code",
   "execution_count": 34,
   "id": "0265f962",
   "metadata": {},
   "outputs": [],
   "source": [
    "# data = data.drop([30, 86])"
   ]
  },
  {
   "cell_type": "code",
   "execution_count": 35,
   "id": "ad51ba5b",
   "metadata": {},
   "outputs": [],
   "source": [
    "# create data\n",
    "# x = data.index\n",
    "# y1 = data['NoILL its only in English']\n",
    "# y2 = data['only in English AS']\n",
    "# y3 = data['shared']\n",
    " \n",
    "# plt.plot(x, y1, color='dark green')#dark gree\n",
    "# plt.plot(x, y2, color='magenta')#pink\n",
    "# plt.plot(x, y3, color='light blue')#blue\n",
    "# plt.legend()\n",
    "\n",
    "# plt.legend([\"only in English language\", \"only in English Arab Spring page\", \"shared\"])\n",
    "# plt.xlabel(\"Number of Months\")\n",
    "# plt.ylabel(\"Number of ILLs\")\n",
    "# plt.title(\"English ILLs through time\")\n",
    "\n",
    "# plt.savefig(\"03c_ILLlineChart.png\")\n",
    "\n",
    "# plt.show()"
   ]
  },
  {
   "cell_type": "markdown",
   "id": "e726215e",
   "metadata": {},
   "source": []
  },
  {
   "cell_type": "code",
   "execution_count": null,
   "id": "77110e70",
   "metadata": {},
   "outputs": [],
   "source": []
  },
  {
   "cell_type": "markdown",
   "id": "81523244",
   "metadata": {},
   "source": [
    "## Arabic"
   ]
  },
  {
   "cell_type": "code",
   "execution_count": null,
   "id": "e625ab5d",
   "metadata": {},
   "outputs": [],
   "source": [
    "#open the Arabic revision outlinks with a revision id\n",
    "\n",
    "with open('../Data/00_ar_as_rev_outlinks_m.pkl', 'rb') as f:\n",
    "    ar_outlinks = pickle.load(f)\n",
    "    \n",
    "ar_outlinks_series = pd.Series(ar_outlinks)"
   ]
  },
  {
   "cell_type": "code",
   "execution_count": 41,
   "id": "6d93e881",
   "metadata": {},
   "outputs": [],
   "source": [
    "# ar_outlinks_series"
   ]
  },
  {
   "cell_type": "code",
   "execution_count": 40,
   "id": "11509c53",
   "metadata": {},
   "outputs": [],
   "source": [
    "#02c_ar_as_rev_time_m.pkl\n",
    "\n",
    "with open('../Data/00_ar_as_rev_time_m.pkl', 'rb') as f:\n",
    "    ar_times = pickle.load(f)"
   ]
  },
  {
   "cell_type": "code",
   "execution_count": 43,
   "id": "366acad6",
   "metadata": {},
   "outputs": [],
   "source": [
    "# ar_times"
   ]
  },
  {
   "cell_type": "code",
   "execution_count": null,
   "id": "e75b3044",
   "metadata": {},
   "outputs": [],
   "source": [
    "#open the Arabic ILLs df\n",
    "\n",
    "with open('Data/03c_ILLdf_ar.pkl', 'rb') as f:\n",
    "    ar_data = pickle.load(f)\n",
    "    "
   ]
  },
  {
   "cell_type": "code",
   "execution_count": 20,
   "id": "aa147750",
   "metadata": {},
   "outputs": [
    {
     "data": {
      "text/html": [
       "<div>\n",
       "<style scoped>\n",
       "    .dataframe tbody tr th:only-of-type {\n",
       "        vertical-align: middle;\n",
       "    }\n",
       "\n",
       "    .dataframe tbody tr th {\n",
       "        vertical-align: top;\n",
       "    }\n",
       "\n",
       "    .dataframe thead th {\n",
       "        text-align: right;\n",
       "    }\n",
       "</style>\n",
       "<table border=\"1\" class=\"dataframe\">\n",
       "  <thead>\n",
       "    <tr style=\"text-align: right;\">\n",
       "      <th></th>\n",
       "      <th>NoILL its only in Arabic</th>\n",
       "      <th>only in Arabic AS</th>\n",
       "      <th>shared</th>\n",
       "    </tr>\n",
       "  </thead>\n",
       "  <tbody>\n",
       "    <tr>\n",
       "      <th>0</th>\n",
       "      <td>0</td>\n",
       "      <td>0</td>\n",
       "      <td>12</td>\n",
       "    </tr>\n",
       "    <tr>\n",
       "      <th>1</th>\n",
       "      <td>0</td>\n",
       "      <td>0</td>\n",
       "      <td>12</td>\n",
       "    </tr>\n",
       "    <tr>\n",
       "      <th>2</th>\n",
       "      <td>9</td>\n",
       "      <td>32</td>\n",
       "      <td>48</td>\n",
       "    </tr>\n",
       "    <tr>\n",
       "      <th>3</th>\n",
       "      <td>7</td>\n",
       "      <td>42</td>\n",
       "      <td>44</td>\n",
       "    </tr>\n",
       "    <tr>\n",
       "      <th>4</th>\n",
       "      <td>7</td>\n",
       "      <td>46</td>\n",
       "      <td>46</td>\n",
       "    </tr>\n",
       "  </tbody>\n",
       "</table>\n",
       "</div>"
      ],
      "text/plain": [
       "   NoILL its only in Arabic  only in Arabic AS  shared\n",
       "0                         0                  0      12\n",
       "1                         0                  0      12\n",
       "2                         9                 32      48\n",
       "3                         7                 42      44\n",
       "4                         7                 46      46"
      ]
     },
     "execution_count": 20,
     "metadata": {},
     "output_type": "execute_result"
    }
   ],
   "source": [
    "ar_data.head()"
   ]
  },
  {
   "cell_type": "code",
   "execution_count": 21,
   "id": "91520c53",
   "metadata": {},
   "outputs": [],
   "source": [
    "#dropping the last one to get the same length as the dates\n",
    "ar_data.drop(ar_data.tail(1).index,inplace=True) # drop last n rows"
   ]
  },
  {
   "cell_type": "markdown",
   "id": "41eef9a6",
   "metadata": {},
   "source": [
    "### make graph"
   ]
  },
  {
   "cell_type": "code",
   "execution_count": null,
   "id": "65683610",
   "metadata": {},
   "outputs": [
    {
     "name": "stderr",
     "output_type": "stream",
     "text": [
      "No artists with labels found to put in legend.  Note that artists whose label start with an underscore are ignored when legend() is called with no argument.\n"
     ]
    },
    {
     "data": {
      "image/png": "[encoded data removed]",
      "text/plain": [
       "<Figure size 640x480 with 1 Axes>"
      ]
     },
     "metadata": {},
     "output_type": "display_data"
    }
   ],
   "source": [
    "# create data\n",
    "x = ar_times.index\n",
    "y1 = ar_data['NoILL its only in Arabic']\n",
    "y2 = ar_data['only in Arabic AS']\n",
    "y3 = ar_data['shared']\n",
    " \n",
    "#network colors\n",
    "# plt.plot(x, y1, color='#f06075')\n",
    "# plt.plot(x, y2, color='#7dab6f')\n",
    "# plt.plot(x, y3, color='#42c2f5')\n",
    "\n",
    "#poster colors\n",
    "plt.plot(x, y1, color='#AE2012')\n",
    "plt.plot(x, y2, color='#005F73')\n",
    "plt.plot(x, y3, color='#EE9B00')\n",
    "plt.legend()\n",
    "\n",
    "plt.legend([\"only in Arabic language\", \"only in Arabic Arab Spring page\", \"shared\"])\n",
    "plt.xlabel(\"Time\")\n",
    "plt.ylabel(\"Number of ILLs\")\n",
    "plt.title(\"Arabic ILLs through time\")\n",
    "\n",
    "plt.savefig(\"Visuals/03c_ILLlineChart_ar.png\")\n",
    "\n",
    "\n",
    "plt.show()"
   ]
  },
  {
   "cell_type": "code",
   "execution_count": 19,
   "id": "c582ce0a",
   "metadata": {},
   "outputs": [
    {
     "name": "stdout",
     "output_type": "stream",
     "text": [
      "<class 'pandas.core.series.Series'>\n"
     ]
    }
   ],
   "source": [
    "print(type(y1))\n",
    "# y1.drop(y1.index[0])\n",
    "# y1.iloc[1:]\n",
    "\n",
    "# print(len(y1))\n",
    "\n"
   ]
  },
  {
   "cell_type": "code",
   "execution_count": null,
   "id": "bb6ec02a",
   "metadata": {},
   "outputs": [],
   "source": []
  },
  {
   "cell_type": "code",
   "execution_count": null,
   "id": "e581f2c2",
   "metadata": {},
   "outputs": [],
   "source": []
  }
 ],
 "metadata": {
  "kernelspec": {
   "display_name": "Python 3",
   "language": "python",
   "name": "python3"
  },
  "language_info": {
   "codemirror_mode": {
    "name": "ipython",
    "version": 3
   },
   "file_extension": ".py",
   "mimetype": "text/x-python",
   "name": "python",
   "nbconvert_exporter": "python",
   "pygments_lexer": "ipython3",
   "version": "3.8.7"
  }
 },
 "nbformat": 4,
 "nbformat_minor": 5
}
