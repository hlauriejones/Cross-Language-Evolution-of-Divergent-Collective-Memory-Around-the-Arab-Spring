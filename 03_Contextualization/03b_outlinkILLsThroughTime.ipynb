{
 "cells": [
  {
   "cell_type": "markdown",
   "id": "e1aac56f",
   "metadata": {},
   "source": [
    "## 03a - Assess Outlink ILLs Through time\n",
    "Of all of the outlinks throughout time this calculates the current ILL situation\n",
    "note: you cannot get the historical ILL sitution so this is whether or not it CURRENTLY has an ILL\n",
    "\n",
    "import:\n",
    "\n",
    "    00_en_as_rev_outlinks_m.pkl\n",
    "    00_ar_as_rev_outlinks_m.pkl\n",
    "    \n",
    "output:\n",
    "    ILLdf_en.pkl\n",
    "    \n",
    "    \n",
    "The Plan:\n",
    "- it grabs all of the outlinks in the english and arabic versions of the arab spring throughout time\n",
    "- organize them by ones that are only in each language. \n",
    "- identify ones that are in both by if there were english outlinks which is now done by functions\n",
    "- that had an arabic ILL and if that arabic ILL was also an outlink\n",
    "- make a table with all of this information\n",
    "\n",
    "1. Get Data\n",
    "2. Make List of all the Unique Outlinks for Comparison\n",
    "3. Get the ILLs and sort them"
   ]
  },
  {
   "cell_type": "code",
   "execution_count": 1,
   "id": "b74c59a1",
   "metadata": {},
   "outputs": [],
   "source": [
    "import numpy as np\n",
    "import pandas as pd\n",
    "import wikifunctions as wf #Brian's stuff\n",
    "from urllib.parse import unquote\n",
    "import pickle"
   ]
  },
  {
   "cell_type": "markdown",
   "id": "5cf9b5a3",
   "metadata": {},
   "source": [
    "## 1- Get Data"
   ]
  },
  {
   "cell_type": "markdown",
   "id": "6ab31d48",
   "metadata": {},
   "source": [
    "### English"
   ]
  },
  {
   "cell_type": "code",
   "execution_count": 2,
   "id": "49fd4025",
   "metadata": {},
   "outputs": [],
   "source": [
    "#open the English revision outlinks with a revision id\n",
    "\n",
    "with open('../Data/00_en_as_rev_outlinks_m.pkl', 'rb') as f:\n",
    "    data = pickle.load(f)\n",
    "    \n",
    "result_series = pd.Series(data)"
   ]
  },
  {
   "cell_type": "code",
   "execution_count": 3,
   "id": "45b1c34a",
   "metadata": {},
   "outputs": [],
   "source": [
    "# result_series.keys"
   ]
  },
  {
   "cell_type": "code",
   "execution_count": 4,
   "id": "1c01faea",
   "metadata": {},
   "outputs": [],
   "source": [
    "#get rid of duplicates in each outlinks list\n",
    "#english\n",
    "outlinksUnique = {}\n",
    "keys = result_series.keys()\n",
    "\n",
    "for i in keys:\n",
    "    outlinksUnique[i] = np.unique(result_series[i]).tolist()"
   ]
  },
  {
   "cell_type": "code",
   "execution_count": 5,
   "id": "67f17b5e",
   "metadata": {},
   "outputs": [],
   "source": [
    "# outlinksUnique.keys()"
   ]
  },
  {
   "cell_type": "markdown",
   "id": "4e4175f8",
   "metadata": {},
   "source": [
    "### Arabic"
   ]
  },
  {
   "cell_type": "code",
   "execution_count": 6,
   "id": "fe3c106e",
   "metadata": {},
   "outputs": [],
   "source": [
    "#open the English revision outlinks with a revision id\n",
    "\n",
    "with open('../Data/00_ar_as_rev_outlinks_m.pkl', 'rb') as f:\n",
    "    ar_data = pickle.load(f)\n",
    "    \n",
    "ar_result_series = pd.Series(ar_data)"
   ]
  },
  {
   "cell_type": "code",
   "execution_count": 7,
   "id": "1c2461e0",
   "metadata": {},
   "outputs": [],
   "source": [
    "# ar_result_series"
   ]
  },
  {
   "cell_type": "markdown",
   "id": "6740f4b1",
   "metadata": {},
   "source": []
  },
  {
   "cell_type": "code",
   "execution_count": 8,
   "id": "98b5829d",
   "metadata": {},
   "outputs": [],
   "source": [
    "#arabic\n",
    "ar_outlinksUnique = {}\n",
    "ar_keys = ar_result_series.keys()\n",
    "\n",
    "for i in ar_keys:\n",
    "    ar_outlinksUnique[i] = np.unique(ar_result_series[i]).tolist()"
   ]
  },
  {
   "cell_type": "code",
   "execution_count": 9,
   "id": "584321d3",
   "metadata": {},
   "outputs": [],
   "source": [
    "# ar_outlinksUnique.keys()"
   ]
  },
  {
   "cell_type": "markdown",
   "id": "86df5c26",
   "metadata": {},
   "source": [
    "## 2 - Make List of all the Unique Outlinks for Comparison"
   ]
  },
  {
   "cell_type": "code",
   "execution_count": 10,
   "id": "eda10949",
   "metadata": {},
   "outputs": [],
   "source": [
    "import itertools\n",
    "\n",
    "def merge(*lists):\n",
    "    newlist = []\n",
    "    for i in lists:\n",
    "            newlist.extend(i)\n",
    "    return newlist"
   ]
  },
  {
   "cell_type": "markdown",
   "id": "cee10ffe",
   "metadata": {},
   "source": [
    "### English"
   ]
  },
  {
   "cell_type": "code",
   "execution_count": 11,
   "id": "ac699062",
   "metadata": {},
   "outputs": [
    {
     "data": {
      "text/plain": [
       "848"
      ]
     },
     "execution_count": 11,
     "metadata": {},
     "output_type": "execute_result"
    }
   ],
   "source": [
    "everyOutlink = merge(outlinksUnique.values()) #makes lists of lists\n",
    "everyOutlink = list(itertools.chain.from_iterable(everyOutlink)) #puts them all in one list\n",
    "everyOutlink = np.unique(everyOutlink).tolist() #a list of alphabetized unique outlinks\n",
    "\n",
    "len(everyOutlink)"
   ]
  },
  {
   "cell_type": "code",
   "execution_count": 12,
   "id": "3ff2e122",
   "metadata": {},
   "outputs": [
    {
     "data": {
      "text/plain": [
       "402"
      ]
     },
     "execution_count": 12,
     "metadata": {},
     "output_type": "execute_result"
    }
   ],
   "source": [
    "ar_everyOutlink = merge(ar_outlinksUnique.values()) #makes lists of lists\n",
    "ar_everyOutlink = list(itertools.chain.from_iterable(ar_everyOutlink)) #puts them all in one list\n",
    "ar_everyOutlink = np.unique(ar_everyOutlink).tolist() #a list of alphabetized unique outlinks\n",
    "\n",
    "len(ar_everyOutlink)"
   ]
  },
  {
   "cell_type": "markdown",
   "id": "1f8ea8ed",
   "metadata": {},
   "source": []
  },
  {
   "cell_type": "markdown",
   "id": "126daa18",
   "metadata": {},
   "source": [
    "## 3- Get ILLs"
   ]
  },
  {
   "cell_type": "markdown",
   "id": "40df3cba",
   "metadata": {},
   "source": [
    "### English"
   ]
  },
  {
   "cell_type": "code",
   "execution_count": 13,
   "id": "0e049b25",
   "metadata": {},
   "outputs": [],
   "source": [
    "#get ILLs\n",
    "onlyEnNoILL = [] #a list of english links - this is an En ILL but no arabic ILL \n",
    "enOutarILL = [] #a list of english links - there is an arILL in out_ar_lyst_clean\n",
    "onlyEn = [] #a list of english links- that have an arabic out link but it is not in in out_ar_lyst_clean"
   ]
  },
  {
   "cell_type": "markdown",
   "id": "5eaab257",
   "metadata": {},
   "source": [
    "make functions"
   ]
  },
  {
   "cell_type": "code",
   "execution_count": 14,
   "id": "a7fcaff1",
   "metadata": {},
   "outputs": [],
   "source": [
    "#gets all of the arabic ILL for english outlinks\n",
    "#first in English, second in Arabic\n",
    "\n",
    "def seeIfnoILL(out_en_lyst_clean):\n",
    "    #if there is one it is added to:\n",
    "    arILLforEnOutlinks = []\n",
    "\n",
    "    #if there isn't one it is added to: \n",
    "    onlyEnNoILL = [] \n",
    "\n",
    "    for enOut in out_en_lyst_clean:\n",
    "        ILL = wf.get_interlanguage_links(enOut)\n",
    "        try:\n",
    "            arILL = ILL['ar']\n",
    "            arILLforEnOutlinks.append(arILL)\n",
    "            #print(arILL)\n",
    "        except KeyError as ke:\n",
    "            #print(enOut)\n",
    "            onlyEnNoILL.append(enOut) #no arabic ILL \n",
    "            \n",
    "    return onlyEnNoILL, arILLforEnOutlinks"
   ]
  },
  {
   "cell_type": "code",
   "execution_count": 15,
   "id": "56e1d4b9",
   "metadata": {},
   "outputs": [],
   "source": [
    "#checks to see if the arabic ILLs are in the outlinks of the arabic page\n",
    "#returns things in English\n",
    "\n",
    "def seeRelatedtoAR(arILLforEnOutlinks, out_ar_lyst_clean):\n",
    "    #if they are add it to: \n",
    "    enOutarILL = []\n",
    "    enOutarILL_arabic = []\n",
    "\n",
    "    #if the arabic ILL is not referenced also in the arabic page add it to\n",
    "    onlyEn = []\n",
    "    onlyEn_english = []\n",
    "\n",
    "\n",
    "    for arOut in arILLforEnOutlinks: #goes through all of the arabic outlinks\n",
    "        ILL = wf.get_interlanguage_links(arOut, 'ar.wikipedia.org/w/api.php' )\n",
    "        #print(ILL)\n",
    "        enILL = ILL['en'] #goes backward to the english ILL\n",
    "\n",
    "        if arOut in out_ar_lyst_clean: #there is arILL in the arabic outlinks \n",
    "            enOutarILL.append(enILL)\n",
    "            enOutarILL_arabic.append(arOut)\n",
    "\n",
    "        else:\n",
    "            onlyEn.append(arOut) #this is if it has an arILl but it isn't in the outlinks\n",
    "            onlyEn_english.append(enILL)\n",
    "    return onlyEn_english, enOutarILL"
   ]
  },
  {
   "cell_type": "code",
   "execution_count": null,
   "id": "ee8b6161",
   "metadata": {},
   "outputs": [],
   "source": []
  },
  {
   "cell_type": "markdown",
   "id": "9a5db58b",
   "metadata": {},
   "source": [
    "run functions"
   ]
  },
  {
   "cell_type": "code",
   "execution_count": 16,
   "id": "d4c995c1",
   "metadata": {},
   "outputs": [],
   "source": [
    "ILLdict = pd.DataFrame(columns = ['NoILL its only in English','only in English AS', 'shared'])#, index=outlinksUnique.values)\n",
    "keys = outlinksUnique.keys()"
   ]
  },
  {
   "cell_type": "code",
   "execution_count": 17,
   "id": "b2e06c2b",
   "metadata": {},
   "outputs": [],
   "source": [
    "for i in keys:\n",
    "    lyst = [] #sets up list to add as a row\n",
    "\n",
    "    onlyEnNoILL, arILLforEnOutlinks = seeIfnoILL(outlinksUnique[i])\n",
    "    onlyEn_english, enOutarILL = seeRelatedtoAR(arILLforEnOutlinks, ar_everyOutlink)\n",
    "\n",
    "    lyst = [len(onlyEnNoILL), len(onlyEn_english), len(enOutarILL)]\n",
    "    ILLdict.loc[len(ILLdict)] = lyst #this does not bring over \n",
    "\n",
    "    "
   ]
  },
  {
   "cell_type": "code",
   "execution_count": 18,
   "id": "6fbe4e7a",
   "metadata": {},
   "outputs": [
    {
     "data": {
      "text/html": [
       "<div>\n",
       "<style scoped>\n",
       "    .dataframe tbody tr th:only-of-type {\n",
       "        vertical-align: middle;\n",
       "    }\n",
       "\n",
       "    .dataframe tbody tr th {\n",
       "        vertical-align: top;\n",
       "    }\n",
       "\n",
       "    .dataframe thead th {\n",
       "        text-align: right;\n",
       "    }\n",
       "</style>\n",
       "<table border=\"1\" class=\"dataframe\">\n",
       "  <thead>\n",
       "    <tr style=\"text-align: right;\">\n",
       "      <th></th>\n",
       "      <th>NoILL its only in English</th>\n",
       "      <th>only in English AS</th>\n",
       "      <th>shared</th>\n",
       "    </tr>\n",
       "  </thead>\n",
       "  <tbody>\n",
       "    <tr>\n",
       "      <th>0</th>\n",
       "      <td>0</td>\n",
       "      <td>6</td>\n",
       "      <td>5</td>\n",
       "    </tr>\n",
       "    <tr>\n",
       "      <th>1</th>\n",
       "      <td>2</td>\n",
       "      <td>58</td>\n",
       "      <td>15</td>\n",
       "    </tr>\n",
       "    <tr>\n",
       "      <th>2</th>\n",
       "      <td>10</td>\n",
       "      <td>207</td>\n",
       "      <td>39</td>\n",
       "    </tr>\n",
       "    <tr>\n",
       "      <th>3</th>\n",
       "      <td>11</td>\n",
       "      <td>161</td>\n",
       "      <td>42</td>\n",
       "    </tr>\n",
       "    <tr>\n",
       "      <th>4</th>\n",
       "      <td>11</td>\n",
       "      <td>195</td>\n",
       "      <td>46</td>\n",
       "    </tr>\n",
       "  </tbody>\n",
       "</table>\n",
       "</div>"
      ],
      "text/plain": [
       "   NoILL its only in English  only in English AS  shared\n",
       "0                          0                   6       5\n",
       "1                          2                  58      15\n",
       "2                         10                 207      39\n",
       "3                         11                 161      42\n",
       "4                         11                 195      46"
      ]
     },
     "execution_count": 18,
     "metadata": {},
     "output_type": "execute_result"
    }
   ],
   "source": [
    "ILLdict.head()"
   ]
  },
  {
   "cell_type": "code",
   "execution_count": 19,
   "id": "8322c7ed",
   "metadata": {},
   "outputs": [],
   "source": [
    "import pickle\n",
    "\n",
    "with open('../Data/03b_ILLdf_en.pkl', 'wb') as f:\n",
    "    pickle.dump(ILLdict, f)"
   ]
  },
  {
   "cell_type": "markdown",
   "id": "4a345acf",
   "metadata": {},
   "source": [
    "### Arabic"
   ]
  },
  {
   "cell_type": "markdown",
   "id": "c188ab1f",
   "metadata": {},
   "source": [
    "make functions"
   ]
  },
  {
   "cell_type": "code",
   "execution_count": 20,
   "id": "43996478",
   "metadata": {},
   "outputs": [],
   "source": [
    "#gets all of the english translations of the outlinks\n",
    "\n",
    "def ar_seeIfnoILL(out_ar_lyst_clean):\n",
    "    #if there is an english ILL\n",
    "    enILLforArOutlinks = []\n",
    "    #if there isn't one it is added to: \n",
    "    onlyArNoILL = [] \n",
    "\n",
    "    for arOut in out_ar_lyst_clean: #goes throguh all the arabic outlines\n",
    "        ILL = wf.get_interlanguage_links(arOut, endpoint='ar.wikipedia.org/w/api.php')\n",
    "        try:\n",
    "            enILL = ILL['en']\n",
    "            enILLforArOutlinks.append(enILL) #gets english ILL\n",
    "            #print(enILL)\n",
    "        except KeyError as ke:\n",
    "            onlyArNoILL.append(arOut) #no english ILL \n",
    "            \n",
    "    return onlyArNoILL, enILLforArOutlinks \n",
    "\n"
   ]
  },
  {
   "cell_type": "code",
   "execution_count": 21,
   "id": "b97803c5",
   "metadata": {},
   "outputs": [],
   "source": [
    "#if they are add it to: \n",
    "\n",
    "\n",
    "def seeRelatedtoEN(enILLforArOutlinks, out_en_lyst_clean):\n",
    "    arOutenILL = []\n",
    "    arOutenILL_english = []\n",
    "\n",
    "    #if the english ILL is not referenced also in the arabic page add it to\n",
    "    onlyAr = []\n",
    "    onlyAr_arabic = []\n",
    "\n",
    "    for enOut in enILLforArOutlinks: #goes through all the ones with ILLs in english\n",
    "        ILL = wf.get_interlanguage_links(enOut, endpoint='ar.wikipedia.org/w/api.php')\n",
    "        #print(enOut)\n",
    "        arILL = ILL['ar'] #translates them back to arabic\n",
    "        #print(arILL)\n",
    "\n",
    "        if enOut in out_en_lyst_clean: #there is enILL in the english outlinks \n",
    "            arOutenILL.append(arILL) #adds the arabic version\n",
    "            arOutenILL_english.append(enOut) #keept the english version\n",
    "\n",
    "        else:\n",
    "            onlyAr.append(enOut) #this is if it has an arILl but it isn't in the outlinks\n",
    "            onlyAr_arabic.append(arILL)\n",
    "            \n",
    "    return onlyAr, arOutenILL #onlyEn_english, enOutarILL"
   ]
  },
  {
   "cell_type": "markdown",
   "id": "b6120977",
   "metadata": {},
   "source": [
    "run it"
   ]
  },
  {
   "cell_type": "code",
   "execution_count": 22,
   "id": "9d77c327",
   "metadata": {},
   "outputs": [],
   "source": [
    "ar_ILLdict = pd.DataFrame(columns = ['NoILL its only in Arabic','only in Arabic AS', 'shared'])#, index=outlinksUnique.values)\n",
    "ar_keys = ar_outlinksUnique.keys()"
   ]
  },
  {
   "cell_type": "code",
   "execution_count": 23,
   "id": "42fd7c1c",
   "metadata": {},
   "outputs": [
    {
     "name": "stderr",
     "output_type": "stream",
     "text": [
      "  0%|          | 0/149 [00:00<?, ?it/s]"
     ]
    },
    {
     "name": "stderr",
     "output_type": "stream",
     "text": [
      "100%|██████████| 149/149 [3:15:16<00:00, 78.63s/it]  \n"
     ]
    }
   ],
   "source": [
    "from tqdm import tqdm\n",
    "\n",
    "onlyArNoILL_lyst = []\n",
    "enILLforArOutlinks_lyst = []\n",
    "onlyAr_lyst = []\n",
    "arOutenILL_lyst = []\n",
    "\n",
    "for i in tqdm(ar_keys):\n",
    "    lyst = [] #sets up list to add as a row\n",
    "\n",
    "    onlyArNoILL, enILLforArOutlinks  = ar_seeIfnoILL(ar_outlinksUnique[i])\n",
    "    onlyAr, arOutenILL = seeRelatedtoEN(enILLforArOutlinks, everyOutlink)\n",
    "\n",
    "    lyst = [len(onlyArNoILL), len(onlyAr), len(arOutenILL)]\n",
    "    ar_ILLdict.loc[len(ar_ILLdict)] = lyst #this does not bring over "
   ]
  },
  {
   "cell_type": "code",
   "execution_count": 24,
   "id": "2471e150",
   "metadata": {},
   "outputs": [
    {
     "data": {
      "text/html": [
       "<div>\n",
       "<style scoped>\n",
       "    .dataframe tbody tr th:only-of-type {\n",
       "        vertical-align: middle;\n",
       "    }\n",
       "\n",
       "    .dataframe tbody tr th {\n",
       "        vertical-align: top;\n",
       "    }\n",
       "\n",
       "    .dataframe thead th {\n",
       "        text-align: right;\n",
       "    }\n",
       "</style>\n",
       "<table border=\"1\" class=\"dataframe\">\n",
       "  <thead>\n",
       "    <tr style=\"text-align: right;\">\n",
       "      <th></th>\n",
       "      <th>NoILL its only in Arabic</th>\n",
       "      <th>only in Arabic AS</th>\n",
       "      <th>shared</th>\n",
       "    </tr>\n",
       "  </thead>\n",
       "  <tbody>\n",
       "    <tr>\n",
       "      <th>0</th>\n",
       "      <td>1</td>\n",
       "      <td>0</td>\n",
       "      <td>11</td>\n",
       "    </tr>\n",
       "    <tr>\n",
       "      <th>1</th>\n",
       "      <td>11</td>\n",
       "      <td>33</td>\n",
       "      <td>50</td>\n",
       "    </tr>\n",
       "    <tr>\n",
       "      <th>2</th>\n",
       "      <td>10</td>\n",
       "      <td>44</td>\n",
       "      <td>47</td>\n",
       "    </tr>\n",
       "    <tr>\n",
       "      <th>3</th>\n",
       "      <td>10</td>\n",
       "      <td>48</td>\n",
       "      <td>47</td>\n",
       "    </tr>\n",
       "    <tr>\n",
       "      <th>4</th>\n",
       "      <td>12</td>\n",
       "      <td>86</td>\n",
       "      <td>56</td>\n",
       "    </tr>\n",
       "    <tr>\n",
       "      <th>...</th>\n",
       "      <td>...</td>\n",
       "      <td>...</td>\n",
       "      <td>...</td>\n",
       "    </tr>\n",
       "    <tr>\n",
       "      <th>144</th>\n",
       "      <td>29</td>\n",
       "      <td>136</td>\n",
       "      <td>107</td>\n",
       "    </tr>\n",
       "    <tr>\n",
       "      <th>145</th>\n",
       "      <td>29</td>\n",
       "      <td>137</td>\n",
       "      <td>107</td>\n",
       "    </tr>\n",
       "    <tr>\n",
       "      <th>146</th>\n",
       "      <td>29</td>\n",
       "      <td>138</td>\n",
       "      <td>107</td>\n",
       "    </tr>\n",
       "    <tr>\n",
       "      <th>147</th>\n",
       "      <td>29</td>\n",
       "      <td>138</td>\n",
       "      <td>107</td>\n",
       "    </tr>\n",
       "    <tr>\n",
       "      <th>148</th>\n",
       "      <td>29</td>\n",
       "      <td>138</td>\n",
       "      <td>107</td>\n",
       "    </tr>\n",
       "  </tbody>\n",
       "</table>\n",
       "<p>149 rows × 3 columns</p>\n",
       "</div>"
      ],
      "text/plain": [
       "     NoILL its only in Arabic  only in Arabic AS  shared\n",
       "0                           1                  0      11\n",
       "1                          11                 33      50\n",
       "2                          10                 44      47\n",
       "3                          10                 48      47\n",
       "4                          12                 86      56\n",
       "..                        ...                ...     ...\n",
       "144                        29                136     107\n",
       "145                        29                137     107\n",
       "146                        29                138     107\n",
       "147                        29                138     107\n",
       "148                        29                138     107\n",
       "\n",
       "[149 rows x 3 columns]"
      ]
     },
     "execution_count": 24,
     "metadata": {},
     "output_type": "execute_result"
    }
   ],
   "source": [
    "ar_ILLdict"
   ]
  },
  {
   "cell_type": "code",
   "execution_count": 25,
   "id": "67c1ad0c",
   "metadata": {},
   "outputs": [],
   "source": [
    "with open('../Data/03b_ILLdf_ar.pkl', 'wb') as f:\n",
    "    pickle.dump(ar_ILLdict, f)"
   ]
  },
  {
   "cell_type": "code",
   "execution_count": null,
   "id": "7065cef8",
   "metadata": {},
   "outputs": [],
   "source": []
  },
  {
   "cell_type": "code",
   "execution_count": null,
   "id": "b7fb973c",
   "metadata": {},
   "outputs": [],
   "source": []
  },
  {
   "cell_type": "code",
   "execution_count": null,
   "id": "e8b1de55",
   "metadata": {},
   "outputs": [],
   "source": []
  }
 ],
 "metadata": {
  "kernelspec": {
   "display_name": "Python 3",
   "language": "python",
   "name": "python3"
  },
  "language_info": {
   "codemirror_mode": {
    "name": "ipython",
    "version": 3
   },
   "file_extension": ".py",
   "mimetype": "text/x-python",
   "name": "python",
   "nbconvert_exporter": "python",
   "pygments_lexer": "ipython3",
   "version": "3.8.7"
  }
 },
 "nbformat": 4,
 "nbformat_minor": 5
}
