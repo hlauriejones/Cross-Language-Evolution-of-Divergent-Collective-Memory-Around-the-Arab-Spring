{
 "cells": [
  {
   "cell_type": "markdown",
   "id": "e1aac56f",
   "metadata": {},
   "source": [
    "## 03a - Assess Outlink ILLs Through time\n",
    "Of all of the outlinks throughout time this calculates the current ILL situation\n",
    "note: you cannot get the historical ILL sitution so this is whether or not it CURRENTLY has an ILL\n",
    "\n",
    "import:\n",
    "\n",
    "    00_en_as_rev_outlinks_m.pkl\n",
    "    00_ar_as_rev_outlinks_m.pkl\n",
    "    \n",
    "output:\n",
    "    ILLdf_en.pkl\n",
    "    \n",
    "    \n",
    "The Plan:\n",
    "- it grabs all of the outlinks in the english and arabic versions of the arab spring throughout time\n",
    "- organize them by ones that are only in each language. \n",
    "- identify ones that are in both by if there were english outlinks which is now done by functions\n",
    "- that had an arabic ILL and if that arabic ILL was also an outlink\n",
    "- make a table with all of this information\n",
    "\n",
    "1. Get Data\n",
    "2. Make List of all the Unique Outlinks for Comparison\n",
    "3. Get the ILLs and sort them"
   ]
  },
  {
   "cell_type": "code",
   "execution_count": 1,
   "id": "b74c59a1",
   "metadata": {},
   "outputs": [],
   "source": [
    "import numpy as np\n",
    "import pandas as pd\n",
    "import wikifunctions as wf #Brian's stuff\n",
    "from urllib.parse import unquote\n",
    "import pickle"
   ]
  },
  {
   "cell_type": "markdown",
   "id": "5cf9b5a3",
   "metadata": {},
   "source": [
    "## 1- Get Data"
   ]
  },
  {
   "cell_type": "markdown",
   "id": "6ab31d48",
   "metadata": {},
   "source": [
    "### English"
   ]
  },
  {
   "cell_type": "code",
   "execution_count": 2,
   "id": "49fd4025",
   "metadata": {},
   "outputs": [],
   "source": [
    "#open the English revision outlinks with a revision id\n",
    "\n",
    "with open('../Data/00_en_as_rev_outlinks_m.pkl', 'rb') as f:\n",
    "    data = pickle.load(f)\n",
    "    \n",
    "result_series = pd.Series(data)"
   ]
  },
  {
   "cell_type": "code",
   "execution_count": 6,
   "id": "45b1c34a",
   "metadata": {},
   "outputs": [],
   "source": [
    "# result_series.keys"
   ]
  },
  {
   "cell_type": "code",
   "execution_count": 4,
   "id": "1c01faea",
   "metadata": {},
   "outputs": [],
   "source": [
    "#get rid of duplicates in each outlinks list\n",
    "#english\n",
    "outlinksUnique = {}\n",
    "keys = result_series.keys()\n",
    "\n",
    "for i in keys:\n",
    "    outlinksUnique[i] = np.unique(result_series[i]).tolist()"
   ]
  },
  {
   "cell_type": "code",
   "execution_count": 7,
   "id": "67f17b5e",
   "metadata": {},
   "outputs": [],
   "source": [
    "# outlinksUnique.keys()"
   ]
  },
  {
   "cell_type": "markdown",
   "id": "4e4175f8",
   "metadata": {},
   "source": [
    "### Arabic"
   ]
  },
  {
   "cell_type": "code",
   "execution_count": 8,
   "id": "fe3c106e",
   "metadata": {},
   "outputs": [],
   "source": [
    "#open the English revision outlinks with a revision id\n",
    "\n",
    "with open('../Data/00_ar_as_rev_outlinks_m.pkl', 'rb') as f:\n",
    "    ar_data = pickle.load(f)\n",
    "    \n",
    "ar_result_series = pd.Series(ar_data)"
   ]
  },
  {
   "cell_type": "code",
   "execution_count": 11,
   "id": "1c2461e0",
   "metadata": {},
   "outputs": [],
   "source": [
    "# ar_result_series"
   ]
  },
  {
   "cell_type": "markdown",
   "id": "6740f4b1",
   "metadata": {},
   "source": []
  },
  {
   "cell_type": "code",
   "execution_count": 10,
   "id": "98b5829d",
   "metadata": {},
   "outputs": [],
   "source": [
    "#arabic\n",
    "ar_outlinksUnique = {}\n",
    "ar_keys = ar_result_series.keys()\n",
    "\n",
    "for i in ar_keys:\n",
    "    ar_outlinksUnique[i] = np.unique(ar_result_series[i]).tolist()"
   ]
  },
  {
   "cell_type": "code",
   "execution_count": 13,
   "id": "584321d3",
   "metadata": {},
   "outputs": [],
   "source": [
    "# ar_outlinksUnique.keys()"
   ]
  },
  {
   "cell_type": "markdown",
   "id": "86df5c26",
   "metadata": {},
   "source": [
    "## 2 - Make List of all the Unique Outlinks for Comparison"
   ]
  },
  {
   "cell_type": "code",
   "execution_count": null,
   "id": "eda10949",
   "metadata": {},
   "outputs": [],
   "source": [
    "import itertools\n",
    "\n",
    "def merge(*lists):\n",
    "    newlist = []\n",
    "    for i in lists:\n",
    "            newlist.extend(i)\n",
    "    return newlist"
   ]
  },
  {
   "cell_type": "markdown",
   "id": "cee10ffe",
   "metadata": {},
   "source": [
    "### English"
   ]
  },
  {
   "cell_type": "code",
   "execution_count": 15,
   "id": "ac699062",
   "metadata": {},
   "outputs": [
    {
     "data": {
      "text/plain": [
       "848"
      ]
     },
     "execution_count": 15,
     "metadata": {},
     "output_type": "execute_result"
    }
   ],
   "source": [
    "everyOutlink = merge(outlinksUnique.values()) #makes lists of lists\n",
    "everyOutlink = list(itertools.chain.from_iterable(everyOutlink)) #puts them all in one list\n",
    "everyOutlink = np.unique(everyOutlink).tolist() #a list of alphabetized unique outlinks\n",
    "\n",
    "len(everyOutlink)"
   ]
  },
  {
   "cell_type": "code",
   "execution_count": 16,
   "id": "3ff2e122",
   "metadata": {},
   "outputs": [
    {
     "data": {
      "text/plain": [
       "402"
      ]
     },
     "execution_count": 16,
     "metadata": {},
     "output_type": "execute_result"
    }
   ],
   "source": [
    "ar_everyOutlink = merge(ar_outlinksUnique.values()) #makes lists of lists\n",
    "ar_everyOutlink = list(itertools.chain.from_iterable(ar_everyOutlink)) #puts them all in one list\n",
    "ar_everyOutlink = np.unique(ar_everyOutlink).tolist() #a list of alphabetized unique outlinks\n",
    "\n",
    "len(ar_everyOutlink)"
   ]
  },
  {
   "cell_type": "markdown",
   "id": "1f8ea8ed",
   "metadata": {},
   "source": []
  },
  {
   "cell_type": "markdown",
   "id": "126daa18",
   "metadata": {},
   "source": [
    "## 3- Get ILLs"
   ]
  },
  {
   "cell_type": "markdown",
   "id": "40df3cba",
   "metadata": {},
   "source": [
    "### English"
   ]
  },
  {
   "cell_type": "code",
   "execution_count": 17,
   "id": "0e049b25",
   "metadata": {},
   "outputs": [],
   "source": [
    "#get ILLs\n",
    "onlyEnNoILL = [] #a list of english links - this is an En ILL but no arabic ILL \n",
    "enOutarILL = [] #a list of english links - there is an arILL in out_ar_lyst_clean\n",
    "onlyEn = [] #a list of english links- that have an arabic out link but it is not in in out_ar_lyst_clean"
   ]
  },
  {
   "cell_type": "markdown",
   "id": "5eaab257",
   "metadata": {},
   "source": [
    "make functions"
   ]
  },
  {
   "cell_type": "code",
   "execution_count": 18,
   "id": "a7fcaff1",
   "metadata": {},
   "outputs": [],
   "source": [
    "#gets all of the arabic ILL for english outlinks\n",
    "#first in English, second in Arabic\n",
    "\n",
    "def seeIfnoILL(out_en_lyst_clean):\n",
    "    #if there is one it is added to:\n",
    "    arILLforEnOutlinks = []\n",
    "\n",
    "    #if there isn't one it is added to: \n",
    "    onlyEnNoILL = [] \n",
    "\n",
    "    for enOut in out_en_lyst_clean:\n",
    "        ILL = wf.get_interlanguage_links(enOut)\n",
    "        try:\n",
    "            arILL = ILL['ar']\n",
    "            arILLforEnOutlinks.append(arILL)\n",
    "            #print(arILL)\n",
    "        except KeyError as ke:\n",
    "            #print(enOut)\n",
    "            onlyEnNoILL.append(enOut) #no arabic ILL \n",
    "            \n",
    "    return onlyEnNoILL, arILLforEnOutlinks"
   ]
  },
  {
   "cell_type": "code",
   "execution_count": 19,
   "id": "56e1d4b9",
   "metadata": {},
   "outputs": [],
   "source": [
    "#checks to see if the arabic ILLs are in the outlinks of the arabic page\n",
    "#returns things in English\n",
    "\n",
    "def seeRelatedtoAR(arILLforEnOutlinks, out_ar_lyst_clean):\n",
    "    #if they are add it to: \n",
    "    enOutarILL = []\n",
    "    enOutarILL_arabic = []\n",
    "\n",
    "    #if the arabic ILL is not referenced also in the arabic page add it to\n",
    "    onlyEn = []\n",
    "    onlyEn_english = []\n",
    "\n",
    "\n",
    "    for arOut in arILLforEnOutlinks: #goes through all of the arabic outlinks\n",
    "        ILL = wf.get_interlanguage_links(arOut, 'ar.wikipedia.org/w/api.php' )\n",
    "        #print(ILL)\n",
    "        enILL = ILL['en'] #goes backward to the english ILL\n",
    "\n",
    "        if arOut in out_ar_lyst_clean: #there is arILL in the arabic outlinks \n",
    "            enOutarILL.append(enILL)\n",
    "            enOutarILL_arabic.append(arOut)\n",
    "\n",
    "        else:\n",
    "            onlyEn.append(arOut) #this is if it has an arILl but it isn't in the outlinks\n",
    "            onlyEn_english.append(enILL)\n",
    "    return onlyEn_english, enOutarILL"
   ]
  },
  {
   "cell_type": "code",
   "execution_count": null,
   "id": "ee8b6161",
   "metadata": {},
   "outputs": [],
   "source": []
  },
  {
   "cell_type": "markdown",
   "id": "9a5db58b",
   "metadata": {},
   "source": [
    "run functions"
   ]
  },
  {
   "cell_type": "code",
   "execution_count": 20,
   "id": "d4c995c1",
   "metadata": {},
   "outputs": [],
   "source": [
    "ILLdict = pd.DataFrame(columns = ['NoILL its only in English','only in English AS', 'shared'])#, index=outlinksUnique.values)\n",
    "keys = outlinksUnique.keys()"
   ]
  },
  {
   "cell_type": "code",
   "execution_count": 21,
   "id": "b2e06c2b",
   "metadata": {},
   "outputs": [],
   "source": [
    "for i in keys:\n",
    "    lyst = [] #sets up list to add as a row\n",
    "\n",
    "    onlyEnNoILL, arILLforEnOutlinks = seeIfnoILL(outlinksUnique[i])\n",
    "    onlyEn_english, enOutarILL = seeRelatedtoAR(arILLforEnOutlinks, ar_everyOutlink)\n",
    "\n",
    "    lyst = [len(onlyEnNoILL), len(onlyEn_english), len(enOutarILL)]\n",
    "    ILLdict.loc[len(ILLdict)] = lyst #this does not bring over \n",
    "\n",
    "    "
   ]
  },
  {
   "cell_type": "code",
   "execution_count": 22,
   "id": "6fbe4e7a",
   "metadata": {},
   "outputs": [
    {
     "data": {
      "text/html": [
       "<div>\n",
       "<style scoped>\n",
       "    .dataframe tbody tr th:only-of-type {\n",
       "        vertical-align: middle;\n",
       "    }\n",
       "\n",
       "    .dataframe tbody tr th {\n",
       "        vertical-align: top;\n",
       "    }\n",
       "\n",
       "    .dataframe thead th {\n",
       "        text-align: right;\n",
       "    }\n",
       "</style>\n",
       "<table border=\"1\" class=\"dataframe\">\n",
       "  <thead>\n",
       "    <tr style=\"text-align: right;\">\n",
       "      <th></th>\n",
       "      <th>NoILL its only in English</th>\n",
       "      <th>only in English AS</th>\n",
       "      <th>shared</th>\n",
       "    </tr>\n",
       "  </thead>\n",
       "  <tbody>\n",
       "    <tr>\n",
       "      <th>0</th>\n",
       "      <td>0</td>\n",
       "      <td>6</td>\n",
       "      <td>5</td>\n",
       "    </tr>\n",
       "    <tr>\n",
       "      <th>1</th>\n",
       "      <td>2</td>\n",
       "      <td>58</td>\n",
       "      <td>15</td>\n",
       "    </tr>\n",
       "    <tr>\n",
       "      <th>2</th>\n",
       "      <td>10</td>\n",
       "      <td>207</td>\n",
       "      <td>39</td>\n",
       "    </tr>\n",
       "    <tr>\n",
       "      <th>3</th>\n",
       "      <td>11</td>\n",
       "      <td>161</td>\n",
       "      <td>42</td>\n",
       "    </tr>\n",
       "    <tr>\n",
       "      <th>4</th>\n",
       "      <td>11</td>\n",
       "      <td>195</td>\n",
       "      <td>46</td>\n",
       "    </tr>\n",
       "  </tbody>\n",
       "</table>\n",
       "</div>"
      ],
      "text/plain": [
       "   NoILL its only in English  only in English AS  shared\n",
       "0                          0                   6       5\n",
       "1                          2                  58      15\n",
       "2                         10                 207      39\n",
       "3                         11                 161      42\n",
       "4                         11                 195      46"
      ]
     },
     "execution_count": 22,
     "metadata": {},
     "output_type": "execute_result"
    }
   ],
   "source": [
    "ILLdict.head()"
   ]
  },
  {
   "cell_type": "code",
   "execution_count": 23,
   "id": "8322c7ed",
   "metadata": {},
   "outputs": [],
   "source": [
    "import pickle\n",
    "\n",
    "with open('ILLdf_en.pkl', 'wb') as f:\n",
    "    pickle.dump(ILLdict, f)"
   ]
  },
  {
   "cell_type": "code",
   "execution_count": null,
   "id": "fae2e64d",
   "metadata": {},
   "outputs": [],
   "source": []
  },
  {
   "cell_type": "code",
   "execution_count": null,
   "id": "69535575",
   "metadata": {},
   "outputs": [],
   "source": []
  },
  {
   "cell_type": "code",
   "execution_count": null,
   "id": "3a2c212b",
   "metadata": {},
   "outputs": [],
   "source": []
  },
  {
   "cell_type": "code",
   "execution_count": null,
   "id": "22b83e56",
   "metadata": {},
   "outputs": [],
   "source": []
  },
  {
   "cell_type": "markdown",
   "id": "4a345acf",
   "metadata": {},
   "source": [
    "#### Arabic"
   ]
  },
  {
   "cell_type": "markdown",
   "id": "c188ab1f",
   "metadata": {},
   "source": [
    "make functions"
   ]
  },
  {
   "cell_type": "code",
   "execution_count": null,
   "id": "9b94a65a",
   "metadata": {},
   "outputs": [],
   "source": []
  },
  {
   "cell_type": "code",
   "execution_count": 15,
   "id": "43996478",
   "metadata": {},
   "outputs": [],
   "source": [
    "#gets all of the english translations of the outlinks\n",
    "\n",
    "def ar_seeIfnoILL(out_ar_lyst_clean):\n",
    "    #if there is an english ILL\n",
    "    enILLforArOutlinks = []\n",
    "    #if there isn't one it is added to: \n",
    "    onlyArNoILL = [] \n",
    "\n",
    "    for arOut in out_ar_lyst_clean: #goes throguh all the arabic outlines\n",
    "        ILL = wf.get_interlanguage_links(arOut, endpoint='ar.wikipedia.org/w/api.php')\n",
    "        try:\n",
    "            enILL = ILL['en']\n",
    "            enILLforArOutlinks.append(enILL) #gets english ILL\n",
    "            #print(enILL)\n",
    "        except KeyError as ke:\n",
    "            onlyArNoILL.append(arOut) #no english ILL \n",
    "            \n",
    "    return onlyArNoILL, enILLforArOutlinks \n",
    "\n"
   ]
  },
  {
   "cell_type": "code",
   "execution_count": 16,
   "id": "b97803c5",
   "metadata": {},
   "outputs": [],
   "source": [
    "#if they are add it to: \n",
    "\n",
    "\n",
    "def seeRelatedtoEN(enILLforArOutlinks, out_en_lyst_clean):\n",
    "    arOutenILL = []\n",
    "    arOutenILL_english = []\n",
    "\n",
    "    #if the english ILL is not referenced also in the arabic page add it to\n",
    "    onlyAr = []\n",
    "    onlyAr_arabic = []\n",
    "\n",
    "    for enOut in enILLforArOutlinks: #goes through all the ones with ILLs in english\n",
    "        ILL = wf.get_interlanguage_links(enOut, endpoint='ar.wikipedia.org/w/api.php')\n",
    "        #print(enOut)\n",
    "        arILL = ILL['ar'] #translates them back to arabic\n",
    "        #print(arILL)\n",
    "\n",
    "        if enOut in out_en_lyst_clean: #there is enILL in the english outlinks \n",
    "            arOutenILL.append(arILL) #adds the arabic version\n",
    "            arOutenILL_english.append(enOut) #keept the english version\n",
    "\n",
    "        else:\n",
    "            onlyAr.append(enOut) #this is if it has an arILl but it isn't in the outlinks\n",
    "            onlyAr_arabic.append(arILL)\n",
    "            \n",
    "    return onlyAr, arOutenILL #onlyEn_english, enOutarILL"
   ]
  },
  {
   "cell_type": "markdown",
   "id": "b6120977",
   "metadata": {},
   "source": [
    "run it"
   ]
  },
  {
   "cell_type": "code",
   "execution_count": 17,
   "id": "9d77c327",
   "metadata": {},
   "outputs": [],
   "source": [
    "ar_ILLdict = pd.DataFrame(columns = ['NoILL its only in Arabic','only in Arabic AS', 'shared'])#, index=outlinksUnique.values)\n",
    "ar_keys = ar_outlinksUnique.keys()"
   ]
  },
  {
   "cell_type": "code",
   "execution_count": 32,
   "id": "42fd7c1c",
   "metadata": {},
   "outputs": [
    {
     "name": "stderr",
     "output_type": "stream",
     "text": [
      "  1%|▌                                          | 2/144 [00:46<55:36, 23.49s/it]\n"
     ]
    },
    {
     "ename": "KeyboardInterrupt",
     "evalue": "",
     "output_type": "error",
     "traceback": [
      "\u001b[0;31m---------------------------------------------------------------------------\u001b[0m",
      "\u001b[0;31mKeyboardInterrupt\u001b[0m                         Traceback (most recent call last)",
      "Cell \u001b[0;32mIn[32], line 11\u001b[0m\n\u001b[1;32m      8\u001b[0m \u001b[38;5;28;01mfor\u001b[39;00m i \u001b[38;5;129;01min\u001b[39;00m tqdm(ar_keys):\n\u001b[1;32m      9\u001b[0m     lyst \u001b[38;5;241m=\u001b[39m [] \u001b[38;5;66;03m#sets up list to add as a row\u001b[39;00m\n\u001b[0;32m---> 11\u001b[0m     onlyArNoILL, enILLforArOutlinks  \u001b[38;5;241m=\u001b[39m \u001b[43mar_seeIfnoILL\u001b[49m\u001b[43m(\u001b[49m\u001b[43mar_outlinksUnique\u001b[49m\u001b[43m[\u001b[49m\u001b[43mi\u001b[49m\u001b[43m]\u001b[49m\u001b[43m)\u001b[49m\n\u001b[1;32m     12\u001b[0m     onlyAr, arOutenILL \u001b[38;5;241m=\u001b[39m seeRelatedtoEN(enILLforArOutlinks, everyOutlink)\n\u001b[1;32m     14\u001b[0m     lyst \u001b[38;5;241m=\u001b[39m [\u001b[38;5;28mlen\u001b[39m(onlyArNoILL), \u001b[38;5;28mlen\u001b[39m(onlyAr), \u001b[38;5;28mlen\u001b[39m(arOutenILL)]\n",
      "Cell \u001b[0;32mIn[15], line 10\u001b[0m, in \u001b[0;36mar_seeIfnoILL\u001b[0;34m(out_ar_lyst_clean)\u001b[0m\n\u001b[1;32m      7\u001b[0m onlyArNoILL \u001b[38;5;241m=\u001b[39m [] \n\u001b[1;32m      9\u001b[0m \u001b[38;5;28;01mfor\u001b[39;00m arOut \u001b[38;5;129;01min\u001b[39;00m out_ar_lyst_clean: \u001b[38;5;66;03m#goes throguh all the arabic outlines\u001b[39;00m\n\u001b[0;32m---> 10\u001b[0m     ILL \u001b[38;5;241m=\u001b[39m \u001b[43mwf\u001b[49m\u001b[38;5;241;43m.\u001b[39;49m\u001b[43mget_interlanguage_links\u001b[49m\u001b[43m(\u001b[49m\u001b[43marOut\u001b[49m\u001b[43m,\u001b[49m\u001b[43m \u001b[49m\u001b[43mendpoint\u001b[49m\u001b[38;5;241;43m=\u001b[39;49m\u001b[38;5;124;43m'\u001b[39;49m\u001b[38;5;124;43mar.wikipedia.org/w/api.php\u001b[39;49m\u001b[38;5;124;43m'\u001b[39;49m\u001b[43m)\u001b[49m\n\u001b[1;32m     11\u001b[0m     \u001b[38;5;28;01mtry\u001b[39;00m:\n\u001b[1;32m     12\u001b[0m         enILL \u001b[38;5;241m=\u001b[39m ILL[\u001b[38;5;124m'\u001b[39m\u001b[38;5;124men\u001b[39m\u001b[38;5;124m'\u001b[39m]\n",
      "File \u001b[0;32m~/Library/CloudStorage/Dropbox/Laurie Jones/4_CMArabSpring/Analysis3_Interlanguage link alignment process/wikifunctions.py:747\u001b[0m, in \u001b[0;36mget_interlanguage_links\u001b[0;34m(page_title, endpoint, redirects)\u001b[0m\n\u001b[1;32m    745\u001b[0m query_params[\u001b[38;5;124m'\u001b[39m\u001b[38;5;124mformat\u001b[39m\u001b[38;5;124m'\u001b[39m] \u001b[38;5;241m=\u001b[39m \u001b[38;5;124m'\u001b[39m\u001b[38;5;124mjson\u001b[39m\u001b[38;5;124m'\u001b[39m\n\u001b[1;32m    746\u001b[0m query_params[\u001b[38;5;124m'\u001b[39m\u001b[38;5;124mformatversion\u001b[39m\u001b[38;5;124m'\u001b[39m] \u001b[38;5;241m=\u001b[39m \u001b[38;5;241m2\u001b[39m\n\u001b[0;32m--> 747\u001b[0m json_response \u001b[38;5;241m=\u001b[39m \u001b[43mrequests\u001b[49m\u001b[38;5;241;43m.\u001b[39;49m\u001b[43mget\u001b[49m\u001b[43m(\u001b[49m\u001b[43murl\u001b[49m\u001b[38;5;241;43m=\u001b[39;49m\u001b[43mquery_url\u001b[49m\u001b[43m,\u001b[49m\u001b[43mparams\u001b[49m\u001b[38;5;241;43m=\u001b[39;49m\u001b[43mquery_params\u001b[49m\u001b[43m)\u001b[49m\u001b[38;5;241m.\u001b[39mjson()\n\u001b[1;32m    749\u001b[0m interlanguage_link_dict \u001b[38;5;241m=\u001b[39m \u001b[38;5;28mdict\u001b[39m()\n\u001b[1;32m    750\u001b[0m start_lang \u001b[38;5;241m=\u001b[39m endpoint\u001b[38;5;241m.\u001b[39msplit(\u001b[38;5;124m'\u001b[39m\u001b[38;5;124m.\u001b[39m\u001b[38;5;124m'\u001b[39m)[\u001b[38;5;241m0\u001b[39m]\n",
      "File \u001b[0;32m~/opt/anaconda3/lib/python3.8/site-packages/requests/api.py:73\u001b[0m, in \u001b[0;36mget\u001b[0;34m(url, params, **kwargs)\u001b[0m\n\u001b[1;32m     62\u001b[0m \u001b[38;5;28;01mdef\u001b[39;00m \u001b[38;5;21mget\u001b[39m(url, params\u001b[38;5;241m=\u001b[39m\u001b[38;5;28;01mNone\u001b[39;00m, \u001b[38;5;241m*\u001b[39m\u001b[38;5;241m*\u001b[39mkwargs):\n\u001b[1;32m     63\u001b[0m \u001b[38;5;250m    \u001b[39m\u001b[38;5;124mr\u001b[39m\u001b[38;5;124;03m\"\"\"Sends a GET request.\u001b[39;00m\n\u001b[1;32m     64\u001b[0m \n\u001b[1;32m     65\u001b[0m \u001b[38;5;124;03m    :param url: URL for the new :class:`Request` object.\u001b[39;00m\n\u001b[0;32m   (...)\u001b[0m\n\u001b[1;32m     70\u001b[0m \u001b[38;5;124;03m    :rtype: requests.Response\u001b[39;00m\n\u001b[1;32m     71\u001b[0m \u001b[38;5;124;03m    \"\"\"\u001b[39;00m\n\u001b[0;32m---> 73\u001b[0m     \u001b[38;5;28;01mreturn\u001b[39;00m \u001b[43mrequest\u001b[49m\u001b[43m(\u001b[49m\u001b[38;5;124;43m\"\u001b[39;49m\u001b[38;5;124;43mget\u001b[39;49m\u001b[38;5;124;43m\"\u001b[39;49m\u001b[43m,\u001b[49m\u001b[43m \u001b[49m\u001b[43murl\u001b[49m\u001b[43m,\u001b[49m\u001b[43m \u001b[49m\u001b[43mparams\u001b[49m\u001b[38;5;241;43m=\u001b[39;49m\u001b[43mparams\u001b[49m\u001b[43m,\u001b[49m\u001b[43m \u001b[49m\u001b[38;5;241;43m*\u001b[39;49m\u001b[38;5;241;43m*\u001b[39;49m\u001b[43mkwargs\u001b[49m\u001b[43m)\u001b[49m\n",
      "File \u001b[0;32m~/opt/anaconda3/lib/python3.8/site-packages/requests/api.py:59\u001b[0m, in \u001b[0;36mrequest\u001b[0;34m(method, url, **kwargs)\u001b[0m\n\u001b[1;32m     55\u001b[0m \u001b[38;5;66;03m# By using the 'with' statement we are sure the session is closed, thus we\u001b[39;00m\n\u001b[1;32m     56\u001b[0m \u001b[38;5;66;03m# avoid leaving sockets open which can trigger a ResourceWarning in some\u001b[39;00m\n\u001b[1;32m     57\u001b[0m \u001b[38;5;66;03m# cases, and look like a memory leak in others.\u001b[39;00m\n\u001b[1;32m     58\u001b[0m \u001b[38;5;28;01mwith\u001b[39;00m sessions\u001b[38;5;241m.\u001b[39mSession() \u001b[38;5;28;01mas\u001b[39;00m session:\n\u001b[0;32m---> 59\u001b[0m     \u001b[38;5;28;01mreturn\u001b[39;00m \u001b[43msession\u001b[49m\u001b[38;5;241;43m.\u001b[39;49m\u001b[43mrequest\u001b[49m\u001b[43m(\u001b[49m\u001b[43mmethod\u001b[49m\u001b[38;5;241;43m=\u001b[39;49m\u001b[43mmethod\u001b[49m\u001b[43m,\u001b[49m\u001b[43m \u001b[49m\u001b[43murl\u001b[49m\u001b[38;5;241;43m=\u001b[39;49m\u001b[43murl\u001b[49m\u001b[43m,\u001b[49m\u001b[43m \u001b[49m\u001b[38;5;241;43m*\u001b[39;49m\u001b[38;5;241;43m*\u001b[39;49m\u001b[43mkwargs\u001b[49m\u001b[43m)\u001b[49m\n",
      "File \u001b[0;32m~/opt/anaconda3/lib/python3.8/site-packages/requests/sessions.py:589\u001b[0m, in \u001b[0;36mSession.request\u001b[0;34m(self, method, url, params, data, headers, cookies, files, auth, timeout, allow_redirects, proxies, hooks, stream, verify, cert, json)\u001b[0m\n\u001b[1;32m    584\u001b[0m send_kwargs \u001b[38;5;241m=\u001b[39m {\n\u001b[1;32m    585\u001b[0m     \u001b[38;5;124m\"\u001b[39m\u001b[38;5;124mtimeout\u001b[39m\u001b[38;5;124m\"\u001b[39m: timeout,\n\u001b[1;32m    586\u001b[0m     \u001b[38;5;124m\"\u001b[39m\u001b[38;5;124mallow_redirects\u001b[39m\u001b[38;5;124m\"\u001b[39m: allow_redirects,\n\u001b[1;32m    587\u001b[0m }\n\u001b[1;32m    588\u001b[0m send_kwargs\u001b[38;5;241m.\u001b[39mupdate(settings)\n\u001b[0;32m--> 589\u001b[0m resp \u001b[38;5;241m=\u001b[39m \u001b[38;5;28;43mself\u001b[39;49m\u001b[38;5;241;43m.\u001b[39;49m\u001b[43msend\u001b[49m\u001b[43m(\u001b[49m\u001b[43mprep\u001b[49m\u001b[43m,\u001b[49m\u001b[43m \u001b[49m\u001b[38;5;241;43m*\u001b[39;49m\u001b[38;5;241;43m*\u001b[39;49m\u001b[43msend_kwargs\u001b[49m\u001b[43m)\u001b[49m\n\u001b[1;32m    591\u001b[0m \u001b[38;5;28;01mreturn\u001b[39;00m resp\n",
      "File \u001b[0;32m~/opt/anaconda3/lib/python3.8/site-packages/requests/sessions.py:703\u001b[0m, in \u001b[0;36mSession.send\u001b[0;34m(self, request, **kwargs)\u001b[0m\n\u001b[1;32m    700\u001b[0m start \u001b[38;5;241m=\u001b[39m preferred_clock()\n\u001b[1;32m    702\u001b[0m \u001b[38;5;66;03m# Send the request\u001b[39;00m\n\u001b[0;32m--> 703\u001b[0m r \u001b[38;5;241m=\u001b[39m \u001b[43madapter\u001b[49m\u001b[38;5;241;43m.\u001b[39;49m\u001b[43msend\u001b[49m\u001b[43m(\u001b[49m\u001b[43mrequest\u001b[49m\u001b[43m,\u001b[49m\u001b[43m \u001b[49m\u001b[38;5;241;43m*\u001b[39;49m\u001b[38;5;241;43m*\u001b[39;49m\u001b[43mkwargs\u001b[49m\u001b[43m)\u001b[49m\n\u001b[1;32m    705\u001b[0m \u001b[38;5;66;03m# Total elapsed time of the request (approximately)\u001b[39;00m\n\u001b[1;32m    706\u001b[0m elapsed \u001b[38;5;241m=\u001b[39m preferred_clock() \u001b[38;5;241m-\u001b[39m start\n",
      "File \u001b[0;32m~/opt/anaconda3/lib/python3.8/site-packages/requests/adapters.py:486\u001b[0m, in \u001b[0;36mHTTPAdapter.send\u001b[0;34m(self, request, stream, timeout, verify, cert, proxies)\u001b[0m\n\u001b[1;32m    483\u001b[0m     timeout \u001b[38;5;241m=\u001b[39m TimeoutSauce(connect\u001b[38;5;241m=\u001b[39mtimeout, read\u001b[38;5;241m=\u001b[39mtimeout)\n\u001b[1;32m    485\u001b[0m \u001b[38;5;28;01mtry\u001b[39;00m:\n\u001b[0;32m--> 486\u001b[0m     resp \u001b[38;5;241m=\u001b[39m \u001b[43mconn\u001b[49m\u001b[38;5;241;43m.\u001b[39;49m\u001b[43murlopen\u001b[49m\u001b[43m(\u001b[49m\n\u001b[1;32m    487\u001b[0m \u001b[43m        \u001b[49m\u001b[43mmethod\u001b[49m\u001b[38;5;241;43m=\u001b[39;49m\u001b[43mrequest\u001b[49m\u001b[38;5;241;43m.\u001b[39;49m\u001b[43mmethod\u001b[49m\u001b[43m,\u001b[49m\n\u001b[1;32m    488\u001b[0m \u001b[43m        \u001b[49m\u001b[43murl\u001b[49m\u001b[38;5;241;43m=\u001b[39;49m\u001b[43murl\u001b[49m\u001b[43m,\u001b[49m\n\u001b[1;32m    489\u001b[0m \u001b[43m        \u001b[49m\u001b[43mbody\u001b[49m\u001b[38;5;241;43m=\u001b[39;49m\u001b[43mrequest\u001b[49m\u001b[38;5;241;43m.\u001b[39;49m\u001b[43mbody\u001b[49m\u001b[43m,\u001b[49m\n\u001b[1;32m    490\u001b[0m \u001b[43m        \u001b[49m\u001b[43mheaders\u001b[49m\u001b[38;5;241;43m=\u001b[39;49m\u001b[43mrequest\u001b[49m\u001b[38;5;241;43m.\u001b[39;49m\u001b[43mheaders\u001b[49m\u001b[43m,\u001b[49m\n\u001b[1;32m    491\u001b[0m \u001b[43m        \u001b[49m\u001b[43mredirect\u001b[49m\u001b[38;5;241;43m=\u001b[39;49m\u001b[38;5;28;43;01mFalse\u001b[39;49;00m\u001b[43m,\u001b[49m\n\u001b[1;32m    492\u001b[0m \u001b[43m        \u001b[49m\u001b[43massert_same_host\u001b[49m\u001b[38;5;241;43m=\u001b[39;49m\u001b[38;5;28;43;01mFalse\u001b[39;49;00m\u001b[43m,\u001b[49m\n\u001b[1;32m    493\u001b[0m \u001b[43m        \u001b[49m\u001b[43mpreload_content\u001b[49m\u001b[38;5;241;43m=\u001b[39;49m\u001b[38;5;28;43;01mFalse\u001b[39;49;00m\u001b[43m,\u001b[49m\n\u001b[1;32m    494\u001b[0m \u001b[43m        \u001b[49m\u001b[43mdecode_content\u001b[49m\u001b[38;5;241;43m=\u001b[39;49m\u001b[38;5;28;43;01mFalse\u001b[39;49;00m\u001b[43m,\u001b[49m\n\u001b[1;32m    495\u001b[0m \u001b[43m        \u001b[49m\u001b[43mretries\u001b[49m\u001b[38;5;241;43m=\u001b[39;49m\u001b[38;5;28;43mself\u001b[39;49m\u001b[38;5;241;43m.\u001b[39;49m\u001b[43mmax_retries\u001b[49m\u001b[43m,\u001b[49m\n\u001b[1;32m    496\u001b[0m \u001b[43m        \u001b[49m\u001b[43mtimeout\u001b[49m\u001b[38;5;241;43m=\u001b[39;49m\u001b[43mtimeout\u001b[49m\u001b[43m,\u001b[49m\n\u001b[1;32m    497\u001b[0m \u001b[43m        \u001b[49m\u001b[43mchunked\u001b[49m\u001b[38;5;241;43m=\u001b[39;49m\u001b[43mchunked\u001b[49m\u001b[43m,\u001b[49m\n\u001b[1;32m    498\u001b[0m \u001b[43m    \u001b[49m\u001b[43m)\u001b[49m\n\u001b[1;32m    500\u001b[0m \u001b[38;5;28;01mexcept\u001b[39;00m (ProtocolError, \u001b[38;5;167;01mOSError\u001b[39;00m) \u001b[38;5;28;01mas\u001b[39;00m err:\n\u001b[1;32m    501\u001b[0m     \u001b[38;5;28;01mraise\u001b[39;00m \u001b[38;5;167;01mConnectionError\u001b[39;00m(err, request\u001b[38;5;241m=\u001b[39mrequest)\n",
      "File \u001b[0;32m~/opt/anaconda3/lib/python3.8/site-packages/urllib3/connectionpool.py:714\u001b[0m, in \u001b[0;36mHTTPConnectionPool.urlopen\u001b[0;34m(self, method, url, body, headers, retries, redirect, assert_same_host, timeout, pool_timeout, release_conn, chunked, body_pos, **response_kw)\u001b[0m\n\u001b[1;32m    711\u001b[0m     \u001b[38;5;28mself\u001b[39m\u001b[38;5;241m.\u001b[39m_prepare_proxy(conn)\n\u001b[1;32m    713\u001b[0m \u001b[38;5;66;03m# Make the request on the httplib connection object.\u001b[39;00m\n\u001b[0;32m--> 714\u001b[0m httplib_response \u001b[38;5;241m=\u001b[39m \u001b[38;5;28;43mself\u001b[39;49m\u001b[38;5;241;43m.\u001b[39;49m\u001b[43m_make_request\u001b[49m\u001b[43m(\u001b[49m\n\u001b[1;32m    715\u001b[0m \u001b[43m    \u001b[49m\u001b[43mconn\u001b[49m\u001b[43m,\u001b[49m\n\u001b[1;32m    716\u001b[0m \u001b[43m    \u001b[49m\u001b[43mmethod\u001b[49m\u001b[43m,\u001b[49m\n\u001b[1;32m    717\u001b[0m \u001b[43m    \u001b[49m\u001b[43murl\u001b[49m\u001b[43m,\u001b[49m\n\u001b[1;32m    718\u001b[0m \u001b[43m    \u001b[49m\u001b[43mtimeout\u001b[49m\u001b[38;5;241;43m=\u001b[39;49m\u001b[43mtimeout_obj\u001b[49m\u001b[43m,\u001b[49m\n\u001b[1;32m    719\u001b[0m \u001b[43m    \u001b[49m\u001b[43mbody\u001b[49m\u001b[38;5;241;43m=\u001b[39;49m\u001b[43mbody\u001b[49m\u001b[43m,\u001b[49m\n\u001b[1;32m    720\u001b[0m \u001b[43m    \u001b[49m\u001b[43mheaders\u001b[49m\u001b[38;5;241;43m=\u001b[39;49m\u001b[43mheaders\u001b[49m\u001b[43m,\u001b[49m\n\u001b[1;32m    721\u001b[0m \u001b[43m    \u001b[49m\u001b[43mchunked\u001b[49m\u001b[38;5;241;43m=\u001b[39;49m\u001b[43mchunked\u001b[49m\u001b[43m,\u001b[49m\n\u001b[1;32m    722\u001b[0m \u001b[43m\u001b[49m\u001b[43m)\u001b[49m\n\u001b[1;32m    724\u001b[0m \u001b[38;5;66;03m# If we're going to release the connection in ``finally:``, then\u001b[39;00m\n\u001b[1;32m    725\u001b[0m \u001b[38;5;66;03m# the response doesn't need to know about the connection. Otherwise\u001b[39;00m\n\u001b[1;32m    726\u001b[0m \u001b[38;5;66;03m# it will also try to release it and we'll have a double-release\u001b[39;00m\n\u001b[1;32m    727\u001b[0m \u001b[38;5;66;03m# mess.\u001b[39;00m\n\u001b[1;32m    728\u001b[0m response_conn \u001b[38;5;241m=\u001b[39m conn \u001b[38;5;28;01mif\u001b[39;00m \u001b[38;5;129;01mnot\u001b[39;00m release_conn \u001b[38;5;28;01melse\u001b[39;00m \u001b[38;5;28;01mNone\u001b[39;00m\n",
      "File \u001b[0;32m~/opt/anaconda3/lib/python3.8/site-packages/urllib3/connectionpool.py:466\u001b[0m, in \u001b[0;36mHTTPConnectionPool._make_request\u001b[0;34m(self, conn, method, url, timeout, chunked, **httplib_request_kw)\u001b[0m\n\u001b[1;32m    461\u001b[0m             httplib_response \u001b[38;5;241m=\u001b[39m conn\u001b[38;5;241m.\u001b[39mgetresponse()\n\u001b[1;32m    462\u001b[0m         \u001b[38;5;28;01mexcept\u001b[39;00m \u001b[38;5;167;01mBaseException\u001b[39;00m \u001b[38;5;28;01mas\u001b[39;00m e:\n\u001b[1;32m    463\u001b[0m             \u001b[38;5;66;03m# Remove the TypeError from the exception chain in\u001b[39;00m\n\u001b[1;32m    464\u001b[0m             \u001b[38;5;66;03m# Python 3 (including for exceptions like SystemExit).\u001b[39;00m\n\u001b[1;32m    465\u001b[0m             \u001b[38;5;66;03m# Otherwise it looks like a bug in the code.\u001b[39;00m\n\u001b[0;32m--> 466\u001b[0m             \u001b[43msix\u001b[49m\u001b[38;5;241;43m.\u001b[39;49m\u001b[43mraise_from\u001b[49m\u001b[43m(\u001b[49m\u001b[43me\u001b[49m\u001b[43m,\u001b[49m\u001b[43m \u001b[49m\u001b[38;5;28;43;01mNone\u001b[39;49;00m\u001b[43m)\u001b[49m\n\u001b[1;32m    467\u001b[0m \u001b[38;5;28;01mexcept\u001b[39;00m (SocketTimeout, BaseSSLError, SocketError) \u001b[38;5;28;01mas\u001b[39;00m e:\n\u001b[1;32m    468\u001b[0m     \u001b[38;5;28mself\u001b[39m\u001b[38;5;241m.\u001b[39m_raise_timeout(err\u001b[38;5;241m=\u001b[39me, url\u001b[38;5;241m=\u001b[39murl, timeout_value\u001b[38;5;241m=\u001b[39mread_timeout)\n",
      "File \u001b[0;32m<string>:3\u001b[0m, in \u001b[0;36mraise_from\u001b[0;34m(value, from_value)\u001b[0m\n",
      "File \u001b[0;32m~/opt/anaconda3/lib/python3.8/site-packages/urllib3/connectionpool.py:461\u001b[0m, in \u001b[0;36mHTTPConnectionPool._make_request\u001b[0;34m(self, conn, method, url, timeout, chunked, **httplib_request_kw)\u001b[0m\n\u001b[1;32m    458\u001b[0m \u001b[38;5;28;01mexcept\u001b[39;00m \u001b[38;5;167;01mTypeError\u001b[39;00m:\n\u001b[1;32m    459\u001b[0m     \u001b[38;5;66;03m# Python 3\u001b[39;00m\n\u001b[1;32m    460\u001b[0m     \u001b[38;5;28;01mtry\u001b[39;00m:\n\u001b[0;32m--> 461\u001b[0m         httplib_response \u001b[38;5;241m=\u001b[39m \u001b[43mconn\u001b[49m\u001b[38;5;241;43m.\u001b[39;49m\u001b[43mgetresponse\u001b[49m\u001b[43m(\u001b[49m\u001b[43m)\u001b[49m\n\u001b[1;32m    462\u001b[0m     \u001b[38;5;28;01mexcept\u001b[39;00m \u001b[38;5;167;01mBaseException\u001b[39;00m \u001b[38;5;28;01mas\u001b[39;00m e:\n\u001b[1;32m    463\u001b[0m         \u001b[38;5;66;03m# Remove the TypeError from the exception chain in\u001b[39;00m\n\u001b[1;32m    464\u001b[0m         \u001b[38;5;66;03m# Python 3 (including for exceptions like SystemExit).\u001b[39;00m\n\u001b[1;32m    465\u001b[0m         \u001b[38;5;66;03m# Otherwise it looks like a bug in the code.\u001b[39;00m\n\u001b[1;32m    466\u001b[0m         six\u001b[38;5;241m.\u001b[39mraise_from(e, \u001b[38;5;28;01mNone\u001b[39;00m)\n",
      "File \u001b[0;32m~/opt/anaconda3/lib/python3.8/http/client.py:1348\u001b[0m, in \u001b[0;36mHTTPConnection.getresponse\u001b[0;34m(self)\u001b[0m\n\u001b[1;32m   1346\u001b[0m \u001b[38;5;28;01mtry\u001b[39;00m:\n\u001b[1;32m   1347\u001b[0m     \u001b[38;5;28;01mtry\u001b[39;00m:\n\u001b[0;32m-> 1348\u001b[0m         \u001b[43mresponse\u001b[49m\u001b[38;5;241;43m.\u001b[39;49m\u001b[43mbegin\u001b[49m\u001b[43m(\u001b[49m\u001b[43m)\u001b[49m\n\u001b[1;32m   1349\u001b[0m     \u001b[38;5;28;01mexcept\u001b[39;00m \u001b[38;5;167;01mConnectionError\u001b[39;00m:\n\u001b[1;32m   1350\u001b[0m         \u001b[38;5;28mself\u001b[39m\u001b[38;5;241m.\u001b[39mclose()\n",
      "File \u001b[0;32m~/opt/anaconda3/lib/python3.8/http/client.py:316\u001b[0m, in \u001b[0;36mHTTPResponse.begin\u001b[0;34m(self)\u001b[0m\n\u001b[1;32m    314\u001b[0m \u001b[38;5;66;03m# read until we get a non-100 response\u001b[39;00m\n\u001b[1;32m    315\u001b[0m \u001b[38;5;28;01mwhile\u001b[39;00m \u001b[38;5;28;01mTrue\u001b[39;00m:\n\u001b[0;32m--> 316\u001b[0m     version, status, reason \u001b[38;5;241m=\u001b[39m \u001b[38;5;28;43mself\u001b[39;49m\u001b[38;5;241;43m.\u001b[39;49m\u001b[43m_read_status\u001b[49m\u001b[43m(\u001b[49m\u001b[43m)\u001b[49m\n\u001b[1;32m    317\u001b[0m     \u001b[38;5;28;01mif\u001b[39;00m status \u001b[38;5;241m!=\u001b[39m CONTINUE:\n\u001b[1;32m    318\u001b[0m         \u001b[38;5;28;01mbreak\u001b[39;00m\n",
      "File \u001b[0;32m~/opt/anaconda3/lib/python3.8/http/client.py:277\u001b[0m, in \u001b[0;36mHTTPResponse._read_status\u001b[0;34m(self)\u001b[0m\n\u001b[1;32m    276\u001b[0m \u001b[38;5;28;01mdef\u001b[39;00m \u001b[38;5;21m_read_status\u001b[39m(\u001b[38;5;28mself\u001b[39m):\n\u001b[0;32m--> 277\u001b[0m     line \u001b[38;5;241m=\u001b[39m \u001b[38;5;28mstr\u001b[39m(\u001b[38;5;28;43mself\u001b[39;49m\u001b[38;5;241;43m.\u001b[39;49m\u001b[43mfp\u001b[49m\u001b[38;5;241;43m.\u001b[39;49m\u001b[43mreadline\u001b[49m\u001b[43m(\u001b[49m\u001b[43m_MAXLINE\u001b[49m\u001b[43m \u001b[49m\u001b[38;5;241;43m+\u001b[39;49m\u001b[43m \u001b[49m\u001b[38;5;241;43m1\u001b[39;49m\u001b[43m)\u001b[49m, \u001b[38;5;124m\"\u001b[39m\u001b[38;5;124miso-8859-1\u001b[39m\u001b[38;5;124m\"\u001b[39m)\n\u001b[1;32m    278\u001b[0m     \u001b[38;5;28;01mif\u001b[39;00m \u001b[38;5;28mlen\u001b[39m(line) \u001b[38;5;241m>\u001b[39m _MAXLINE:\n\u001b[1;32m    279\u001b[0m         \u001b[38;5;28;01mraise\u001b[39;00m LineTooLong(\u001b[38;5;124m\"\u001b[39m\u001b[38;5;124mstatus line\u001b[39m\u001b[38;5;124m\"\u001b[39m)\n",
      "File \u001b[0;32m~/opt/anaconda3/lib/python3.8/socket.py:669\u001b[0m, in \u001b[0;36mSocketIO.readinto\u001b[0;34m(self, b)\u001b[0m\n\u001b[1;32m    667\u001b[0m \u001b[38;5;28;01mwhile\u001b[39;00m \u001b[38;5;28;01mTrue\u001b[39;00m:\n\u001b[1;32m    668\u001b[0m     \u001b[38;5;28;01mtry\u001b[39;00m:\n\u001b[0;32m--> 669\u001b[0m         \u001b[38;5;28;01mreturn\u001b[39;00m \u001b[38;5;28;43mself\u001b[39;49m\u001b[38;5;241;43m.\u001b[39;49m\u001b[43m_sock\u001b[49m\u001b[38;5;241;43m.\u001b[39;49m\u001b[43mrecv_into\u001b[49m\u001b[43m(\u001b[49m\u001b[43mb\u001b[49m\u001b[43m)\u001b[49m\n\u001b[1;32m    670\u001b[0m     \u001b[38;5;28;01mexcept\u001b[39;00m timeout:\n\u001b[1;32m    671\u001b[0m         \u001b[38;5;28mself\u001b[39m\u001b[38;5;241m.\u001b[39m_timeout_occurred \u001b[38;5;241m=\u001b[39m \u001b[38;5;28;01mTrue\u001b[39;00m\n",
      "File \u001b[0;32m~/opt/anaconda3/lib/python3.8/ssl.py:1241\u001b[0m, in \u001b[0;36mSSLSocket.recv_into\u001b[0;34m(self, buffer, nbytes, flags)\u001b[0m\n\u001b[1;32m   1237\u001b[0m     \u001b[38;5;28;01mif\u001b[39;00m flags \u001b[38;5;241m!=\u001b[39m \u001b[38;5;241m0\u001b[39m:\n\u001b[1;32m   1238\u001b[0m         \u001b[38;5;28;01mraise\u001b[39;00m \u001b[38;5;167;01mValueError\u001b[39;00m(\n\u001b[1;32m   1239\u001b[0m           \u001b[38;5;124m\"\u001b[39m\u001b[38;5;124mnon-zero flags not allowed in calls to recv_into() on \u001b[39m\u001b[38;5;132;01m%s\u001b[39;00m\u001b[38;5;124m\"\u001b[39m \u001b[38;5;241m%\u001b[39m\n\u001b[1;32m   1240\u001b[0m           \u001b[38;5;28mself\u001b[39m\u001b[38;5;241m.\u001b[39m\u001b[38;5;18m__class__\u001b[39m)\n\u001b[0;32m-> 1241\u001b[0m     \u001b[38;5;28;01mreturn\u001b[39;00m \u001b[38;5;28;43mself\u001b[39;49m\u001b[38;5;241;43m.\u001b[39;49m\u001b[43mread\u001b[49m\u001b[43m(\u001b[49m\u001b[43mnbytes\u001b[49m\u001b[43m,\u001b[49m\u001b[43m \u001b[49m\u001b[43mbuffer\u001b[49m\u001b[43m)\u001b[49m\n\u001b[1;32m   1242\u001b[0m \u001b[38;5;28;01melse\u001b[39;00m:\n\u001b[1;32m   1243\u001b[0m     \u001b[38;5;28;01mreturn\u001b[39;00m \u001b[38;5;28msuper\u001b[39m()\u001b[38;5;241m.\u001b[39mrecv_into(buffer, nbytes, flags)\n",
      "File \u001b[0;32m~/opt/anaconda3/lib/python3.8/ssl.py:1099\u001b[0m, in \u001b[0;36mSSLSocket.read\u001b[0;34m(self, len, buffer)\u001b[0m\n\u001b[1;32m   1097\u001b[0m \u001b[38;5;28;01mtry\u001b[39;00m:\n\u001b[1;32m   1098\u001b[0m     \u001b[38;5;28;01mif\u001b[39;00m buffer \u001b[38;5;129;01mis\u001b[39;00m \u001b[38;5;129;01mnot\u001b[39;00m \u001b[38;5;28;01mNone\u001b[39;00m:\n\u001b[0;32m-> 1099\u001b[0m         \u001b[38;5;28;01mreturn\u001b[39;00m \u001b[38;5;28;43mself\u001b[39;49m\u001b[38;5;241;43m.\u001b[39;49m\u001b[43m_sslobj\u001b[49m\u001b[38;5;241;43m.\u001b[39;49m\u001b[43mread\u001b[49m\u001b[43m(\u001b[49m\u001b[38;5;28;43mlen\u001b[39;49m\u001b[43m,\u001b[49m\u001b[43m \u001b[49m\u001b[43mbuffer\u001b[49m\u001b[43m)\u001b[49m\n\u001b[1;32m   1100\u001b[0m     \u001b[38;5;28;01melse\u001b[39;00m:\n\u001b[1;32m   1101\u001b[0m         \u001b[38;5;28;01mreturn\u001b[39;00m \u001b[38;5;28mself\u001b[39m\u001b[38;5;241m.\u001b[39m_sslobj\u001b[38;5;241m.\u001b[39mread(\u001b[38;5;28mlen\u001b[39m)\n",
      "\u001b[0;31mKeyboardInterrupt\u001b[0m: "
     ]
    }
   ],
   "source": [
    "from tqdm import tqdm\n",
    "\n",
    "onlyArNoILL_lyst = []\n",
    "enILLforArOutlinks_lyst = []\n",
    "onlyAr_lyst = []\n",
    "arOutenILL_lyst = []\n",
    "\n",
    "for i in tqdm(ar_keys):\n",
    "    lyst = [] #sets up list to add as a row\n",
    "\n",
    "    onlyArNoILL, enILLforArOutlinks  = ar_seeIfnoILL(ar_outlinksUnique[i])\n",
    "    onlyAr, arOutenILL = seeRelatedtoEN(enILLforArOutlinks, everyOutlink)\n",
    "\n",
    "    lyst = [len(onlyArNoILL), len(onlyAr), len(arOutenILL)]\n",
    "    ar_ILLdict.loc[len(ar_ILLdict)] = lyst #this does not bring over "
   ]
  },
  {
   "cell_type": "code",
   "execution_count": null,
   "id": "2471e150",
   "metadata": {},
   "outputs": [],
   "source": [
    "ar_ILLdict"
   ]
  },
  {
   "cell_type": "code",
   "execution_count": null,
   "id": "67c1ad0c",
   "metadata": {},
   "outputs": [],
   "source": [
    "with open('ILLdf_ar.pkl', 'wb') as f:\n",
    "    pickle.dump(ar_ILLdict, f)"
   ]
  },
  {
   "cell_type": "code",
   "execution_count": null,
   "id": "7065cef8",
   "metadata": {},
   "outputs": [],
   "source": []
  },
  {
   "cell_type": "code",
   "execution_count": null,
   "id": "b7fb973c",
   "metadata": {},
   "outputs": [],
   "source": []
  },
  {
   "cell_type": "code",
   "execution_count": null,
   "id": "e8b1de55",
   "metadata": {},
   "outputs": [],
   "source": []
  }
 ],
 "metadata": {
  "kernelspec": {
   "display_name": "Python 3",
   "language": "python",
   "name": "python3"
  },
  "language_info": {
   "codemirror_mode": {
    "name": "ipython",
    "version": 3
   },
   "file_extension": ".py",
   "mimetype": "text/x-python",
   "name": "python",
   "nbconvert_exporter": "python",
   "pygments_lexer": "ipython3",
   "version": "3.8.7"
  }
 },
 "nbformat": 4,
 "nbformat_minor": 5
}
